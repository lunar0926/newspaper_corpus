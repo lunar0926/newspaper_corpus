{
 "cells": [
  {
   "cell_type": "markdown",
   "metadata": {},
   "source": [
    "pip install -r requirements.txt (가상환경에 이미 설치됨)\n",
    "\n",
    "주피터노트북 커널 연결(python -m ipykernel install --user --name myenv --display-name corpus)\n",
    "\n",
    "한글 폰트(주피터랩 자체를 다시 켜야지 폰트 적용되는 것 같음.)\n",
    "\n",
    "apt-get update\n",
    "\n",
    "apt-get install -y fonts-nanum"
   ]
  },
  {
   "cell_type": "markdown",
   "metadata": {},
   "source": [
    "# bareun download(bareunpy-1.6.6)"
   ]
  },
  {
   "cell_type": "code",
   "execution_count": null,
   "metadata": {
    "colab": {
     "base_uri": "https://localhost:8080/"
    },
    "id": "yoyUMMwocSKm",
    "outputId": "4674971a-e827-4f6d-8edd-a8d4aafa1de6"
   },
   "outputs": [],
   "source": [
    "# 바른 형태소 분석기 리눅스 설치\n",
    "!curl -LJks -H \"uname:$(uname -a)\" https://bareun.ai/api/get -o bareun-linux.deb"
   ]
  },
  {
   "cell_type": "code",
   "execution_count": null,
   "metadata": {
    "colab": {
     "base_uri": "https://localhost:8080/"
    },
    "id": "oId7EDuCdYQX",
    "outputId": "f2fb72a1-303f-42e1-b3ad-69e0eaa0723a"
   },
   "outputs": [],
   "source": [
    "# 설치\n",
    "!uname -a\n",
    "!dpkg -i bareun-linux.deb"
   ]
  },
  {
   "cell_type": "code",
   "execution_count": null,
   "metadata": {
    "colab": {
     "base_uri": "https://localhost:8080/"
    },
    "id": "g9Ik9idOfBJy",
    "outputId": "cd158d2b-abd4-4dbc-f7ad-fd0022505c16"
   },
   "outputs": [],
   "source": [
    "!BAREUN_ROOT=\"/opt/bareun\" LD_LIBRARY_PATH=\"/opt/bareun/lib\" /opt/bareun/bin/bareun -reg koba-VAD6MMA-BFSU7XI-SYQYWYY-Y4MXHVA"
   ]
  },
  {
   "cell_type": "code",
   "execution_count": null,
   "metadata": {
    "colab": {
     "base_uri": "https://localhost:8080/"
    },
    "id": "u_0IDJNBddrK",
    "outputId": "1254d6b9-9f7b-4285-fe6f-638a969b933c"
   },
   "outputs": [],
   "source": [
    "# 실행 정보\n",
    "!ps -ef | grep bareun"
   ]
  },
  {
   "cell_type": "markdown",
   "metadata": {},
   "source": [
    "# library"
   ]
  },
  {
   "cell_type": "code",
   "execution_count": null,
   "metadata": {},
   "outputs": [],
   "source": [
    "import bareunpy as brn\n",
    "import google.protobuf.text_format as tf\n",
    "import sys\n",
    "import tqdm\n",
    "import pandas as pd\n",
    "import pyarrow\n",
    "import fastparquet"
   ]
  },
  {
   "cell_type": "markdown",
   "metadata": {},
   "source": [
    "# bareun test"
   ]
  },
  {
   "cell_type": "code",
   "execution_count": null,
   "metadata": {
    "colab": {
     "base_uri": "https://localhost:8080/"
    },
    "id": "exI9llpleLJb",
    "outputId": "93a04b48-ac62-451a-95b9-958d199c938d",
    "scrolled": true
   },
   "outputs": [],
   "source": [
    "# 아래에 \"https://bareun.ai/\"에서 이메일 인증 후 발급받은 API KEY(\"koba-...\")를 입력해주세요. \"로그인-내정보 확인\"\n",
    "API_KEY = \"koba-VAD6MMA-BFSU7XI-SYQYWYY-Y4MXHVA\" # <- 본인의 API KEY로 교체\n",
    "t = brn.Tagger(API_KEY, \"localhost\", 5656) # tagger는 변수 t에 할당\n",
    "res = t.tags([\"안녕하세요. 정말 좋은 날씨네요.\"]) # t.tags()에 리스트로 한 문장을 입력\n",
    "m = res.msg() # 분석 결과를 객체로 저장하여 변수 m에 할당\n",
    "\n",
    "tf.PrintMessage(m, out=sys.stdout, as_utf8=True) # 분석 결과 객체 m을 가독성 좋게 표시."
   ]
  },
  {
   "cell_type": "markdown",
   "metadata": {},
   "source": [
    "# 데이터 확인"
   ]
  },
  {
   "cell_type": "code",
   "execution_count": null,
   "metadata": {},
   "outputs": [],
   "source": [
    "def tag_sentences_with_bareun(df, api_key, host='localhost', port=5656):\n",
    "    # Bareun Tagger 초기화\n",
    "    t = brn.Tagger(api_key, host, port)\n",
    "\n",
    "    # 총 문장 수 출력\n",
    "    print(f\"Total number of sentences to tag: {len(df)}\")\n",
    "    \n",
    "    # 각 문장 태깅 함수\n",
    "    def tag_sentence(sentence):\n",
    "      try:\n",
    "          res = t.tags([sentence])\n",
    "          return list(res.pos())\n",
    "      except Exception as e:\n",
    "          print(f\"Error tagging sentence: {sentence}\")\n",
    "          print(f\"Error: {e}\")\n",
    "          return []\n",
    "\n",
    "    tagged_sentences = []\n",
    "    for sentence in tqdm.tqdm(df['sentence'], desc=\"Tagging Sentences\", mininterval=10):\n",
    "        tagged_sentences.append(tag_sentence(sentence))\n",
    "    \n",
    "    # 새로운 'tagged_sentence' 열 추가\n",
    "    df['tagged_sentence'] = tagged_sentences\n",
    "    \n",
    "    return df"
   ]
  },
  {
   "cell_type": "code",
   "execution_count": 19,
   "metadata": {},
   "outputs": [],
   "source": [
    "df = pd.read_parquet('/workspace/NIKL_NEWSPAPER_PARQUET/NIKL_NEWSPAPER_37.parquet')"
   ]
  },
  {
   "cell_type": "code",
   "execution_count": 25,
   "metadata": {},
   "outputs": [],
   "source": [
    "# NoneType에 해당하는 행은 제외\n",
    "df = df[df['sentence'].notnull()]"
   ]
  },
  {
   "cell_type": "code",
   "execution_count": 33,
   "metadata": {},
   "outputs": [
    {
     "data": {
      "text/plain": [
       "'분류        수사 대상자        혐의        처리 결과                      문건 관련(피고소인)        유아무개씨 (ㅎ기획사 대표)        출판물에 의한 명예훼손        불구속 입건                      <한국방송> 기자 2명        사자 명예훼손        무혐의                                     성상납의혹        김아무개씨(장자연씨 소속사 대표)        강요·폭행 등        기소중지                                     유력인사(피고소인)        <조선일보> 고위임원        강요죄 공범        무혐의                      금융인 ㄱ씨        강요죄 공범        참고인 중지                      기업인 ㄴ씨        강요죄 공범        참고인 중지                                     장자연 문건 등장 인물        언론인 ㄷ씨 (<조선일보> 고위임원 아들)        강요죄 공범        내사중지                      드라마 감독 3명        강요죄 공범        내사중지                      드라마 감독 1명        강요죄 공범        혐의 없음                                     수사로밝혀낸새인물(8명)        드라마 감독 ㄹ씨        강요죄 공범, 배임수재        불구속 입건                      금융인 ㅁ씨        강제추행        불구속 입건                      금융인 ㅂ씨        강요죄 공범        참고인 중지                      연예기획사 대표 ㅅ씨, 드라마 감독 ㅇ씨        강요죄 공범        참고인 중지                      금융인 ㅈ씨, 드라마감독 ㅊ씨        강요죄 공범        혐의 없음                      인터넷 언론사 대표        강요죄 공범        무혐의             *'"
      ]
     },
     "execution_count": 33,
     "metadata": {},
     "output_type": "execute_result"
    }
   ],
   "source": [
    "# 하나의 문자열로 이루어져 있지만 형태소 분석이 어렵고, 유의미한 문장으로 보이지 않으므로 제거하기.\n",
    "df.iloc[17649]['sentence']"
   ]
  },
  {
   "cell_type": "code",
   "execution_count": 34,
   "metadata": {},
   "outputs": [],
   "source": [
    "df = df.drop(df.iloc[17649].name)"
   ]
  },
  {
   "cell_type": "code",
   "execution_count": 35,
   "metadata": {},
   "outputs": [
    {
     "data": {
      "text/plain": [
       "999998"
      ]
     },
     "execution_count": 35,
     "metadata": {},
     "output_type": "execute_result"
    }
   ],
   "source": [
    "len(df)"
   ]
  },
  {
   "cell_type": "code",
   "execution_count": 36,
   "metadata": {
    "scrolled": true
   },
   "outputs": [
    {
     "name": "stdout",
     "output_type": "stream",
     "text": [
      "Total number of sentences to tag: 999998\n"
     ]
    },
    {
     "name": "stderr",
     "output_type": "stream",
     "text": [
      "Tagging Sentences: 100%|██████████| 999998/999998 [5:09:16<00:00, 53.89it/s]  \n"
     ]
    }
   ],
   "source": [
    "tagged_df = tag_sentences_with_bareun(df, API_KEY)"
   ]
  },
  {
   "cell_type": "code",
   "execution_count": 37,
   "metadata": {},
   "outputs": [],
   "source": [
    "# parquet 파일로 저장\n",
    "tagged_df.to_parquet('/workspace/tagged_NIKL_NEWSPAPER_PARQUET/tagged_NIKL_NEWSPAPER_37.parquet', index=False)"
   ]
  },
  {
   "cell_type": "code",
   "execution_count": null,
   "metadata": {},
   "outputs": [],
   "source": []
  }
 ],
 "metadata": {
  "colab": {
   "authorship_tag": "ABX9TyOWWO2B45wo1VApX5/+1SwU",
   "collapsed_sections": [
    "7tqG7llvW6T1",
    "V6zC-kTAizmj",
    "TG5lOS-sCVFA"
   ],
   "include_colab_link": true,
   "provenance": []
  },
  "kernelspec": {
   "display_name": "Python 3 (ipykernel)",
   "language": "python",
   "name": "python3"
  },
  "language_info": {
   "codemirror_mode": {
    "name": "ipython",
    "version": 3
   },
   "file_extension": ".py",
   "mimetype": "text/x-python",
   "name": "python",
   "nbconvert_exporter": "python",
   "pygments_lexer": "ipython3",
   "version": "3.11.0rc1"
  }
 },
 "nbformat": 4,
 "nbformat_minor": 4
}
