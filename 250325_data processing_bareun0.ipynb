{
 "cells": [
  {
   "cell_type": "markdown",
   "metadata": {},
   "source": [
    "pip install -r requirements.txt (가상환경에 이미 설치됨)\n",
    "\n",
    "주피터노트북 커널 연결(python -m ipykernel install --user --name myenv --display-name corpus)\n",
    "\n",
    "한글 폰트(주피터랩 자체를 다시 켜야지 폰트 적용되는 것 같음.)\n",
    "\n",
    "apt-get update\n",
    "\n",
    "apt-get install -y fonts-nanum"
   ]
  },
  {
   "cell_type": "markdown",
   "metadata": {},
   "source": [
    "# bareun download(bareunpy-1.6.6)"
   ]
  },
  {
   "cell_type": "code",
   "execution_count": 2,
   "metadata": {},
   "outputs": [
    {
     "name": "stdout",
     "output_type": "stream",
     "text": [
      " 2022신문코퍼스_NLTK.ipynb\t\t bareun-linux.deb\n",
      "'250325_data processing_bareun0.ipynb'\t corpus_statistics_df0.ipynb\n",
      "'250325_data processing_bareun1.ipynb'\t myenv\n",
      "'250325_data processing_bareun2.ipynb'\t nohup.out\n",
      " NIKL_NEWSPAPER_16.csv\t\t\t requirements.txt\n",
      " NIKL_NEWSPAPER_16.parquet\t\t tagged_NIKL_NEWSPAPER_PARQUET\n",
      " NIKL_NEWSPAPER_PARQUET\n"
     ]
    }
   ],
   "source": [
    "!curl -LJks -H \"uname:$(uname -a)\" https://bareun.ai/api/get -o bareun-linux.deb\n",
    "!ls"
   ]
  },
  {
   "cell_type": "code",
   "execution_count": 3,
   "metadata": {},
   "outputs": [
    {
     "name": "stdout",
     "output_type": "stream",
     "text": [
      "Linux 372f2dc7b32b 6.8.0-45-generic #45~22.04.1-Ubuntu SMP PREEMPT_DYNAMIC Wed Sep 11 15:25:05 UTC 2 x86_64 x86_64 x86_64 GNU/Linux\n",
      "(Reading database ... 20752 files and directories currently installed.)\n",
      "Preparing to unpack bareun-linux.deb ...\n",
      "Unpacking bareun (3.0.rc1) ...\n",
      "Setting up bareun (3.0.rc1) ...\n",
      "System has not been booted with systemd as init system (PID 1). Can't operate.\n",
      "Failed to connect to bus: Host is down\n",
      "System has not been booted with systemd as init system (PID 1). Can't operate.\n",
      "Failed to connect to bus: Host is down\n",
      "Configuration file /etc/systemd/system/bareun.service is marked executable. Please remove executable permission bits. Proceeding anyway.\n",
      "Created symlink /etc/systemd/system/multi-user.target.wants/bareun.service → /etc/systemd/system/bareun.service.\n"
     ]
    }
   ],
   "source": [
    "!uname -a\n",
    "!dpkg -i bareun-linux.deb"
   ]
  },
  {
   "cell_type": "code",
   "execution_count": 4,
   "metadata": {},
   "outputs": [
    {
     "name": "stdout",
     "output_type": "stream",
     "text": [
      "  % Total    % Received % Xferd  Average Speed   Time    Time     Time  Current\n",
      "                                 Dload  Upload   Total   Spent    Left  Speed\n",
      "100  392M  100  392M    0     0  37.3M      0  0:00:10  0:00:10 --:--:-- 41.0M\n"
     ]
    }
   ],
   "source": [
    "!curl -O https://storage.googleapis.com/tensorflow/libtensorflow/libtensorflow-gpu-linux-x86_64-2.9.1.tar.gz\n",
    "!tar -C /opt/bareun -xzf libtensorflow-gpu-linux-x86_64-2.9.1.tar.gz"
   ]
  },
  {
   "cell_type": "code",
   "execution_count": null,
   "metadata": {},
   "outputs": [],
   "source": [
    "!BAREUN_ROOT=\"/opt/bareun\" LD_LIBRARY_PATH=\"/opt/bareun/lib\" nohup /opt/bareun/bin/bareun&"
   ]
  },
  {
   "cell_type": "code",
   "execution_count": 5,
   "metadata": {},
   "outputs": [
    {
     "name": "stdout",
     "output_type": "stream",
     "text": [
      "root        3181    2266 99 19:44 pts/5    00:00:18 /opt/bareun/bin/bareun\n",
      "root        3586    2210  0 19:44 pts/6    00:00:00 /usr/bin/sh -c ps -ef | grep bareun\n",
      "root        3588    3586  0 19:44 pts/6    00:00:00 grep bareun\n"
     ]
    }
   ],
   "source": [
    "!ps -ef | grep bareun"
   ]
  },
  {
   "cell_type": "code",
   "execution_count": 7,
   "metadata": {},
   "outputs": [
    {
     "name": "stdout",
     "output_type": "stream",
     "text": [
      "Use config file: /opt/bareun/config/bareun.json\n",
      "\n",
      "------\n",
      "200 OK\n",
      "sucessfully registered koba-VAD6MMA-BFSU7XI-SYQYWYY-Y4MXHVA\n"
     ]
    }
   ],
   "source": [
    "!BAREUN_ROOT=\"/opt/bareun\" LD_LIBRARY_PATH=\"/opt/bareun/lib\" /opt/bareun/bin/bareun -reg \"koba-VAD6MMA-BFSU7XI-SYQYWYY-Y4MXHVA\""
   ]
  },
  {
   "cell_type": "markdown",
   "metadata": {},
   "source": [
    "# library"
   ]
  },
  {
   "cell_type": "code",
   "execution_count": 8,
   "metadata": {},
   "outputs": [],
   "source": [
    "import bareunpy as brn\n",
    "import google.protobuf.text_format as tf\n",
    "import sys\n",
    "import tqdm\n",
    "import pandas as pd\n",
    "import pyarrow\n",
    "import fastparquet"
   ]
  },
  {
   "cell_type": "markdown",
   "metadata": {},
   "source": [
    "# bareun test"
   ]
  },
  {
   "cell_type": "code",
   "execution_count": 9,
   "metadata": {
    "colab": {
     "base_uri": "https://localhost:8080/"
    },
    "id": "exI9llpleLJb",
    "outputId": "93a04b48-ac62-451a-95b9-958d199c938d",
    "scrolled": true
   },
   "outputs": [
    {
     "name": "stdout",
     "output_type": "stream",
     "text": [
      "sentences {\n",
      "  text {\n",
      "    content: \"안녕하세요. 정말 좋은 날씨네요.\"\n",
      "    length: 18\n",
      "  }\n",
      "  tokens {\n",
      "    text {\n",
      "      content: \"안녕하세요.\"\n",
      "      length: 6\n",
      "    }\n",
      "    morphemes {\n",
      "      text {\n",
      "        content: \"안녕하\"\n",
      "        length: 3\n",
      "      }\n",
      "      tag: VA\n",
      "      out_of_vocab: IN_BUILTIN_DICT\n",
      "    }\n",
      "    morphemes {\n",
      "      text {\n",
      "        content: \"시\"\n",
      "        begin_offset: 3\n",
      "        length: 1\n",
      "      }\n",
      "      tag: EP\n",
      "      probability: 0.99983704\n",
      "    }\n",
      "    morphemes {\n",
      "      text {\n",
      "        content: \"어요\"\n",
      "        begin_offset: 3\n",
      "        length: 2\n",
      "      }\n",
      "      tag: EF\n",
      "      probability: 0.9785348\n",
      "    }\n",
      "    morphemes {\n",
      "      text {\n",
      "        content: \".\"\n",
      "        begin_offset: 5\n",
      "        length: 1\n",
      "      }\n",
      "      tag: SF\n",
      "      probability: 0.9992842\n",
      "    }\n",
      "    lemma: \"안녕하\"\n",
      "    tagged: \"안녕하/VA+시/EP+어요/EF+./SF\"\n",
      "  }\n",
      "  tokens {\n",
      "    text {\n",
      "      content: \"정말\"\n",
      "      begin_offset: 7\n",
      "      length: 2\n",
      "    }\n",
      "    morphemes {\n",
      "      text {\n",
      "        content: \"정말\"\n",
      "        begin_offset: 7\n",
      "        length: 2\n",
      "      }\n",
      "      tag: MAG\n",
      "      probability: 0.98691875\n",
      "    }\n",
      "    lemma: \"정말\"\n",
      "    tagged: \"정말/MAG\"\n",
      "  }\n",
      "  tokens {\n",
      "    text {\n",
      "      content: \"좋은\"\n",
      "      begin_offset: 10\n",
      "      length: 2\n",
      "    }\n",
      "    morphemes {\n",
      "      text {\n",
      "        content: \"좋\"\n",
      "        begin_offset: 10\n",
      "        length: 1\n",
      "      }\n",
      "      tag: VA\n",
      "      probability: 0.9769151\n",
      "    }\n",
      "    morphemes {\n",
      "      text {\n",
      "        content: \"은\"\n",
      "        begin_offset: 11\n",
      "        length: 1\n",
      "      }\n",
      "      tag: ETM\n",
      "      probability: 0.99943906\n",
      "    }\n",
      "    lemma: \"좋\"\n",
      "    tagged: \"좋/VA+은/ETM\"\n",
      "  }\n",
      "  tokens {\n",
      "    text {\n",
      "      content: \"날씨네요.\"\n",
      "      begin_offset: 13\n",
      "      length: 5\n",
      "    }\n",
      "    morphemes {\n",
      "      text {\n",
      "        content: \"날씨\"\n",
      "        begin_offset: 13\n",
      "        length: 2\n",
      "      }\n",
      "      tag: NNG\n",
      "      probability: 0.9605025\n",
      "    }\n",
      "    morphemes {\n",
      "      text {\n",
      "        content: \"이\"\n",
      "        begin_offset: 15\n",
      "        length: 1\n",
      "      }\n",
      "      tag: VCP\n",
      "      probability: 0.9999536\n",
      "    }\n",
      "    morphemes {\n",
      "      text {\n",
      "        content: \"네\"\n",
      "        begin_offset: 15\n",
      "        length: 1\n",
      "      }\n",
      "      tag: EF\n",
      "      probability: 0.98748744\n",
      "    }\n",
      "    morphemes {\n",
      "      text {\n",
      "        content: \"요\"\n",
      "        begin_offset: 16\n",
      "        length: 1\n",
      "      }\n",
      "      tag: JX\n",
      "      probability: 0.99405426\n",
      "    }\n",
      "    morphemes {\n",
      "      text {\n",
      "        content: \".\"\n",
      "        begin_offset: 17\n",
      "        length: 1\n",
      "      }\n",
      "      tag: SF\n",
      "      probability: 0.99960953\n",
      "    }\n",
      "    lemma: \"날씨\"\n",
      "    tagged: \"날씨/NNG+이/VCP+네/EF+요/JX+./SF\"\n",
      "  }\n",
      "  refined: \"안녕하세요. 정말 좋은 날씨네요.\"\n",
      "}\n",
      "language: \"ko_KR\"\n"
     ]
    }
   ],
   "source": [
    "# 아래에 \"https://bareun.ai/\"에서 이메일 인증 후 발급받은 API KEY(\"koba-...\")를 입력해주세요. \"로그인-내정보 확인\"\n",
    "API_KEY = \"koba-VAD6MMA-BFSU7XI-SYQYWYY-Y4MXHVA\" # <- 본인의 API KEY로 교체\n",
    "t = brn.Tagger(API_KEY, \"localhost\", 5656) # tagger는 변수 t에 할당\n",
    "res = t.tags([\"안녕하세요. 정말 좋은 날씨네요.\"]) # t.tags()에 리스트로 한 문장을 입력\n",
    "m = res.msg() # 분석 결과를 객체로 저장하여 변수 m에 할당\n",
    "\n",
    "tf.PrintMessage(m, out=sys.stdout, as_utf8=True) # 분석 결과 객체 m을 가독성 좋게 표시."
   ]
  },
  {
   "cell_type": "markdown",
   "metadata": {},
   "source": [
    "# 데이터 확인"
   ]
  },
  {
   "cell_type": "code",
   "execution_count": 10,
   "metadata": {},
   "outputs": [],
   "source": [
    "def tag_sentences_with_bareun(df, api_key, host='localhost', port=5656):\n",
    "    # Bareun Tagger 초기화\n",
    "    t = brn.Tagger(api_key, host, port)\n",
    "\n",
    "    # 총 문장 수 출력\n",
    "    print(f\"Total number of sentences to tag: {len(df)}\")\n",
    "    \n",
    "    # 각 문장 태깅 함수\n",
    "    def tag_sentence(sentence):\n",
    "      try:\n",
    "          res = t.tags([sentence])\n",
    "          return list(res.pos())\n",
    "      except Exception as e:\n",
    "          print(f\"Error tagging sentence: {sentence}\")\n",
    "          print(f\"Error: {e}\")\n",
    "          return []\n",
    "\n",
    "    tagged_sentences = []\n",
    "    for sentence in tqdm.tqdm(df['sentence'], desc=\"Tagging Sentences\", mininterval=10):\n",
    "        tagged_sentences.append(tag_sentence(sentence))\n",
    "    \n",
    "    # 새로운 'tagged_sentence' 열 추가\n",
    "    df['tagged_sentence'] = tagged_sentences\n",
    "    \n",
    "    return df"
   ]
  },
  {
   "cell_type": "code",
   "execution_count": 19,
   "metadata": {},
   "outputs": [],
   "source": [
    "df = pd.read_parquet('/workspace/NIKL_NEWSPAPER_PARQUET/NIKL_NEWSPAPER_35.parquet')"
   ]
  },
  {
   "cell_type": "code",
   "execution_count": null,
   "metadata": {},
   "outputs": [
    {
     "name": "stdout",
     "output_type": "stream",
     "text": [
      "Total number of sentences to tag: 1000000\n"
     ]
    },
    {
     "name": "stderr",
     "output_type": "stream",
     "text": [
      "Tagging Sentences:  94%|█████████▍| 939731/1000000 [4:15:26<15:58, 62.91it/s]  "
     ]
    }
   ],
   "source": [
    "tagged_df = tag_sentences_with_bareun(df, API_KEY)"
   ]
  },
  {
   "cell_type": "code",
   "execution_count": null,
   "metadata": {},
   "outputs": [],
   "source": [
    "# parquet 파일로 저장\n",
    "tagged_df.to_parquet('/workspace/tagged_NIKL_NEWSPAPER_PARQUET/tagged_NIKL_NEWSPAPER_35.parquet', index=False)"
   ]
  },
  {
   "cell_type": "markdown",
   "metadata": {
    "jp-MarkdownHeadingCollapsed": true
   },
   "source": [
    "# convert csv to parquet"
   ]
  },
  {
   "cell_type": "code",
   "execution_count": null,
   "metadata": {},
   "outputs": [],
   "source": [
    "def convert_csv_to_parquet_pandas(csv_path, parquet_path):\n",
    "    \"\"\"\n",
    "    Pandas를 사용하여 CSV를 Parquet로 변환\n",
    "    \"\"\"\n",
    "    # CSV 파일 읽기\n",
    "    df = pd.read_csv(csv_path)\n",
    "    \n",
    "    # Parquet 파일로 저장\n",
    "    df.to_parquet(parquet_path, index=False)"
   ]
  },
  {
   "cell_type": "code",
   "execution_count": null,
   "metadata": {},
   "outputs": [],
   "source": [
    "def convert_multiple_csv_to_parquet(start_num, end_num):\n",
    "    for i in range(start_num, end_num + 1):\n",
    "        input_csv = f'/workspace/NIKL_NEWSPAPER_CSV/NIKL_NEWSPAPER_{i}.csv'\n",
    "        output_parquet = f'/workspace/NIKL_NEWSPAPER_PARQUET/NIKL_NEWSPAPER_{i}.parquet'\n",
    "        \n",
    "        convert_csv_to_parquet_pandas(input_csv, output_parquet)\n",
    "        print(f\"Converted {input_csv} to {output_parquet}\")"
   ]
  },
  {
   "cell_type": "code",
   "execution_count": null,
   "metadata": {},
   "outputs": [],
   "source": [
    "convert_csv_to_parquet_pandas('/workspace/NIKL_NEWSPAPER_16.csv', '/workspace/NIKL_NEWSPAPER_16.parquet')"
   ]
  },
  {
   "cell_type": "code",
   "execution_count": null,
   "metadata": {},
   "outputs": [],
   "source": []
  }
 ],
 "metadata": {
  "colab": {
   "authorship_tag": "ABX9TyOWWO2B45wo1VApX5/+1SwU",
   "collapsed_sections": [
    "7tqG7llvW6T1",
    "V6zC-kTAizmj",
    "TG5lOS-sCVFA"
   ],
   "include_colab_link": true,
   "provenance": []
  },
  "kernelspec": {
   "display_name": "Python 3 (ipykernel)",
   "language": "python",
   "name": "python3"
  },
  "language_info": {
   "codemirror_mode": {
    "name": "ipython",
    "version": 3
   },
   "file_extension": ".py",
   "mimetype": "text/x-python",
   "name": "python",
   "nbconvert_exporter": "python",
   "pygments_lexer": "ipython3",
   "version": "3.11.0rc1"
  }
 },
 "nbformat": 4,
 "nbformat_minor": 4
}
