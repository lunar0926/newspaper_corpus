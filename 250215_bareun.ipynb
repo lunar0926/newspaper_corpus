{
  "nbformat": 4,
  "nbformat_minor": 0,
  "metadata": {
    "colab": {
      "provenance": [],
      "collapsed_sections": [
        "7tqG7llvW6T1",
        "V6zC-kTAizmj",
        "TG5lOS-sCVFA"
      ],
      "authorship_tag": "ABX9TyOWWO2B45wo1VApX5/+1SwU",
      "include_colab_link": true
    },
    "kernelspec": {
      "name": "python3",
      "display_name": "Python 3"
    },
    "language_info": {
      "name": "python"
    }
  },
  "cells": [
    {
      "cell_type": "markdown",
      "metadata": {
        "id": "view-in-github",
        "colab_type": "text"
      },
      "source": [
        "<a href=\"https://colab.research.google.com/github/lunar0926/newspaper_corpus/blob/main/250215_bareun.ipynb\" target=\"_parent\"><img src=\"https://colab.research.google.com/assets/colab-badge.svg\" alt=\"Open In Colab\"/></a>"
      ]
    },
    {
      "cell_type": "code",
      "source": [],
      "metadata": {
        "id": "kmQxDAfLDyN0"
      },
      "execution_count": null,
      "outputs": []
    },
    {
      "cell_type": "code",
      "execution_count": null,
      "metadata": {
        "colab": {
          "base_uri": "https://localhost:8080/"
        },
        "id": "yoyUMMwocSKm",
        "outputId": "4674971a-e827-4f6d-8edd-a8d4aafa1de6"
      },
      "outputs": [
        {
          "output_type": "stream",
          "name": "stdout",
          "text": [
            "bareun-linux.deb  merged2022.zip  nohup.out  sample_data\n"
          ]
        }
      ],
      "source": [
        "# 바른 형태소 분석기 리눅스 설치\n",
        "!curl -LJks -H \"uname:$(uname -a)\" https://bareun.ai/api/get -o bareun-linux.deb\n",
        "!ls"
      ]
    },
    {
      "cell_type": "code",
      "source": [
        "# 설치\n",
        "!uname -a\n",
        "!dpkg -i bareun-linux.deb"
      ],
      "metadata": {
        "colab": {
          "base_uri": "https://localhost:8080/"
        },
        "id": "oId7EDuCdYQX",
        "outputId": "f2fb72a1-303f-42e1-b3ad-69e0eaa0723a"
      },
      "execution_count": null,
      "outputs": [
        {
          "output_type": "stream",
          "name": "stdout",
          "text": [
            "Linux ea2261786c1d 6.1.85+ #1 SMP PREEMPT_DYNAMIC Thu Jun 27 21:05:47 UTC 2024 x86_64 x86_64 x86_64 GNU/Linux\n",
            "(Reading database ... 123650 files and directories currently installed.)\n",
            "Preparing to unpack bareun-linux.deb ...\n",
            "System has not been booted with systemd as init system (PID 1). Can't operate.\n",
            "Failed to connect to bus: Host is down\n",
            "System has not been booted with systemd as init system (PID 1). Can't operate.\n",
            "Failed to connect to bus: Host is down\n",
            "Configuration file /etc/systemd/system/bareun.service is marked executable. Please remove executable permission bits. Proceeding anyway.\n",
            "Removed /etc/systemd/system/multi-user.target.wants/bareun.service.\n",
            "Unpacking bareun (2.3.1) over (2.3.1) ...\n",
            "^C\n"
          ]
        }
      ]
    },
    {
      "cell_type": "code",
      "source": [
        "#  환경설정\n",
        "%env BAREUN_ROOT=\"/opt/bareun\"\n",
        "%env LD_LIBRARY_PATH=\"/opt/bareun/lib\"\n",
        "!BAREUN_ROOT=\"/opt/bareun\" LD_LIBRARY_PATH=\"/opt/bareun/lib\" nohup /opt/bareun/bin/bareun&"
      ],
      "metadata": {
        "colab": {
          "base_uri": "https://localhost:8080/"
        },
        "id": "FcbfigO8daHa",
        "outputId": "59a42713-d6c3-4656-8bd4-a8104d4e0c4d"
      },
      "execution_count": null,
      "outputs": [
        {
          "output_type": "stream",
          "name": "stdout",
          "text": [
            "env: BAREUN_ROOT=\"/opt/bareun\"\n",
            "env: LD_LIBRARY_PATH=\"/opt/bareun/lib\"\n",
            "nohup: appending output to 'nohup.out'\n"
          ]
        }
      ]
    },
    {
      "cell_type": "code",
      "source": [
        "# 실행 정보\n",
        "!ps -ef | grep bareun"
      ],
      "metadata": {
        "colab": {
          "base_uri": "https://localhost:8080/"
        },
        "id": "u_0IDJNBddrK",
        "outputId": "1254d6b9-9f7b-4285-fe6f-638a969b933c"
      },
      "execution_count": null,
      "outputs": [
        {
          "output_type": "stream",
          "name": "stdout",
          "text": [
            "root         715       1 99 Dec20 ?        2-03:54:11 [bareun] <defunct>\n",
            "root      376095       1 99 Dec21 ?        1-23:45:32 [bareun] <defunct>\n",
            "root      592987       1 99 Dec21 ?        2-01:39:40 [bareun] <defunct>\n",
            "root      833038       1 63 05:49 ?        00:00:01 /opt/bareun/bin/bareun\n",
            "root      833076  592861  0 05:49 ?        00:00:00 /bin/bash -c ps -ef | grep bareun\n",
            "root      833078  833076  0 05:49 ?        00:00:00 grep bareun\n"
          ]
        }
      ]
    },
    {
      "cell_type": "code",
      "source": [
        "!BAREUN_ROOT=\"/opt/bareun\" LD_LIBRARY_PATH=\"/opt/bareun/lib\" /opt/bareun/bin/bareun -reg koba-VAD6MMA-BFSU7XI-SYQYWYY-Y4MXHVA"
      ],
      "metadata": {
        "colab": {
          "base_uri": "https://localhost:8080/"
        },
        "id": "g9Ik9idOfBJy",
        "outputId": "cd158d2b-abd4-4dbc-f7ad-fd0022505c16"
      },
      "execution_count": null,
      "outputs": [
        {
          "output_type": "stream",
          "name": "stdout",
          "text": [
            "2024-12-22 05:49:21.516694: I tensorflow/core/util/util.cc:169] oneDNN custom operations are on. You may see slightly different numerical results due to floating-point round-off errors from different computation orders. To turn them off, set the environment variable `TF_ENABLE_ONEDNN_OPTS=0`.\n",
            "2024-12-22 05:49:21.520354: W tensorflow/stream_executor/platform/default/dso_loader.cc:64] Could not load dynamic library 'libcudart.so.11.0'; dlerror: libcudart.so.11.0: cannot open shared object file: No such file or directory; LD_LIBRARY_PATH: /opt/bareun/lib\n",
            "2024-12-22 05:49:21.520382: I tensorflow/stream_executor/cuda/cudart_stub.cc:29] Ignore above cudart dlerror if you do not have a GPU set up on your machine.\n",
            "Use config file: /opt/bareun/config/bareun.json\n",
            "\n",
            "------\n",
            "200 OK\n",
            "This apikey is already registered.\n"
          ]
        }
      ]
    },
    {
      "cell_type": "code",
      "source": [
        "# 라이브러리 설치\n",
        "!pip install -U bareunpy"
      ],
      "metadata": {
        "colab": {
          "base_uri": "https://localhost:8080/"
        },
        "id": "H0xmb0hbeB3a",
        "outputId": "1ffd2cb2-1a09-4714-b01b-99fa9716818e"
      },
      "execution_count": null,
      "outputs": [
        {
          "output_type": "stream",
          "name": "stdout",
          "text": [
            "Requirement already satisfied: bareunpy in /usr/local/lib/python3.10/dist-packages (1.6.4)\n",
            "Requirement already satisfied: bareun-apis<0.13.0,>=0.12.0 in /usr/local/lib/python3.10/dist-packages (from bareunpy) (0.12.0)\n",
            "Requirement already satisfied: googleapis-common-protos<2.0.0,>=1.56.0 in /usr/local/lib/python3.10/dist-packages (from bareunpy) (1.65.0)\n",
            "Requirement already satisfied: grpcio<2.0.0,>=1.46.0 in /usr/local/lib/python3.10/dist-packages (from bareunpy) (1.64.1)\n",
            "Requirement already satisfied: protobuf<4.0.0,>=3.19.4 in /usr/local/lib/python3.10/dist-packages (from bareunpy) (3.20.3)\n"
          ]
        }
      ]
    },
    {
      "cell_type": "code",
      "source": [
        "import pandas as pd\n",
        "from glob import glob\n",
        "\n",
        "# 바른 형태소 분석기|\n",
        "import sys\n",
        "import bareunpy as brn\n",
        "import google.protobuf.text_format as tf # 데이터를 구조화된 형태로 저장하고 전송. 태깅 결과를 일종의 메시지로서 가독성 좋게 보여주는 라이브러리\n",
        "\n",
        "# 전처리\n",
        "from tqdm import tqdm\n",
        "import multiprocessing as mp\n",
        "from multiprocessing import Pool\n",
        "import numpy as np"
      ],
      "metadata": {
        "id": "O-JUs3eleHNN"
      },
      "execution_count": null,
      "outputs": []
    },
    {
      "cell_type": "code",
      "source": [
        "print(sys.version)"
      ],
      "metadata": {
        "colab": {
          "base_uri": "https://localhost:8080/"
        },
        "id": "LEW7t2SREB4H",
        "outputId": "f2cfe6bb-b88a-4aad-a7ab-ebf3eef398fb"
      },
      "execution_count": null,
      "outputs": [
        {
          "output_type": "stream",
          "name": "stdout",
          "text": [
            "3.10.12 (main, Sep 11 2024, 15:47:36) [GCC 11.4.0]\n"
          ]
        }
      ]
    },
    {
      "cell_type": "code",
      "source": [
        "# 아래에 \"https://bareun.ai/\"에서 이메일 인증 후 발급받은 API KEY(\"koba-...\")를 입력해주세요. \"로그인-내정보 확인\"\n",
        "API_KEY = \"koba-VAD6MMA-BFSU7XI-SYQYWYY-Y4MXHVA\" # <- 본인의 API KEY로 교체\n",
        "t = brn.Tagger(API_KEY, \"localhost\", 5656) # tagger는 변수 t에 할당\n",
        "res = t.tags([\"안녕하세요. 정말 좋은 날씨네요.\"]) # t.tags()에 리스트로 한 문장을 입력\n",
        "m = res.msg() # 분석 결과를 객체로 저장하여 변수 m에 할당\n",
        "\n",
        "tf.PrintMessage(m, out=sys.stdout, as_utf8=True) # 분석 결과 객체 m을 가독성 좋게 표시."
      ],
      "metadata": {
        "id": "exI9llpleLJb",
        "colab": {
          "base_uri": "https://localhost:8080/"
        },
        "outputId": "93a04b48-ac62-451a-95b9-958d199c938d"
      },
      "execution_count": null,
      "outputs": [
        {
          "output_type": "stream",
          "name": "stdout",
          "text": [
            "sentences {\n",
            "  text {\n",
            "    content: \"안녕하세요. 정말 좋은 날씨네요.\"\n",
            "    length: 18\n",
            "  }\n",
            "  tokens {\n",
            "    text {\n",
            "      content: \"안녕하세요.\"\n",
            "      length: 6\n",
            "    }\n",
            "    morphemes {\n",
            "      text {\n",
            "        content: \"안녕하\"\n",
            "        length: 3\n",
            "      }\n",
            "      tag: VA\n",
            "      out_of_vocab: IN_BUILTIN_DICT\n",
            "    }\n",
            "    morphemes {\n",
            "      text {\n",
            "        content: \"시\"\n",
            "        begin_offset: 3\n",
            "        length: 1\n",
            "      }\n",
            "      tag: EP\n",
            "      probability: 0.9998893\n",
            "    }\n",
            "    morphemes {\n",
            "      text {\n",
            "        content: \"어요\"\n",
            "        begin_offset: 3\n",
            "        length: 2\n",
            "      }\n",
            "      tag: EF\n",
            "      probability: 0.98995674\n",
            "    }\n",
            "    morphemes {\n",
            "      text {\n",
            "        content: \".\"\n",
            "        begin_offset: 5\n",
            "        length: 1\n",
            "      }\n",
            "      tag: SF\n",
            "      probability: 0.99979943\n",
            "    }\n",
            "    lemma: \"안녕하\"\n",
            "    tagged: \"안녕하/VA+시/EP+어요/EF+./SF\"\n",
            "  }\n",
            "  tokens {\n",
            "    text {\n",
            "      content: \"정말\"\n",
            "      begin_offset: 7\n",
            "      length: 2\n",
            "    }\n",
            "    morphemes {\n",
            "      text {\n",
            "        content: \"정말\"\n",
            "        begin_offset: 7\n",
            "        length: 2\n",
            "      }\n",
            "      tag: MAG\n",
            "      probability: 0.9906673\n",
            "    }\n",
            "    lemma: \"정말\"\n",
            "    tagged: \"정말/MAG\"\n",
            "  }\n",
            "  tokens {\n",
            "    text {\n",
            "      content: \"좋은\"\n",
            "      begin_offset: 10\n",
            "      length: 2\n",
            "    }\n",
            "    morphemes {\n",
            "      text {\n",
            "        content: \"좋\"\n",
            "        begin_offset: 10\n",
            "        length: 1\n",
            "      }\n",
            "      tag: VA\n",
            "      probability: 0.9836888\n",
            "    }\n",
            "    morphemes {\n",
            "      text {\n",
            "        content: \"은\"\n",
            "        begin_offset: 11\n",
            "        length: 1\n",
            "      }\n",
            "      tag: ETM\n",
            "      probability: 0.9999922\n",
            "    }\n",
            "    lemma: \"좋\"\n",
            "    tagged: \"좋/VA+은/ETM\"\n",
            "  }\n",
            "  tokens {\n",
            "    text {\n",
            "      content: \"날씨네요.\"\n",
            "      begin_offset: 13\n",
            "      length: 5\n",
            "    }\n",
            "    morphemes {\n",
            "      text {\n",
            "        content: \"날씨\"\n",
            "        begin_offset: 13\n",
            "        length: 2\n",
            "      }\n",
            "      tag: NNG\n",
            "      probability: 0.98361963\n",
            "    }\n",
            "    morphemes {\n",
            "      text {\n",
            "        content: \"이\"\n",
            "        begin_offset: 15\n",
            "        length: 1\n",
            "      }\n",
            "      tag: VCP\n",
            "      probability: 0.99932873\n",
            "    }\n",
            "    morphemes {\n",
            "      text {\n",
            "        content: \"네\"\n",
            "        begin_offset: 15\n",
            "        length: 1\n",
            "      }\n",
            "      tag: EF\n",
            "      probability: 0.992478\n",
            "    }\n",
            "    morphemes {\n",
            "      text {\n",
            "        content: \"요\"\n",
            "        begin_offset: 16\n",
            "        length: 1\n",
            "      }\n",
            "      tag: JX\n",
            "      probability: 0.99781084\n",
            "    }\n",
            "    morphemes {\n",
            "      text {\n",
            "        content: \".\"\n",
            "        begin_offset: 17\n",
            "        length: 1\n",
            "      }\n",
            "      tag: SF\n",
            "      probability: 0.9995841\n",
            "    }\n",
            "    lemma: \"날씨\"\n",
            "    tagged: \"날씨/NNG+이/VCP+네/EF+요/JX+./SF\"\n",
            "  }\n",
            "  refined: \"안녕하세요. 정말 좋은 날씨네요.\"\n",
            "}\n",
            "language: \"ko_KR\"\n"
          ]
        }
      ]
    },
    {
      "cell_type": "code",
      "source": [
        "#  객체 m으로부터 세부 정보를 확인할 때\n",
        "print(f'length of tokens in sentences[0] is {len(m.sentences[0].tokens)}') # input으로 입력한 리스트에는 한 문장만 요소로 들어가있으므로 sentences[0]\n",
        "print(f'length of morphemes of first token in sentences[0] is {len(m.sentences[0].tokens[0].morphemes)}') # 각 어절이 하나의 토큰이 된다.\n",
        "print(f'lemma of first token in sentences[0] is {m.sentences[0].tokens[0].lemma}') # tokens[0]에 해당하는 어절의 lemma\n",
        "print(f'first morph of first token in sentences[0] is {m.sentences[0].tokens[0].morphemes[0]}')\n",
        "print(f'tag of first morph of first token in sentences[0] is {m.sentences[0].tokens[0].morphemes[0].tag}')"
      ],
      "metadata": {
        "colab": {
          "base_uri": "https://localhost:8080/"
        },
        "id": "C_5OxSWceL0v",
        "outputId": "0d76907d-74a5-49d5-a0aa-dec02d7bd37a"
      },
      "execution_count": null,
      "outputs": [
        {
          "output_type": "stream",
          "name": "stdout",
          "text": [
            "length of tokens in sentences[0] is 4\n",
            "length of morphemes of first token in sentences[0] is 4\n",
            "lemma of first token in sentences[0] is 안녕하\n",
            "first morph of first token in sentences[0] is text {\n",
            "  content: \"\\354\\225\\210\\353\\205\\225\\355\\225\\230\"\n",
            "  length: 3\n",
            "}\n",
            "tag: VA\n",
            "out_of_vocab: IN_BUILTIN_DICT\n",
            "\n",
            "tag of first morph of first token in sentences[0] is 38\n"
          ]
        }
      ]
    },
    {
      "cell_type": "code",
      "source": [
        "# spacy 설치\n",
        "!python -m spacy download ko_core_news_lg"
      ],
      "metadata": {
        "colab": {
          "base_uri": "https://localhost:8080/"
        },
        "id": "tn__XM9CfOh0",
        "outputId": "7fc6fcf3-d8de-474b-e517-23f759edb419"
      },
      "execution_count": null,
      "outputs": [
        {
          "output_type": "stream",
          "name": "stdout",
          "text": [
            "\n",
            "\u001b[31mAborted.\u001b[0m\n"
          ]
        }
      ]
    },
    {
      "cell_type": "markdown",
      "source": [
        "# 데이터"
      ],
      "metadata": {
        "id": "7tqG7llvW6T1"
      }
    },
    {
      "cell_type": "code",
      "source": [
        "n_partitions = 8_992_042 // 200_000\n",
        "corpus_df = dd.read_parquet('corpus_df.parquet', npartitions=n_partitions, index_col='sentence_id')"
      ],
      "metadata": {
        "id": "YhDFdjQ6WyDB"
      },
      "execution_count": null,
      "outputs": []
    },
    {
      "cell_type": "code",
      "execution_count": null,
      "metadata": {
        "id": "q8rCeRKkUXxz",
        "colab": {
          "base_uri": "https://localhost:8080/",
          "height": 223
        },
        "outputId": "3cd3cee7-ebd8-43d6-f26f-e1c387218957"
      },
      "outputs": [
        {
          "output_type": "stream",
          "name": "stdout",
          "text": [
            "[########################################] | 100% Completed | 909.73 ms\n"
          ]
        },
        {
          "output_type": "execute_result",
          "data": {
            "text/plain": [
              "          sentence_id                                           untagged\n",
              "0  NIRW2300000001.1.1                     [영상]“위기를 이겨내고 일상으로” 부산 기관장 신년사\n",
              "1  NIRW2300000001.1.2  취임 2년 차를 맞는 박형준 부산시장은 코로나19 위기를 이겨내고 있는 부산시민들에...\n",
              "2  NIRW2300000001.1.3  박 시장은 “코로나19는 번번이 우리의 희망의 길목을 막아섰고, 지금도 여전히 민생...\n",
              "3  NIRW2300000001.1.4  그러면서 “숱한 어려움을 헤쳐온 위대한 시민의 힘으로 2022년을 코로나를 극복하고...\n",
              "4  NIRW2300000001.1.5  박 시장은 “치밀한 전략으로 2030세계박람회 유치를 위한 국제박람회기구 현지 실사..."
            ],
            "text/html": [
              "\n",
              "  <div id=\"df-7fd0cd64-8b44-4959-8599-4a0ca8f5f0d7\" class=\"colab-df-container\">\n",
              "    <div>\n",
              "<style scoped>\n",
              "    .dataframe tbody tr th:only-of-type {\n",
              "        vertical-align: middle;\n",
              "    }\n",
              "\n",
              "    .dataframe tbody tr th {\n",
              "        vertical-align: top;\n",
              "    }\n",
              "\n",
              "    .dataframe thead th {\n",
              "        text-align: right;\n",
              "    }\n",
              "</style>\n",
              "<table border=\"1\" class=\"dataframe\">\n",
              "  <thead>\n",
              "    <tr style=\"text-align: right;\">\n",
              "      <th></th>\n",
              "      <th>sentence_id</th>\n",
              "      <th>untagged</th>\n",
              "    </tr>\n",
              "  </thead>\n",
              "  <tbody>\n",
              "    <tr>\n",
              "      <th>0</th>\n",
              "      <td>NIRW2300000001.1.1</td>\n",
              "      <td>[영상]“위기를 이겨내고 일상으로” 부산 기관장 신년사</td>\n",
              "    </tr>\n",
              "    <tr>\n",
              "      <th>1</th>\n",
              "      <td>NIRW2300000001.1.2</td>\n",
              "      <td>취임 2년 차를 맞는 박형준 부산시장은 코로나19 위기를 이겨내고 있는 부산시민들에...</td>\n",
              "    </tr>\n",
              "    <tr>\n",
              "      <th>2</th>\n",
              "      <td>NIRW2300000001.1.3</td>\n",
              "      <td>박 시장은 “코로나19는 번번이 우리의 희망의 길목을 막아섰고, 지금도 여전히 민생...</td>\n",
              "    </tr>\n",
              "    <tr>\n",
              "      <th>3</th>\n",
              "      <td>NIRW2300000001.1.4</td>\n",
              "      <td>그러면서 “숱한 어려움을 헤쳐온 위대한 시민의 힘으로 2022년을 코로나를 극복하고...</td>\n",
              "    </tr>\n",
              "    <tr>\n",
              "      <th>4</th>\n",
              "      <td>NIRW2300000001.1.5</td>\n",
              "      <td>박 시장은 “치밀한 전략으로 2030세계박람회 유치를 위한 국제박람회기구 현지 실사...</td>\n",
              "    </tr>\n",
              "  </tbody>\n",
              "</table>\n",
              "</div>\n",
              "    <div class=\"colab-df-buttons\">\n",
              "\n",
              "  <div class=\"colab-df-container\">\n",
              "    <button class=\"colab-df-convert\" onclick=\"convertToInteractive('df-7fd0cd64-8b44-4959-8599-4a0ca8f5f0d7')\"\n",
              "            title=\"Convert this dataframe to an interactive table.\"\n",
              "            style=\"display:none;\">\n",
              "\n",
              "  <svg xmlns=\"http://www.w3.org/2000/svg\" height=\"24px\" viewBox=\"0 -960 960 960\">\n",
              "    <path d=\"M120-120v-720h720v720H120Zm60-500h600v-160H180v160Zm220 220h160v-160H400v160Zm0 220h160v-160H400v160ZM180-400h160v-160H180v160Zm440 0h160v-160H620v160ZM180-180h160v-160H180v160Zm440 0h160v-160H620v160Z\"/>\n",
              "  </svg>\n",
              "    </button>\n",
              "\n",
              "  <style>\n",
              "    .colab-df-container {\n",
              "      display:flex;\n",
              "      gap: 12px;\n",
              "    }\n",
              "\n",
              "    .colab-df-convert {\n",
              "      background-color: #E8F0FE;\n",
              "      border: none;\n",
              "      border-radius: 50%;\n",
              "      cursor: pointer;\n",
              "      display: none;\n",
              "      fill: #1967D2;\n",
              "      height: 32px;\n",
              "      padding: 0 0 0 0;\n",
              "      width: 32px;\n",
              "    }\n",
              "\n",
              "    .colab-df-convert:hover {\n",
              "      background-color: #E2EBFA;\n",
              "      box-shadow: 0px 1px 2px rgba(60, 64, 67, 0.3), 0px 1px 3px 1px rgba(60, 64, 67, 0.15);\n",
              "      fill: #174EA6;\n",
              "    }\n",
              "\n",
              "    .colab-df-buttons div {\n",
              "      margin-bottom: 4px;\n",
              "    }\n",
              "\n",
              "    [theme=dark] .colab-df-convert {\n",
              "      background-color: #3B4455;\n",
              "      fill: #D2E3FC;\n",
              "    }\n",
              "\n",
              "    [theme=dark] .colab-df-convert:hover {\n",
              "      background-color: #434B5C;\n",
              "      box-shadow: 0px 1px 3px 1px rgba(0, 0, 0, 0.15);\n",
              "      filter: drop-shadow(0px 1px 2px rgba(0, 0, 0, 0.3));\n",
              "      fill: #FFFFFF;\n",
              "    }\n",
              "  </style>\n",
              "\n",
              "    <script>\n",
              "      const buttonEl =\n",
              "        document.querySelector('#df-7fd0cd64-8b44-4959-8599-4a0ca8f5f0d7 button.colab-df-convert');\n",
              "      buttonEl.style.display =\n",
              "        google.colab.kernel.accessAllowed ? 'block' : 'none';\n",
              "\n",
              "      async function convertToInteractive(key) {\n",
              "        const element = document.querySelector('#df-7fd0cd64-8b44-4959-8599-4a0ca8f5f0d7');\n",
              "        const dataTable =\n",
              "          await google.colab.kernel.invokeFunction('convertToInteractive',\n",
              "                                                    [key], {});\n",
              "        if (!dataTable) return;\n",
              "\n",
              "        const docLinkHtml = 'Like what you see? Visit the ' +\n",
              "          '<a target=\"_blank\" href=https://colab.research.google.com/notebooks/data_table.ipynb>data table notebook</a>'\n",
              "          + ' to learn more about interactive tables.';\n",
              "        element.innerHTML = '';\n",
              "        dataTable['output_type'] = 'display_data';\n",
              "        await google.colab.output.renderOutput(dataTable, element);\n",
              "        const docLink = document.createElement('div');\n",
              "        docLink.innerHTML = docLinkHtml;\n",
              "        element.appendChild(docLink);\n",
              "      }\n",
              "    </script>\n",
              "  </div>\n",
              "\n",
              "\n",
              "<div id=\"df-e4a6d486-d982-4641-9784-c756a19cbfb6\">\n",
              "  <button class=\"colab-df-quickchart\" onclick=\"quickchart('df-e4a6d486-d982-4641-9784-c756a19cbfb6')\"\n",
              "            title=\"Suggest charts\"\n",
              "            style=\"display:none;\">\n",
              "\n",
              "<svg xmlns=\"http://www.w3.org/2000/svg\" height=\"24px\"viewBox=\"0 0 24 24\"\n",
              "     width=\"24px\">\n",
              "    <g>\n",
              "        <path d=\"M19 3H5c-1.1 0-2 .9-2 2v14c0 1.1.9 2 2 2h14c1.1 0 2-.9 2-2V5c0-1.1-.9-2-2-2zM9 17H7v-7h2v7zm4 0h-2V7h2v10zm4 0h-2v-4h2v4z\"/>\n",
              "    </g>\n",
              "</svg>\n",
              "  </button>\n",
              "\n",
              "<style>\n",
              "  .colab-df-quickchart {\n",
              "      --bg-color: #E8F0FE;\n",
              "      --fill-color: #1967D2;\n",
              "      --hover-bg-color: #E2EBFA;\n",
              "      --hover-fill-color: #174EA6;\n",
              "      --disabled-fill-color: #AAA;\n",
              "      --disabled-bg-color: #DDD;\n",
              "  }\n",
              "\n",
              "  [theme=dark] .colab-df-quickchart {\n",
              "      --bg-color: #3B4455;\n",
              "      --fill-color: #D2E3FC;\n",
              "      --hover-bg-color: #434B5C;\n",
              "      --hover-fill-color: #FFFFFF;\n",
              "      --disabled-bg-color: #3B4455;\n",
              "      --disabled-fill-color: #666;\n",
              "  }\n",
              "\n",
              "  .colab-df-quickchart {\n",
              "    background-color: var(--bg-color);\n",
              "    border: none;\n",
              "    border-radius: 50%;\n",
              "    cursor: pointer;\n",
              "    display: none;\n",
              "    fill: var(--fill-color);\n",
              "    height: 32px;\n",
              "    padding: 0;\n",
              "    width: 32px;\n",
              "  }\n",
              "\n",
              "  .colab-df-quickchart:hover {\n",
              "    background-color: var(--hover-bg-color);\n",
              "    box-shadow: 0 1px 2px rgba(60, 64, 67, 0.3), 0 1px 3px 1px rgba(60, 64, 67, 0.15);\n",
              "    fill: var(--button-hover-fill-color);\n",
              "  }\n",
              "\n",
              "  .colab-df-quickchart-complete:disabled,\n",
              "  .colab-df-quickchart-complete:disabled:hover {\n",
              "    background-color: var(--disabled-bg-color);\n",
              "    fill: var(--disabled-fill-color);\n",
              "    box-shadow: none;\n",
              "  }\n",
              "\n",
              "  .colab-df-spinner {\n",
              "    border: 2px solid var(--fill-color);\n",
              "    border-color: transparent;\n",
              "    border-bottom-color: var(--fill-color);\n",
              "    animation:\n",
              "      spin 1s steps(1) infinite;\n",
              "  }\n",
              "\n",
              "  @keyframes spin {\n",
              "    0% {\n",
              "      border-color: transparent;\n",
              "      border-bottom-color: var(--fill-color);\n",
              "      border-left-color: var(--fill-color);\n",
              "    }\n",
              "    20% {\n",
              "      border-color: transparent;\n",
              "      border-left-color: var(--fill-color);\n",
              "      border-top-color: var(--fill-color);\n",
              "    }\n",
              "    30% {\n",
              "      border-color: transparent;\n",
              "      border-left-color: var(--fill-color);\n",
              "      border-top-color: var(--fill-color);\n",
              "      border-right-color: var(--fill-color);\n",
              "    }\n",
              "    40% {\n",
              "      border-color: transparent;\n",
              "      border-right-color: var(--fill-color);\n",
              "      border-top-color: var(--fill-color);\n",
              "    }\n",
              "    60% {\n",
              "      border-color: transparent;\n",
              "      border-right-color: var(--fill-color);\n",
              "    }\n",
              "    80% {\n",
              "      border-color: transparent;\n",
              "      border-right-color: var(--fill-color);\n",
              "      border-bottom-color: var(--fill-color);\n",
              "    }\n",
              "    90% {\n",
              "      border-color: transparent;\n",
              "      border-bottom-color: var(--fill-color);\n",
              "    }\n",
              "  }\n",
              "</style>\n",
              "\n",
              "  <script>\n",
              "    async function quickchart(key) {\n",
              "      const quickchartButtonEl =\n",
              "        document.querySelector('#' + key + ' button');\n",
              "      quickchartButtonEl.disabled = true;  // To prevent multiple clicks.\n",
              "      quickchartButtonEl.classList.add('colab-df-spinner');\n",
              "      try {\n",
              "        const charts = await google.colab.kernel.invokeFunction(\n",
              "            'suggestCharts', [key], {});\n",
              "      } catch (error) {\n",
              "        console.error('Error during call to suggestCharts:', error);\n",
              "      }\n",
              "      quickchartButtonEl.classList.remove('colab-df-spinner');\n",
              "      quickchartButtonEl.classList.add('colab-df-quickchart-complete');\n",
              "    }\n",
              "    (() => {\n",
              "      let quickchartButtonEl =\n",
              "        document.querySelector('#df-e4a6d486-d982-4641-9784-c756a19cbfb6 button');\n",
              "      quickchartButtonEl.style.display =\n",
              "        google.colab.kernel.accessAllowed ? 'block' : 'none';\n",
              "    })();\n",
              "  </script>\n",
              "</div>\n",
              "\n",
              "    </div>\n",
              "  </div>\n"
            ],
            "application/vnd.google.colaboratory.intrinsic+json": {
              "type": "dataframe",
              "summary": "{\n  \"name\": \"corpus_df\",\n  \"rows\": 5,\n  \"fields\": [\n    {\n      \"column\": \"sentence_id\",\n      \"properties\": {\n        \"dtype\": \"string\",\n        \"num_unique_values\": 5,\n        \"samples\": [\n          \"NIRW2300000001.1.2\",\n          \"NIRW2300000001.1.5\",\n          \"NIRW2300000001.1.3\"\n        ],\n        \"semantic_type\": \"\",\n        \"description\": \"\"\n      }\n    },\n    {\n      \"column\": \"untagged\",\n      \"properties\": {\n        \"dtype\": \"string\",\n        \"num_unique_values\": 5,\n        \"samples\": [\n          \"\\ucde8\\uc784 2\\ub144 \\ucc28\\ub97c \\ub9de\\ub294 \\ubc15\\ud615\\uc900 \\ubd80\\uc0b0\\uc2dc\\uc7a5\\uc740 \\ucf54\\ub85c\\ub09819 \\uc704\\uae30\\ub97c \\uc774\\uaca8\\ub0b4\\uace0 \\uc788\\ub294 \\ubd80\\uc0b0\\uc2dc\\ubbfc\\ub4e4\\uc5d0\\uac8c \\uac10\\uc0ac\\uc758 \\uc778\\uc0ac\\ub97c \\uba3c\\uc800 \\uc804\\ud588\\ub2e4.\",\n          \"\\ubc15 \\uc2dc\\uc7a5\\uc740 \\u201c\\uce58\\ubc00\\ud55c \\uc804\\ub7b5\\uc73c\\ub85c 2030\\uc138\\uacc4\\ubc15\\ub78c\\ud68c \\uc720\\uce58\\ub97c \\uc704\\ud55c \\uad6d\\uc81c\\ubc15\\ub78c\\ud68c\\uae30\\uad6c \\ud604\\uc9c0 \\uc2e4\\uc0ac\\ub97c \\uc131\\uacf5\\uc801\\uc73c\\ub85c \\uc774\\ub04c\\uace0 \\uc2dc\\ubbfc\\uc758 \\uc5fc\\uc6d0\\uacfc \\uae30\\ub300\\ub97c \\uc628\\uc804\\ud788 \\ub2f4\\uc544 \\ubd81\\ud56d\\uc7ac\\uac1c\\ubc1c\\uc0ac\\uc5c5\\uacfc \\uac00\\ub355\\ub3c4\\uc2e0\\uacf5\\ud56d \\uc0ac\\uc5c5\\uc744 \\ubcf8\\uada4\\ub3c4\\uc5d0 \\uc62c\\ub9ac\\uaca0\\ub2e4\\u201d\\uace0 \\uc57d\\uc18d\\ud588\\ub2e4.\",\n          \"\\ubc15 \\uc2dc\\uc7a5\\uc740 \\u201c\\ucf54\\ub85c\\ub09819\\ub294 \\ubc88\\ubc88\\uc774 \\uc6b0\\ub9ac\\uc758 \\ud76c\\ub9dd\\uc758 \\uae38\\ubaa9\\uc744 \\ub9c9\\uc544\\uc130\\uace0, \\uc9c0\\uae08\\ub3c4 \\uc5ec\\uc804\\ud788 \\ubbfc\\uc0dd\\uc744 \\uc704\\ud611\\ud558\\uace0 \\uc788\\ub2e4\\u201d\\uba70 \\u201c\\uadf8\\ub7ec\\ub098, \\ubd80\\uc0b0\\uc2dc\\ubbfc\\ub4e4\\uaed8\\uc11c\\ub294 \\uc704\\uae30 \\ub54c\\ub9c8\\ub2e4 \\ud798\\uc744 \\ubaa8\\uc544\\uc8fc\\uc168\\ub2e4\\u201d\\uace0 \\ub9d0\\ud588\\ub2e4.\"\n        ],\n        \"semantic_type\": \"\",\n        \"description\": \"\"\n      }\n    }\n  ]\n}"
            }
          },
          "metadata": {},
          "execution_count": 10
        }
      ],
      "source": [
        "corpus_df.head()"
      ]
    },
    {
      "cell_type": "code",
      "source": [
        "client = Client()\n",
        "client"
      ],
      "metadata": {
        "id": "0QYYmAkOEzrr"
      },
      "execution_count": null,
      "outputs": []
    },
    {
      "cell_type": "code",
      "source": [
        "client.close()"
      ],
      "metadata": {
        "id": "LHCQgPfUAeQl"
      },
      "execution_count": null,
      "outputs": []
    },
    {
      "cell_type": "code",
      "source": [
        "def pos_tag_sentence(sentence):\n",
        "    t = brn.Tagger(API_KEY, \"localhost\", 5656) # tagger는 변수 t에 할당\n",
        "    try:\n",
        "        res = t.tags([sentence])\n",
        "        return list(res.pos())\n",
        "    except Exception as e:\n",
        "        print(f\"Error tagging sentence: {sentence}\")\n",
        "        print(f\"Error: {e}\")\n",
        "        return []\n",
        "\n",
        "with ProgressBar():\n",
        "    corpus_df['pos_tagged'] = corpus_df['untagged'].map_partitions(lambda x: x.apply(pos_tag_sentence))\n",
        "    corpus_df = corpus_df.compute()\n",
        "\n",
        "client.close()"
      ],
      "metadata": {
        "id": "mIC12qqY2EpI"
      },
      "execution_count": null,
      "outputs": []
    },
    {
      "cell_type": "markdown",
      "source": [
        "# POS tagging"
      ],
      "metadata": {
        "id": "l7uXmABxiPP_"
      }
    },
    {
      "cell_type": "code",
      "source": [
        "corpus_df = pd.read_parquet('corpus_df.parquet')"
      ],
      "metadata": {
        "id": "7KYLMuN1kiBS"
      },
      "execution_count": null,
      "outputs": []
    },
    {
      "cell_type": "code",
      "source": [
        "corpus_df.head()"
      ],
      "metadata": {
        "colab": {
          "base_uri": "https://localhost:8080/",
          "height": 276
        },
        "id": "BretKmmMk_uh",
        "outputId": "85d7833d-2477-4dbf-8c00-9e2d46d69f06"
      },
      "execution_count": null,
      "outputs": [
        {
          "output_type": "execute_result",
          "data": {
            "text/plain": [
              "          sentence_id                                           untagged\n",
              "0  NIRW2300000001.1.1                     [영상]“위기를 이겨내고 일상으로” 부산 기관장 신년사\n",
              "1  NIRW2300000001.1.2  취임 2년 차를 맞는 박형준 부산시장은 코로나19 위기를 이겨내고 있는 부산시민들에...\n",
              "2  NIRW2300000001.1.3  박 시장은 “코로나19는 번번이 우리의 희망의 길목을 막아섰고, 지금도 여전히 민생...\n",
              "3  NIRW2300000001.1.4  그러면서 “숱한 어려움을 헤쳐온 위대한 시민의 힘으로 2022년을 코로나를 극복하고...\n",
              "4  NIRW2300000001.1.5  박 시장은 “치밀한 전략으로 2030세계박람회 유치를 위한 국제박람회기구 현지 실사..."
            ],
            "text/html": [
              "\n",
              "  <div id=\"df-a2ba703f-3cda-4336-9052-656a9970610a\" class=\"colab-df-container\">\n",
              "    <div>\n",
              "<style scoped>\n",
              "    .dataframe tbody tr th:only-of-type {\n",
              "        vertical-align: middle;\n",
              "    }\n",
              "\n",
              "    .dataframe tbody tr th {\n",
              "        vertical-align: top;\n",
              "    }\n",
              "\n",
              "    .dataframe thead th {\n",
              "        text-align: right;\n",
              "    }\n",
              "</style>\n",
              "<table border=\"1\" class=\"dataframe\">\n",
              "  <thead>\n",
              "    <tr style=\"text-align: right;\">\n",
              "      <th></th>\n",
              "      <th>sentence_id</th>\n",
              "      <th>untagged</th>\n",
              "    </tr>\n",
              "  </thead>\n",
              "  <tbody>\n",
              "    <tr>\n",
              "      <th>0</th>\n",
              "      <td>NIRW2300000001.1.1</td>\n",
              "      <td>[영상]“위기를 이겨내고 일상으로” 부산 기관장 신년사</td>\n",
              "    </tr>\n",
              "    <tr>\n",
              "      <th>1</th>\n",
              "      <td>NIRW2300000001.1.2</td>\n",
              "      <td>취임 2년 차를 맞는 박형준 부산시장은 코로나19 위기를 이겨내고 있는 부산시민들에...</td>\n",
              "    </tr>\n",
              "    <tr>\n",
              "      <th>2</th>\n",
              "      <td>NIRW2300000001.1.3</td>\n",
              "      <td>박 시장은 “코로나19는 번번이 우리의 희망의 길목을 막아섰고, 지금도 여전히 민생...</td>\n",
              "    </tr>\n",
              "    <tr>\n",
              "      <th>3</th>\n",
              "      <td>NIRW2300000001.1.4</td>\n",
              "      <td>그러면서 “숱한 어려움을 헤쳐온 위대한 시민의 힘으로 2022년을 코로나를 극복하고...</td>\n",
              "    </tr>\n",
              "    <tr>\n",
              "      <th>4</th>\n",
              "      <td>NIRW2300000001.1.5</td>\n",
              "      <td>박 시장은 “치밀한 전략으로 2030세계박람회 유치를 위한 국제박람회기구 현지 실사...</td>\n",
              "    </tr>\n",
              "  </tbody>\n",
              "</table>\n",
              "</div>\n",
              "    <div class=\"colab-df-buttons\">\n",
              "\n",
              "  <div class=\"colab-df-container\">\n",
              "    <button class=\"colab-df-convert\" onclick=\"convertToInteractive('df-a2ba703f-3cda-4336-9052-656a9970610a')\"\n",
              "            title=\"Convert this dataframe to an interactive table.\"\n",
              "            style=\"display:none;\">\n",
              "\n",
              "  <svg xmlns=\"http://www.w3.org/2000/svg\" height=\"24px\" viewBox=\"0 -960 960 960\">\n",
              "    <path d=\"M120-120v-720h720v720H120Zm60-500h600v-160H180v160Zm220 220h160v-160H400v160Zm0 220h160v-160H400v160ZM180-400h160v-160H180v160Zm440 0h160v-160H620v160ZM180-180h160v-160H180v160Zm440 0h160v-160H620v160Z\"/>\n",
              "  </svg>\n",
              "    </button>\n",
              "\n",
              "  <style>\n",
              "    .colab-df-container {\n",
              "      display:flex;\n",
              "      gap: 12px;\n",
              "    }\n",
              "\n",
              "    .colab-df-convert {\n",
              "      background-color: #E8F0FE;\n",
              "      border: none;\n",
              "      border-radius: 50%;\n",
              "      cursor: pointer;\n",
              "      display: none;\n",
              "      fill: #1967D2;\n",
              "      height: 32px;\n",
              "      padding: 0 0 0 0;\n",
              "      width: 32px;\n",
              "    }\n",
              "\n",
              "    .colab-df-convert:hover {\n",
              "      background-color: #E2EBFA;\n",
              "      box-shadow: 0px 1px 2px rgba(60, 64, 67, 0.3), 0px 1px 3px 1px rgba(60, 64, 67, 0.15);\n",
              "      fill: #174EA6;\n",
              "    }\n",
              "\n",
              "    .colab-df-buttons div {\n",
              "      margin-bottom: 4px;\n",
              "    }\n",
              "\n",
              "    [theme=dark] .colab-df-convert {\n",
              "      background-color: #3B4455;\n",
              "      fill: #D2E3FC;\n",
              "    }\n",
              "\n",
              "    [theme=dark] .colab-df-convert:hover {\n",
              "      background-color: #434B5C;\n",
              "      box-shadow: 0px 1px 3px 1px rgba(0, 0, 0, 0.15);\n",
              "      filter: drop-shadow(0px 1px 2px rgba(0, 0, 0, 0.3));\n",
              "      fill: #FFFFFF;\n",
              "    }\n",
              "  </style>\n",
              "\n",
              "    <script>\n",
              "      const buttonEl =\n",
              "        document.querySelector('#df-a2ba703f-3cda-4336-9052-656a9970610a button.colab-df-convert');\n",
              "      buttonEl.style.display =\n",
              "        google.colab.kernel.accessAllowed ? 'block' : 'none';\n",
              "\n",
              "      async function convertToInteractive(key) {\n",
              "        const element = document.querySelector('#df-a2ba703f-3cda-4336-9052-656a9970610a');\n",
              "        const dataTable =\n",
              "          await google.colab.kernel.invokeFunction('convertToInteractive',\n",
              "                                                    [key], {});\n",
              "        if (!dataTable) return;\n",
              "\n",
              "        const docLinkHtml = 'Like what you see? Visit the ' +\n",
              "          '<a target=\"_blank\" href=https://colab.research.google.com/notebooks/data_table.ipynb>data table notebook</a>'\n",
              "          + ' to learn more about interactive tables.';\n",
              "        element.innerHTML = '';\n",
              "        dataTable['output_type'] = 'display_data';\n",
              "        await google.colab.output.renderOutput(dataTable, element);\n",
              "        const docLink = document.createElement('div');\n",
              "        docLink.innerHTML = docLinkHtml;\n",
              "        element.appendChild(docLink);\n",
              "      }\n",
              "    </script>\n",
              "  </div>\n",
              "\n",
              "\n",
              "<div id=\"df-df7ce942-8cfb-448f-bb4e-195a2c2ba9ac\">\n",
              "  <button class=\"colab-df-quickchart\" onclick=\"quickchart('df-df7ce942-8cfb-448f-bb4e-195a2c2ba9ac')\"\n",
              "            title=\"Suggest charts\"\n",
              "            style=\"display:none;\">\n",
              "\n",
              "<svg xmlns=\"http://www.w3.org/2000/svg\" height=\"24px\"viewBox=\"0 0 24 24\"\n",
              "     width=\"24px\">\n",
              "    <g>\n",
              "        <path d=\"M19 3H5c-1.1 0-2 .9-2 2v14c0 1.1.9 2 2 2h14c1.1 0 2-.9 2-2V5c0-1.1-.9-2-2-2zM9 17H7v-7h2v7zm4 0h-2V7h2v10zm4 0h-2v-4h2v4z\"/>\n",
              "    </g>\n",
              "</svg>\n",
              "  </button>\n",
              "\n",
              "<style>\n",
              "  .colab-df-quickchart {\n",
              "      --bg-color: #E8F0FE;\n",
              "      --fill-color: #1967D2;\n",
              "      --hover-bg-color: #E2EBFA;\n",
              "      --hover-fill-color: #174EA6;\n",
              "      --disabled-fill-color: #AAA;\n",
              "      --disabled-bg-color: #DDD;\n",
              "  }\n",
              "\n",
              "  [theme=dark] .colab-df-quickchart {\n",
              "      --bg-color: #3B4455;\n",
              "      --fill-color: #D2E3FC;\n",
              "      --hover-bg-color: #434B5C;\n",
              "      --hover-fill-color: #FFFFFF;\n",
              "      --disabled-bg-color: #3B4455;\n",
              "      --disabled-fill-color: #666;\n",
              "  }\n",
              "\n",
              "  .colab-df-quickchart {\n",
              "    background-color: var(--bg-color);\n",
              "    border: none;\n",
              "    border-radius: 50%;\n",
              "    cursor: pointer;\n",
              "    display: none;\n",
              "    fill: var(--fill-color);\n",
              "    height: 32px;\n",
              "    padding: 0;\n",
              "    width: 32px;\n",
              "  }\n",
              "\n",
              "  .colab-df-quickchart:hover {\n",
              "    background-color: var(--hover-bg-color);\n",
              "    box-shadow: 0 1px 2px rgba(60, 64, 67, 0.3), 0 1px 3px 1px rgba(60, 64, 67, 0.15);\n",
              "    fill: var(--button-hover-fill-color);\n",
              "  }\n",
              "\n",
              "  .colab-df-quickchart-complete:disabled,\n",
              "  .colab-df-quickchart-complete:disabled:hover {\n",
              "    background-color: var(--disabled-bg-color);\n",
              "    fill: var(--disabled-fill-color);\n",
              "    box-shadow: none;\n",
              "  }\n",
              "\n",
              "  .colab-df-spinner {\n",
              "    border: 2px solid var(--fill-color);\n",
              "    border-color: transparent;\n",
              "    border-bottom-color: var(--fill-color);\n",
              "    animation:\n",
              "      spin 1s steps(1) infinite;\n",
              "  }\n",
              "\n",
              "  @keyframes spin {\n",
              "    0% {\n",
              "      border-color: transparent;\n",
              "      border-bottom-color: var(--fill-color);\n",
              "      border-left-color: var(--fill-color);\n",
              "    }\n",
              "    20% {\n",
              "      border-color: transparent;\n",
              "      border-left-color: var(--fill-color);\n",
              "      border-top-color: var(--fill-color);\n",
              "    }\n",
              "    30% {\n",
              "      border-color: transparent;\n",
              "      border-left-color: var(--fill-color);\n",
              "      border-top-color: var(--fill-color);\n",
              "      border-right-color: var(--fill-color);\n",
              "    }\n",
              "    40% {\n",
              "      border-color: transparent;\n",
              "      border-right-color: var(--fill-color);\n",
              "      border-top-color: var(--fill-color);\n",
              "    }\n",
              "    60% {\n",
              "      border-color: transparent;\n",
              "      border-right-color: var(--fill-color);\n",
              "    }\n",
              "    80% {\n",
              "      border-color: transparent;\n",
              "      border-right-color: var(--fill-color);\n",
              "      border-bottom-color: var(--fill-color);\n",
              "    }\n",
              "    90% {\n",
              "      border-color: transparent;\n",
              "      border-bottom-color: var(--fill-color);\n",
              "    }\n",
              "  }\n",
              "</style>\n",
              "\n",
              "  <script>\n",
              "    async function quickchart(key) {\n",
              "      const quickchartButtonEl =\n",
              "        document.querySelector('#' + key + ' button');\n",
              "      quickchartButtonEl.disabled = true;  // To prevent multiple clicks.\n",
              "      quickchartButtonEl.classList.add('colab-df-spinner');\n",
              "      try {\n",
              "        const charts = await google.colab.kernel.invokeFunction(\n",
              "            'suggestCharts', [key], {});\n",
              "      } catch (error) {\n",
              "        console.error('Error during call to suggestCharts:', error);\n",
              "      }\n",
              "      quickchartButtonEl.classList.remove('colab-df-spinner');\n",
              "      quickchartButtonEl.classList.add('colab-df-quickchart-complete');\n",
              "    }\n",
              "    (() => {\n",
              "      let quickchartButtonEl =\n",
              "        document.querySelector('#df-df7ce942-8cfb-448f-bb4e-195a2c2ba9ac button');\n",
              "      quickchartButtonEl.style.display =\n",
              "        google.colab.kernel.accessAllowed ? 'block' : 'none';\n",
              "    })();\n",
              "  </script>\n",
              "</div>\n",
              "\n",
              "    </div>\n",
              "  </div>\n"
            ],
            "application/vnd.google.colaboratory.intrinsic+json": {
              "type": "dataframe",
              "variable_name": "corpus_df"
            }
          },
          "metadata": {},
          "execution_count": 9
        }
      ]
    },
    {
      "cell_type": "code",
      "source": [
        "# 데이터프레임 10개로 분할\n",
        "split_corpus_df = np.array_split(corpus_df, 10) # split_corpus_df[0] ~ [9]\n",
        "for i in range(10):\n",
        "  split_corpus_df[i].to_parquet(f'split_corpus_df_{i}.parquet')"
      ],
      "metadata": {
        "colab": {
          "base_uri": "https://localhost:8080/"
        },
        "id": "0-i1CLFCUTAj",
        "outputId": "846cd125-b37b-449f-cce6-d6ec7b3fbd0b"
      },
      "execution_count": null,
      "outputs": [
        {
          "output_type": "stream",
          "name": "stderr",
          "text": [
            "/usr/local/lib/python3.10/dist-packages/numpy/core/fromnumeric.py:59: FutureWarning: 'DataFrame.swapaxes' is deprecated and will be removed in a future version. Please use 'DataFrame.transpose' instead.\n",
            "  return bound(*args, **kwds)\n"
          ]
        }
      ]
    },
    {
      "cell_type": "code",
      "source": [
        "num_processes = mp.cpu_count() - 1\n",
        "chunksize_divided = 100\n",
        "API_KEY = \"koba-VAD6MMA-BFSU7XI-SYQYWYY-Y4MXHVA\" # <- 본인의 API KEY로 교체\n",
        "t = brn.Tagger(API_KEY, \"localhost\", 5656) # tagger는 변수 t에 할당\n",
        "def pos_tag_sentence(sentence):\n",
        "      try:\n",
        "          res = t.tags([sentence])\n",
        "          return list(res.pos())\n",
        "      except Exception as e:\n",
        "          print(f\"Error tagging sentence: {sentence}\")\n",
        "          print(f\"Error: {e}\")\n",
        "          return []\n",
        "\n",
        "def apply_pos_tagging(df, chunksize=None):\n",
        "\n",
        "    with mp.Pool(processes=num_processes) as pool:\n",
        "        results = list(tqdm(pool.imap(pos_tag_sentence, df['untagged'], chunksize=chunksize), total=len(df), desc=\"Tagging sentences\"))\n",
        "    return results\n",
        "\n",
        "\n"
      ],
      "metadata": {
        "id": "WyWnC_v5iTP_"
      },
      "execution_count": null,
      "outputs": []
    },
    {
      "cell_type": "code",
      "source": [
        "# split_corpus_df_9\n",
        "split_corpus_df_9 = pd.read_parquet('split_corpus_df_9.parquet')\n",
        "split_corpus_df_9.loc[:, 'pos_tagged'] = apply_pos_tagging(split_corpus_df_9, chunksize=chunksize_divided)\n",
        "split_corpus_df_9.to_parquet(f'split_corpus_df_{9}_pos.parquet')\n",
        "del split_corpus_df_9"
      ],
      "metadata": {
        "colab": {
          "base_uri": "https://localhost:8080/"
        },
        "id": "1WnU8oKd8ymb",
        "outputId": "79320205-7616-4c9e-ae54-eeff3ad79476"
      },
      "execution_count": null,
      "outputs": [
        {
          "output_type": "stream",
          "name": "stderr",
          "text": [
            "Tagging sentences: 100%|██████████| 899204/899204 [1:46:34<00:00, 140.62it/s]\n"
          ]
        }
      ]
    },
    {
      "cell_type": "markdown",
      "source": [
        "# DP parsing"
      ],
      "metadata": {
        "id": "V6zC-kTAizmj"
      }
    },
    {
      "cell_type": "code",
      "source": [
        "# import\n",
        "import spacy\n",
        "from spacy import displacy"
      ],
      "metadata": {
        "id": "aR7YzZXhfR6s"
      },
      "execution_count": null,
      "outputs": []
    },
    {
      "cell_type": "code",
      "source": [
        "!pip show spacy"
      ],
      "metadata": {
        "colab": {
          "base_uri": "https://localhost:8080/"
        },
        "id": "Jat8ToCoBpV7",
        "outputId": "d06a65c1-f8c9-4b77-a773-5f4561cc00e5"
      },
      "execution_count": null,
      "outputs": [
        {
          "output_type": "stream",
          "name": "stdout",
          "text": [
            "Name: spacy\n",
            "Version: 3.7.6\n",
            "Summary: Industrial-strength Natural Language Processing (NLP) in Python\n",
            "Home-page: https://spacy.io\n",
            "Author: Explosion\n",
            "Author-email: contact@explosion.ai\n",
            "License: MIT\n",
            "Location: /usr/local/lib/python3.10/dist-packages\n",
            "Requires: catalogue, cymem, jinja2, langcodes, murmurhash, numpy, packaging, preshed, pydantic, requests, setuptools, spacy-legacy, spacy-loggers, srsly, thinc, tqdm, typer, wasabi, weasel\n",
            "Required-by: en-core-web-sm, fastai, ko-core-news-lg\n"
          ]
        }
      ]
    },
    {
      "cell_type": "code",
      "execution_count": null,
      "metadata": {
        "id": "74hpwmghOjrr"
      },
      "outputs": [],
      "source": [
        "nlp = spacy.load('ko_core_news_lg')\n",
        "doc = nlp(\"철수가 영희를 좋아한다.\")"
      ]
    },
    {
      "cell_type": "code",
      "execution_count": null,
      "metadata": {
        "colab": {
          "base_uri": "https://localhost:8080/"
        },
        "id": "qxgOnAWAQnwe",
        "outputId": "1cdfe666-25ca-4721-e7ad-36236dc42b72"
      },
      "outputs": [
        {
          "output_type": "stream",
          "name": "stdout",
          "text": [
            "철수가 NOUN nsubj\n",
            "영희를 NOUN obj\n",
            "좋아한다 VERB ROOT\n",
            ". PUNCT punct\n"
          ]
        }
      ],
      "source": [
        "for token in doc:\n",
        "    print(token.text, token.pos_, token.dep_)"
      ]
    },
    {
      "cell_type": "code",
      "source": [
        "displacy.render(doc, style='dep', jupyter=True)"
      ],
      "metadata": {
        "colab": {
          "base_uri": "https://localhost:8080/",
          "height": 333
        },
        "id": "u7pnSsZ1SyB_",
        "outputId": "126ea810-d1f0-4f67-d58e-f0421ae29df3"
      },
      "execution_count": null,
      "outputs": [
        {
          "output_type": "display_data",
          "data": {
            "text/plain": [
              "<IPython.core.display.HTML object>"
            ],
            "text/html": [
              "<span class=\"tex2jax_ignore\"><svg xmlns=\"http://www.w3.org/2000/svg\" xmlns:xlink=\"http://www.w3.org/1999/xlink\" xml:lang=\"ko\" id=\"5195109a09e840649d186f299b1996c5-0\" class=\"displacy\" width=\"575\" height=\"312.0\" direction=\"ltr\" style=\"max-width: none; height: 312.0px; color: #000000; background: #ffffff; font-family: Arial; direction: ltr\">\n",
              "<text class=\"displacy-token\" fill=\"currentColor\" text-anchor=\"middle\" y=\"222.0\">\n",
              "    <tspan class=\"displacy-word\" fill=\"currentColor\" x=\"50\">철수가</tspan>\n",
              "    <tspan class=\"displacy-tag\" dy=\"2em\" fill=\"currentColor\" x=\"50\">NOUN</tspan>\n",
              "</text>\n",
              "\n",
              "<text class=\"displacy-token\" fill=\"currentColor\" text-anchor=\"middle\" y=\"222.0\">\n",
              "    <tspan class=\"displacy-word\" fill=\"currentColor\" x=\"225\">영희를</tspan>\n",
              "    <tspan class=\"displacy-tag\" dy=\"2em\" fill=\"currentColor\" x=\"225\">NOUN</tspan>\n",
              "</text>\n",
              "\n",
              "<text class=\"displacy-token\" fill=\"currentColor\" text-anchor=\"middle\" y=\"222.0\">\n",
              "    <tspan class=\"displacy-word\" fill=\"currentColor\" x=\"400\">좋아한다.</tspan>\n",
              "    <tspan class=\"displacy-tag\" dy=\"2em\" fill=\"currentColor\" x=\"400\">VERB</tspan>\n",
              "</text>\n",
              "\n",
              "<g class=\"displacy-arrow\">\n",
              "    <path class=\"displacy-arc\" id=\"arrow-5195109a09e840649d186f299b1996c5-0-0\" stroke-width=\"2px\" d=\"M70,177.0 C70,2.0 400.0,2.0 400.0,177.0\" fill=\"none\" stroke=\"currentColor\"/>\n",
              "    <text dy=\"1.25em\" style=\"font-size: 0.8em; letter-spacing: 1px\">\n",
              "        <textPath xlink:href=\"#arrow-5195109a09e840649d186f299b1996c5-0-0\" class=\"displacy-label\" startOffset=\"50%\" side=\"left\" fill=\"currentColor\" text-anchor=\"middle\">nsubj</textPath>\n",
              "    </text>\n",
              "    <path class=\"displacy-arrowhead\" d=\"M70,179.0 L62,167.0 78,167.0\" fill=\"currentColor\"/>\n",
              "</g>\n",
              "\n",
              "<g class=\"displacy-arrow\">\n",
              "    <path class=\"displacy-arc\" id=\"arrow-5195109a09e840649d186f299b1996c5-0-1\" stroke-width=\"2px\" d=\"M245,177.0 C245,89.5 395.0,89.5 395.0,177.0\" fill=\"none\" stroke=\"currentColor\"/>\n",
              "    <text dy=\"1.25em\" style=\"font-size: 0.8em; letter-spacing: 1px\">\n",
              "        <textPath xlink:href=\"#arrow-5195109a09e840649d186f299b1996c5-0-1\" class=\"displacy-label\" startOffset=\"50%\" side=\"left\" fill=\"currentColor\" text-anchor=\"middle\">obj</textPath>\n",
              "    </text>\n",
              "    <path class=\"displacy-arrowhead\" d=\"M245,179.0 L237,167.0 253,167.0\" fill=\"currentColor\"/>\n",
              "</g>\n",
              "</svg></span>"
            ]
          },
          "metadata": {}
        }
      ]
    },
    {
      "cell_type": "code",
      "source": [
        "num_processes = mp.cpu_count() - 1\n",
        "chunksize_divided = 100\n",
        "\n",
        "def dp_parse_sentence(sentence):\n",
        "    try:\n",
        "        doc = nlp(sentence)\n",
        "        return [(token.text, token.dep_) for token in doc]\n",
        "    except Exception as e:\n",
        "        print(f\"Error parsing sentence: {sentence}\")\n",
        "        print(f\"Error: {e}\")\n",
        "        return []\n",
        "\n",
        "def apply_dp_parsing(df, chunksize=None):\n",
        "\n",
        "    with mp.Pool(processes=num_processes) as pool:\n",
        "        results = list(tqdm(pool.imap(dp_parse_sentence, df['untagged'], chunksize=chunksize), total=len(df), desc=\"Pagging sentences\"))\n",
        "    return results\n",
        "\n"
      ],
      "metadata": {
        "id": "-kM5taU6vz7b"
      },
      "execution_count": null,
      "outputs": []
    },
    {
      "cell_type": "code",
      "source": [
        "# test\n",
        "split_corpus_df_0_pos = pd.read_parquet('split_corpus_df_0_pos.parquet')\n",
        "test_dp = split_corpus_df_0_pos.head(100)\n",
        "test_dp.loc[:, 'dp_parsed'] = apply_dp_parsing(test_dp, chunksize=chunksize_divided)"
      ],
      "metadata": {
        "id": "8uwI8xm-xGvv"
      },
      "execution_count": null,
      "outputs": []
    },
    {
      "cell_type": "code",
      "source": [
        "test_dp.head()"
      ],
      "metadata": {
        "colab": {
          "base_uri": "https://localhost:8080/",
          "height": 362
        },
        "id": "t1GBbdhUxdvV",
        "outputId": "c03b2c6e-3a9a-4462-bdee-2e6293da7272"
      },
      "execution_count": null,
      "outputs": [
        {
          "output_type": "execute_result",
          "data": {
            "text/plain": [
              "          sentence_id                                           untagged  \\\n",
              "0  NIRW2300000001.1.1                     [영상]“위기를 이겨내고 일상으로” 부산 기관장 신년사   \n",
              "1  NIRW2300000001.1.2  취임 2년 차를 맞는 박형준 부산시장은 코로나19 위기를 이겨내고 있는 부산시민들에...   \n",
              "2  NIRW2300000001.1.3  박 시장은 “코로나19는 번번이 우리의 희망의 길목을 막아섰고, 지금도 여전히 민생...   \n",
              "3  NIRW2300000001.1.4  그러면서 “숱한 어려움을 헤쳐온 위대한 시민의 힘으로 2022년을 코로나를 극복하고...   \n",
              "4  NIRW2300000001.1.5  박 시장은 “치밀한 전략으로 2030세계박람회 유치를 위한 국제박람회기구 현지 실사...   \n",
              "\n",
              "                                          pos_tagged  \\\n",
              "0  [[[, SS], [영상, NNG], [], SS], [“, SS], [위기, NN...   \n",
              "1  [[취임, NNG], [2, SN], [년, NNB], [차, NNB], [를, J...   \n",
              "2  [[박, NNP], [시장, NNG], [은, JX], [“, SS], [코로나, ...   \n",
              "3  [[그러, VV], [면서, EC], [“, SS], [숱하, VA], [ㄴ, ET...   \n",
              "4  [[박, NNP], [시장, NNG], [은, JX], [“, SS], [치밀하, ...   \n",
              "\n",
              "                                           dp_parsed  \n",
              "0  [([, punct), (영상], advmod), (“, compound), (위기...  \n",
              "1  [(취임, compound), (2년, compound), (차를, obj), (맞...  \n",
              "2  [(박, compound), (시장은, dislocated), (“, advmod)...  \n",
              "3  [(그러면서, cc), (“, advmod), (숱한, amod), (어려움을, o...  \n",
              "4  [(박, compound), (시장은, dislocated), (“, advmod)...  "
            ],
            "text/html": [
              "\n",
              "  <div id=\"df-fae8bde4-449a-4782-8c1a-fe7175c1809b\" class=\"colab-df-container\">\n",
              "    <div>\n",
              "<style scoped>\n",
              "    .dataframe tbody tr th:only-of-type {\n",
              "        vertical-align: middle;\n",
              "    }\n",
              "\n",
              "    .dataframe tbody tr th {\n",
              "        vertical-align: top;\n",
              "    }\n",
              "\n",
              "    .dataframe thead th {\n",
              "        text-align: right;\n",
              "    }\n",
              "</style>\n",
              "<table border=\"1\" class=\"dataframe\">\n",
              "  <thead>\n",
              "    <tr style=\"text-align: right;\">\n",
              "      <th></th>\n",
              "      <th>sentence_id</th>\n",
              "      <th>untagged</th>\n",
              "      <th>pos_tagged</th>\n",
              "      <th>dp_parsed</th>\n",
              "    </tr>\n",
              "  </thead>\n",
              "  <tbody>\n",
              "    <tr>\n",
              "      <th>0</th>\n",
              "      <td>NIRW2300000001.1.1</td>\n",
              "      <td>[영상]“위기를 이겨내고 일상으로” 부산 기관장 신년사</td>\n",
              "      <td>[[[, SS], [영상, NNG], [], SS], [“, SS], [위기, NN...</td>\n",
              "      <td>[([, punct), (영상], advmod), (“, compound), (위기...</td>\n",
              "    </tr>\n",
              "    <tr>\n",
              "      <th>1</th>\n",
              "      <td>NIRW2300000001.1.2</td>\n",
              "      <td>취임 2년 차를 맞는 박형준 부산시장은 코로나19 위기를 이겨내고 있는 부산시민들에...</td>\n",
              "      <td>[[취임, NNG], [2, SN], [년, NNB], [차, NNB], [를, J...</td>\n",
              "      <td>[(취임, compound), (2년, compound), (차를, obj), (맞...</td>\n",
              "    </tr>\n",
              "    <tr>\n",
              "      <th>2</th>\n",
              "      <td>NIRW2300000001.1.3</td>\n",
              "      <td>박 시장은 “코로나19는 번번이 우리의 희망의 길목을 막아섰고, 지금도 여전히 민생...</td>\n",
              "      <td>[[박, NNP], [시장, NNG], [은, JX], [“, SS], [코로나, ...</td>\n",
              "      <td>[(박, compound), (시장은, dislocated), (“, advmod)...</td>\n",
              "    </tr>\n",
              "    <tr>\n",
              "      <th>3</th>\n",
              "      <td>NIRW2300000001.1.4</td>\n",
              "      <td>그러면서 “숱한 어려움을 헤쳐온 위대한 시민의 힘으로 2022년을 코로나를 극복하고...</td>\n",
              "      <td>[[그러, VV], [면서, EC], [“, SS], [숱하, VA], [ㄴ, ET...</td>\n",
              "      <td>[(그러면서, cc), (“, advmod), (숱한, amod), (어려움을, o...</td>\n",
              "    </tr>\n",
              "    <tr>\n",
              "      <th>4</th>\n",
              "      <td>NIRW2300000001.1.5</td>\n",
              "      <td>박 시장은 “치밀한 전략으로 2030세계박람회 유치를 위한 국제박람회기구 현지 실사...</td>\n",
              "      <td>[[박, NNP], [시장, NNG], [은, JX], [“, SS], [치밀하, ...</td>\n",
              "      <td>[(박, compound), (시장은, dislocated), (“, advmod)...</td>\n",
              "    </tr>\n",
              "  </tbody>\n",
              "</table>\n",
              "</div>\n",
              "    <div class=\"colab-df-buttons\">\n",
              "\n",
              "  <div class=\"colab-df-container\">\n",
              "    <button class=\"colab-df-convert\" onclick=\"convertToInteractive('df-fae8bde4-449a-4782-8c1a-fe7175c1809b')\"\n",
              "            title=\"Convert this dataframe to an interactive table.\"\n",
              "            style=\"display:none;\">\n",
              "\n",
              "  <svg xmlns=\"http://www.w3.org/2000/svg\" height=\"24px\" viewBox=\"0 -960 960 960\">\n",
              "    <path d=\"M120-120v-720h720v720H120Zm60-500h600v-160H180v160Zm220 220h160v-160H400v160Zm0 220h160v-160H400v160ZM180-400h160v-160H180v160Zm440 0h160v-160H620v160ZM180-180h160v-160H180v160Zm440 0h160v-160H620v160Z\"/>\n",
              "  </svg>\n",
              "    </button>\n",
              "\n",
              "  <style>\n",
              "    .colab-df-container {\n",
              "      display:flex;\n",
              "      gap: 12px;\n",
              "    }\n",
              "\n",
              "    .colab-df-convert {\n",
              "      background-color: #E8F0FE;\n",
              "      border: none;\n",
              "      border-radius: 50%;\n",
              "      cursor: pointer;\n",
              "      display: none;\n",
              "      fill: #1967D2;\n",
              "      height: 32px;\n",
              "      padding: 0 0 0 0;\n",
              "      width: 32px;\n",
              "    }\n",
              "\n",
              "    .colab-df-convert:hover {\n",
              "      background-color: #E2EBFA;\n",
              "      box-shadow: 0px 1px 2px rgba(60, 64, 67, 0.3), 0px 1px 3px 1px rgba(60, 64, 67, 0.15);\n",
              "      fill: #174EA6;\n",
              "    }\n",
              "\n",
              "    .colab-df-buttons div {\n",
              "      margin-bottom: 4px;\n",
              "    }\n",
              "\n",
              "    [theme=dark] .colab-df-convert {\n",
              "      background-color: #3B4455;\n",
              "      fill: #D2E3FC;\n",
              "    }\n",
              "\n",
              "    [theme=dark] .colab-df-convert:hover {\n",
              "      background-color: #434B5C;\n",
              "      box-shadow: 0px 1px 3px 1px rgba(0, 0, 0, 0.15);\n",
              "      filter: drop-shadow(0px 1px 2px rgba(0, 0, 0, 0.3));\n",
              "      fill: #FFFFFF;\n",
              "    }\n",
              "  </style>\n",
              "\n",
              "    <script>\n",
              "      const buttonEl =\n",
              "        document.querySelector('#df-fae8bde4-449a-4782-8c1a-fe7175c1809b button.colab-df-convert');\n",
              "      buttonEl.style.display =\n",
              "        google.colab.kernel.accessAllowed ? 'block' : 'none';\n",
              "\n",
              "      async function convertToInteractive(key) {\n",
              "        const element = document.querySelector('#df-fae8bde4-449a-4782-8c1a-fe7175c1809b');\n",
              "        const dataTable =\n",
              "          await google.colab.kernel.invokeFunction('convertToInteractive',\n",
              "                                                    [key], {});\n",
              "        if (!dataTable) return;\n",
              "\n",
              "        const docLinkHtml = 'Like what you see? Visit the ' +\n",
              "          '<a target=\"_blank\" href=https://colab.research.google.com/notebooks/data_table.ipynb>data table notebook</a>'\n",
              "          + ' to learn more about interactive tables.';\n",
              "        element.innerHTML = '';\n",
              "        dataTable['output_type'] = 'display_data';\n",
              "        await google.colab.output.renderOutput(dataTable, element);\n",
              "        const docLink = document.createElement('div');\n",
              "        docLink.innerHTML = docLinkHtml;\n",
              "        element.appendChild(docLink);\n",
              "      }\n",
              "    </script>\n",
              "  </div>\n",
              "\n",
              "\n",
              "<div id=\"df-9852174d-12cf-4d5b-b6f3-70454953df66\">\n",
              "  <button class=\"colab-df-quickchart\" onclick=\"quickchart('df-9852174d-12cf-4d5b-b6f3-70454953df66')\"\n",
              "            title=\"Suggest charts\"\n",
              "            style=\"display:none;\">\n",
              "\n",
              "<svg xmlns=\"http://www.w3.org/2000/svg\" height=\"24px\"viewBox=\"0 0 24 24\"\n",
              "     width=\"24px\">\n",
              "    <g>\n",
              "        <path d=\"M19 3H5c-1.1 0-2 .9-2 2v14c0 1.1.9 2 2 2h14c1.1 0 2-.9 2-2V5c0-1.1-.9-2-2-2zM9 17H7v-7h2v7zm4 0h-2V7h2v10zm4 0h-2v-4h2v4z\"/>\n",
              "    </g>\n",
              "</svg>\n",
              "  </button>\n",
              "\n",
              "<style>\n",
              "  .colab-df-quickchart {\n",
              "      --bg-color: #E8F0FE;\n",
              "      --fill-color: #1967D2;\n",
              "      --hover-bg-color: #E2EBFA;\n",
              "      --hover-fill-color: #174EA6;\n",
              "      --disabled-fill-color: #AAA;\n",
              "      --disabled-bg-color: #DDD;\n",
              "  }\n",
              "\n",
              "  [theme=dark] .colab-df-quickchart {\n",
              "      --bg-color: #3B4455;\n",
              "      --fill-color: #D2E3FC;\n",
              "      --hover-bg-color: #434B5C;\n",
              "      --hover-fill-color: #FFFFFF;\n",
              "      --disabled-bg-color: #3B4455;\n",
              "      --disabled-fill-color: #666;\n",
              "  }\n",
              "\n",
              "  .colab-df-quickchart {\n",
              "    background-color: var(--bg-color);\n",
              "    border: none;\n",
              "    border-radius: 50%;\n",
              "    cursor: pointer;\n",
              "    display: none;\n",
              "    fill: var(--fill-color);\n",
              "    height: 32px;\n",
              "    padding: 0;\n",
              "    width: 32px;\n",
              "  }\n",
              "\n",
              "  .colab-df-quickchart:hover {\n",
              "    background-color: var(--hover-bg-color);\n",
              "    box-shadow: 0 1px 2px rgba(60, 64, 67, 0.3), 0 1px 3px 1px rgba(60, 64, 67, 0.15);\n",
              "    fill: var(--button-hover-fill-color);\n",
              "  }\n",
              "\n",
              "  .colab-df-quickchart-complete:disabled,\n",
              "  .colab-df-quickchart-complete:disabled:hover {\n",
              "    background-color: var(--disabled-bg-color);\n",
              "    fill: var(--disabled-fill-color);\n",
              "    box-shadow: none;\n",
              "  }\n",
              "\n",
              "  .colab-df-spinner {\n",
              "    border: 2px solid var(--fill-color);\n",
              "    border-color: transparent;\n",
              "    border-bottom-color: var(--fill-color);\n",
              "    animation:\n",
              "      spin 1s steps(1) infinite;\n",
              "  }\n",
              "\n",
              "  @keyframes spin {\n",
              "    0% {\n",
              "      border-color: transparent;\n",
              "      border-bottom-color: var(--fill-color);\n",
              "      border-left-color: var(--fill-color);\n",
              "    }\n",
              "    20% {\n",
              "      border-color: transparent;\n",
              "      border-left-color: var(--fill-color);\n",
              "      border-top-color: var(--fill-color);\n",
              "    }\n",
              "    30% {\n",
              "      border-color: transparent;\n",
              "      border-left-color: var(--fill-color);\n",
              "      border-top-color: var(--fill-color);\n",
              "      border-right-color: var(--fill-color);\n",
              "    }\n",
              "    40% {\n",
              "      border-color: transparent;\n",
              "      border-right-color: var(--fill-color);\n",
              "      border-top-color: var(--fill-color);\n",
              "    }\n",
              "    60% {\n",
              "      border-color: transparent;\n",
              "      border-right-color: var(--fill-color);\n",
              "    }\n",
              "    80% {\n",
              "      border-color: transparent;\n",
              "      border-right-color: var(--fill-color);\n",
              "      border-bottom-color: var(--fill-color);\n",
              "    }\n",
              "    90% {\n",
              "      border-color: transparent;\n",
              "      border-bottom-color: var(--fill-color);\n",
              "    }\n",
              "  }\n",
              "</style>\n",
              "\n",
              "  <script>\n",
              "    async function quickchart(key) {\n",
              "      const quickchartButtonEl =\n",
              "        document.querySelector('#' + key + ' button');\n",
              "      quickchartButtonEl.disabled = true;  // To prevent multiple clicks.\n",
              "      quickchartButtonEl.classList.add('colab-df-spinner');\n",
              "      try {\n",
              "        const charts = await google.colab.kernel.invokeFunction(\n",
              "            'suggestCharts', [key], {});\n",
              "      } catch (error) {\n",
              "        console.error('Error during call to suggestCharts:', error);\n",
              "      }\n",
              "      quickchartButtonEl.classList.remove('colab-df-spinner');\n",
              "      quickchartButtonEl.classList.add('colab-df-quickchart-complete');\n",
              "    }\n",
              "    (() => {\n",
              "      let quickchartButtonEl =\n",
              "        document.querySelector('#df-9852174d-12cf-4d5b-b6f3-70454953df66 button');\n",
              "      quickchartButtonEl.style.display =\n",
              "        google.colab.kernel.accessAllowed ? 'block' : 'none';\n",
              "    })();\n",
              "  </script>\n",
              "</div>\n",
              "\n",
              "    </div>\n",
              "  </div>\n"
            ],
            "application/vnd.google.colaboratory.intrinsic+json": {
              "type": "dataframe",
              "variable_name": "test_dp",
              "summary": "{\n  \"name\": \"test_dp\",\n  \"rows\": 100,\n  \"fields\": [\n    {\n      \"column\": \"sentence_id\",\n      \"properties\": {\n        \"dtype\": \"string\",\n        \"num_unique_values\": 100,\n        \"samples\": [\n          \"NIRW2300000001.7.5\",\n          \"NIRW2300000001.4.3\",\n          \"NIRW2300000001.6.5\"\n        ],\n        \"semantic_type\": \"\",\n        \"description\": \"\"\n      }\n    },\n    {\n      \"column\": \"untagged\",\n      \"properties\": {\n        \"dtype\": \"string\",\n        \"num_unique_values\": 100,\n        \"samples\": [\n          \"\\uc601\\u00b7\\uc720\\uac00 \\uc904\\uba74 \\ubc18 \\ud3b8\\uc131\\uc774 \\ub418\\uc9c0 \\uc54a\\uc544 \\uc5b4\\ub9b0\\uc774\\uc9d1\\uc774 \\ubb38\\uc744 \\ub2eb\\uac8c \\ub418\\uace0 \\ub2e4\\ub2c8\\ub358 \\uc544\\uc774\\ub4e4\\uc740 \\ub2e4\\ub978 \\uacf3\\uc73c\\ub85c \\uc62e\\uaca8 \\ub2e4\\ub140\\uc57c \\ud558\\ub294 \\ubd88\\ud3b8\\uc774 \\ub298\\uace0 \\uc788\\ub2e4. \\uc774\\uc5d0 \\uad70\\uc740 \\uc9c0\\ub09c\\ud574\\ubd80\\ud130 \\ubcf4\\uc721\\ud658\\uacbd \\uac1c\\uc120, \\uc5b4\\ub9b0\\uc774\\uc9d1 \\uc885\\uc0ac\\uc790 \\uace0\\uc6a9 \\uc548\\uc815 \\ub4f1\\uc744 \\ubaa9\\ud45c\\ub85c \\ubcf4\\uc721 \\uad50\\uc9c1\\uc6d0 \\uc778\\uac74\\ube44 \\uc9c0\\uc6d0 \\uc0ac\\uc5c5\\uc744 \\ucd94\\uc9c4\\ud558\\uace0 \\uc788\\ub2e4.\",\n          \"\\ub3c4\\uc640 \\uc2dc\\uad70, \\uc548\\uc804\\uc9c4\\ub2e8 \\uc804\\ubb38\\uac00 \\ub4f1 \\ubbfc\\uad00\\ud569\\ub3d9\\uc810\\uac80\\ubc18\\uc740 \\uc624\\ub294 4\\uc77c\\ubd80\\ud130 21\\uc77c\\uae4c\\uc9c0 \\ub3c4\\ub0b4 \\ubc84\\uc2a4\\ud130\\ubbf8\\ub110, \\uc804\\ud1b5\\uc2dc\\uc7a5, \\ub300\\ud615\\ub9c8\\ud2b8 \\ub4f1 \\ub2e4\\uc911\\uc774\\uc6a9\\uc2dc\\uc124 30\\uacf3\\uc5d0\\uc11c \\uac74\\ucd95\\u00b7\\uc804\\uae30\\u00b7\\uac00\\uc2a4 \\ub4f1 \\ubd84\\uc57c\\ubcc4 \\uc810\\uac80\\uacfc \\ud568\\uaed8 \\ucf54\\ub85c\\ub09819 \\ubc29\\uc5ed\\ub3c4 \\uc810\\uac80\\ud55c\\ub2e4.\",\n          \"\\ucf54\\ub85c\\ub09819 \\uc5ec\\ud30c\\ub85c \\ubd80\\uc0b0 \\ud574\\ub9de\\uc774 \\uba85\\uc18c\\uc778 \\ud574\\uc6b4\\ub300\\ud574\\uc218\\uc695\\uc7a5\\uc740 \\uc804\\ub0a0 \\uc624\\ud6c4 10\\uc2dc\\ubd80\\ud130 \\uc774\\ub0a0 \\uc624\\uc804 9\\uc2dc\\uae4c\\uc9c0 \\ucd9c\\uc785\\uc774 \\ud3d0\\uc1c4\\ub410\\ub2e4.\"\n        ],\n        \"semantic_type\": \"\",\n        \"description\": \"\"\n      }\n    },\n    {\n      \"column\": \"pos_tagged\",\n      \"properties\": {\n        \"dtype\": \"object\",\n        \"semantic_type\": \"\",\n        \"description\": \"\"\n      }\n    },\n    {\n      \"column\": \"dp_parsed\",\n      \"properties\": {\n        \"dtype\": \"object\",\n        \"semantic_type\": \"\",\n        \"description\": \"\"\n      }\n    }\n  ]\n}"
            }
          },
          "metadata": {},
          "execution_count": 7
        }
      ]
    },
    {
      "cell_type": "code",
      "source": [
        "# split_corpus_df_0_pos\n",
        "split_corpus_df_0_pos = pd.read_parquet('split_corpus_df_0_pos.parquet')\n",
        "split_corpus_df_0_pos.loc[:, 'dp_parsed'] =  apply_dp_parsing(split_corpus_df_0_pos, chunksize=chunksize_divided)\n",
        "split_corpus_df_0_pos.to_parquet(f'split_corpus_df_{0}_pos_dp.parquet')\n",
        "del split_corpus_df_0_pos"
      ],
      "metadata": {
        "id": "ehHAy7o0wY-P",
        "colab": {
          "base_uri": "https://localhost:8080/"
        },
        "outputId": "41ad2c7f-a3c4-4f6e-a70c-e7f6388ce02d"
      },
      "execution_count": null,
      "outputs": [
        {
          "output_type": "stream",
          "name": "stderr",
          "text": [
            "Pagging sentences: 100%|██████████| 899205/899205 [27:34<00:00, 543.54it/s]\n"
          ]
        }
      ]
    },
    {
      "cell_type": "code",
      "source": [
        "# split_corpus_df_1_pos\n",
        "split_corpus_df_1_pos = pd.read_parquet('split_corpus_df_1_pos.parquet')\n",
        "split_corpus_df_1_pos.loc[:, 'dp_parsed'] =  apply_dp_parsing(split_corpus_df_1_pos, chunksize=chunksize_divided)\n",
        "split_corpus_df_1_pos.to_parquet(f'split_corpus_df_{1}_pos_dp.parquet')\n",
        "del split_corpus_df_1_pos"
      ],
      "metadata": {
        "colab": {
          "base_uri": "https://localhost:8080/"
        },
        "id": "wnWaVSUG5Mig",
        "outputId": "14bac860-783e-478f-cff2-e2fdd1014c70"
      },
      "execution_count": null,
      "outputs": [
        {
          "output_type": "stream",
          "name": "stderr",
          "text": [
            "Pagging sentences: 100%|██████████| 899205/899205 [27:45<00:00, 539.85it/s]\n"
          ]
        }
      ]
    },
    {
      "cell_type": "code",
      "source": [
        "# split_corpus_df_2_pos\n",
        "split_corpus_df_2_pos = pd.read_parquet('split_corpus_df_2_pos.parquet')\n",
        "split_corpus_df_2_pos.loc[:, 'dp_parsed'] =  apply_dp_parsing(split_corpus_df_2_pos, chunksize=chunksize_divided)\n",
        "split_corpus_df_2_pos.to_parquet(f'split_corpus_df_{2}_pos_dp.parquet')\n",
        "del split_corpus_df_2_pos"
      ],
      "metadata": {
        "colab": {
          "base_uri": "https://localhost:8080/"
        },
        "id": "IqV96FxTAbhJ",
        "outputId": "92f52d8b-38a3-409b-a573-dbaf8ce67715"
      },
      "execution_count": null,
      "outputs": [
        {
          "output_type": "stream",
          "name": "stderr",
          "text": [
            "Pagging sentences: 100%|██████████| 899204/899204 [27:44<00:00, 540.26it/s]\n"
          ]
        }
      ]
    },
    {
      "cell_type": "code",
      "source": [
        "# split_corpus_df_3_pos\n",
        "split_corpus_df_3_pos = pd.read_parquet('split_corpus_df_3_pos.parquet')\n",
        "split_corpus_df_3_pos.loc[:, 'dp_parsed'] =  apply_dp_parsing(split_corpus_df_3_pos, chunksize=chunksize_divided)\n",
        "split_corpus_df_3_pos.to_parquet(f'split_corpus_df_{3}_pos_dp.parquet')\n",
        "del split_corpus_df_3_pos"
      ],
      "metadata": {
        "colab": {
          "base_uri": "https://localhost:8080/"
        },
        "id": "PJ2PATJ_HkRp",
        "outputId": "634c86e3-0e9a-4cae-98e3-0c5b3d1808cc"
      },
      "execution_count": null,
      "outputs": [
        {
          "output_type": "stream",
          "name": "stderr",
          "text": [
            "Pagging sentences: 100%|██████████| 899204/899204 [31:06<00:00, 481.68it/s]\n"
          ]
        }
      ]
    },
    {
      "cell_type": "code",
      "source": [
        "# split_corpus_df_4_pos\n",
        "split_corpus_df_4_pos = pd.read_parquet('split_corpus_df_4_pos.parquet')\n",
        "split_corpus_df_4_pos.loc[:, 'dp_parsed'] =  apply_dp_parsing(split_corpus_df_4_pos, chunksize=chunksize_divided)\n",
        "split_corpus_df_4_pos.to_parquet(f'split_corpus_df_{4}_pos_dp.parquet')\n",
        "del split_corpus_df_4_pos"
      ],
      "metadata": {
        "colab": {
          "base_uri": "https://localhost:8080/"
        },
        "id": "2mlw_AK4OaOZ",
        "outputId": "93beb566-e9bd-47a4-91a7-d24c5a25b8ef"
      },
      "execution_count": null,
      "outputs": [
        {
          "output_type": "stream",
          "name": "stderr",
          "text": [
            "Pagging sentences: 100%|██████████| 899204/899204 [30:50<00:00, 485.93it/s]\n"
          ]
        }
      ]
    },
    {
      "cell_type": "code",
      "source": [
        "# split_corpus_df_5_pos\n",
        "split_corpus_df_5_pos = pd.read_parquet('split_corpus_df_5_pos.parquet')\n",
        "split_corpus_df_5_pos.loc[:, 'dp_parsed'] =  apply_dp_parsing(split_corpus_df_5_pos, chunksize=chunksize_divided)\n",
        "split_corpus_df_5_pos.to_parquet(f'split_corpus_df_{5}_pos_dp.parquet')\n",
        "del split_corpus_df_5_pos"
      ],
      "metadata": {
        "colab": {
          "base_uri": "https://localhost:8080/"
        },
        "id": "XuTWvkjNWjJq",
        "outputId": "bedc8b39-0302-44b5-8985-a8fd46463493"
      },
      "execution_count": null,
      "outputs": [
        {
          "output_type": "stream",
          "name": "stderr",
          "text": [
            "Pagging sentences: 100%|██████████| 899204/899204 [30:58<00:00, 483.81it/s]\n"
          ]
        }
      ]
    },
    {
      "cell_type": "code",
      "source": [
        "# split_corpus_df_6_pos\n",
        "split_corpus_df_6_pos = pd.read_parquet('split_corpus_df_6_pos.parquet')\n",
        "split_corpus_df_6_pos.loc[:, 'dp_parsed'] =  apply_dp_parsing(split_corpus_df_6_pos, chunksize=chunksize_divided)\n",
        "split_corpus_df_6_pos.to_parquet(f'split_corpus_df_{6}_pos_dp.parquet')\n",
        "del split_corpus_df_6_pos"
      ],
      "metadata": {
        "colab": {
          "base_uri": "https://localhost:8080/"
        },
        "id": "VHtEn8bBeH8J",
        "outputId": "f6cf445b-0ac1-43bd-f855-e3d4dfbb3d59"
      },
      "execution_count": null,
      "outputs": [
        {
          "output_type": "stream",
          "name": "stderr",
          "text": [
            "Pagging sentences: 100%|██████████| 899204/899204 [29:17<00:00, 511.55it/s]\n"
          ]
        }
      ]
    },
    {
      "cell_type": "code",
      "source": [
        "# split_corpus_df_7_pos\n",
        "split_corpus_df_7_pos = pd.read_parquet('split_corpus_df_7_pos.parquet')\n",
        "split_corpus_df_7_pos.loc[:, 'dp_parsed'] =  apply_dp_parsing(split_corpus_df_7_pos, chunksize=chunksize_divided)\n",
        "split_corpus_df_7_pos.to_parquet(f'split_corpus_df_{7}_pos_dp.parquet')\n",
        "del split_corpus_df_7_pos"
      ],
      "metadata": {
        "colab": {
          "base_uri": "https://localhost:8080/"
        },
        "id": "QPGXdiDmlpNp",
        "outputId": "92164063-587a-4cfb-e320-7da5a73b4209"
      },
      "execution_count": null,
      "outputs": [
        {
          "output_type": "stream",
          "name": "stderr",
          "text": [
            "Pagging sentences: 100%|██████████| 899204/899204 [31:01<00:00, 483.12it/s]\n"
          ]
        }
      ]
    },
    {
      "cell_type": "code",
      "source": [
        "# split_corpus_df_8_pos\n",
        "split_corpus_df_8_pos = pd.read_parquet('split_corpus_df_8_pos.parquet')\n",
        "split_corpus_df_8_pos.loc[:, 'dp_parsed'] =  apply_dp_parsing(split_corpus_df_8_pos, chunksize=chunksize_divided)\n",
        "split_corpus_df_8_pos.to_parquet(f'split_corpus_df_{8}_pos_dp.parquet')\n",
        "del split_corpus_df_8_pos"
      ],
      "metadata": {
        "id": "Gg_nH6Ypxylv",
        "colab": {
          "base_uri": "https://localhost:8080/"
        },
        "outputId": "04d48836-0983-4c4b-e706-28f2bbfc51d7"
      },
      "execution_count": null,
      "outputs": [
        {
          "output_type": "stream",
          "name": "stderr",
          "text": [
            "Pagging sentences: 100%|██████████| 899204/899204 [29:59<00:00, 499.77it/s]\n"
          ]
        }
      ]
    },
    {
      "cell_type": "code",
      "source": [
        "# split_corpus_df_9_pos\n",
        "split_corpus_df_9_pos = pd.read_parquet('split_corpus_df_9_pos.parquet')\n",
        "split_corpus_df_9_pos.loc[:, 'dp_parsed'] =  apply_dp_parsing(split_corpus_df_9_pos, chunksize=chunksize_divided)\n",
        "split_corpus_df_9_pos.to_parquet(f'split_corpus_df_{9}_pos_dp.parquet')\n",
        "del split_corpus_df_9_pos"
      ],
      "metadata": {
        "colab": {
          "base_uri": "https://localhost:8080/"
        },
        "id": "y5kmDHjj70wK",
        "outputId": "5a7c204e-8a51-4ec3-d026-16b4f3d94dbb"
      },
      "execution_count": null,
      "outputs": [
        {
          "output_type": "stream",
          "name": "stderr",
          "text": [
            "Pagging sentences: 100%|██████████| 899204/899204 [32:41<00:00, 458.35it/s]\n"
          ]
        }
      ]
    },
    {
      "cell_type": "code",
      "source": [
        "split_corpus_df_9_pos_dp = pd.read_parquet('split_corpus_df_9_pos_dp.parquet')"
      ],
      "metadata": {
        "id": "To97LM4bVkLk"
      },
      "execution_count": null,
      "outputs": []
    },
    {
      "cell_type": "code",
      "source": [
        "split_corpus_df_9_pos_dp.head()"
      ],
      "metadata": {
        "colab": {
          "base_uri": "https://localhost:8080/",
          "height": 379
        },
        "id": "VUq10OHuVxRQ",
        "outputId": "2179b8f8-e44d-4329-8abf-fae71bfe5a17"
      },
      "execution_count": null,
      "outputs": [
        {
          "output_type": "execute_result",
          "data": {
            "text/plain": [
              "                    sentence_id  \\\n",
              "8092838  NWRW2300000005.14413.1   \n",
              "8092839  NWRW2300000005.14413.2   \n",
              "8092840  NWRW2300000005.14413.3   \n",
              "8092841  NWRW2300000005.14413.4   \n",
              "8092842  NWRW2300000005.14413.5   \n",
              "\n",
              "                                                  untagged  \\\n",
              "8092838               네이버클라우드-KOTRA, 국내 ICT 기업 해외 진출 지원 협력   \n",
              "8092839  네이버클라우드는 지난 28일 서울 염곡동에 위치한 KOTRA 본사에서 KOTRA와 ...   \n",
              "8092840  이번 협약으로 업계 인지도와 해외 네트워크가 부족한 국내 중소 ICT·SW 기업의 ...   \n",
              "8092841  네이버클라우드는 해외 진출이 유망한 ICT 분야의 중소기업과 스타트업을 발굴하고, ...   \n",
              "8092842  이와 더불어 양사는 국내 중소기업의 해외 마케팅 지원 및 해외 진출 인큐베이팅에 함...   \n",
              "\n",
              "                                                pos_tagged  \\\n",
              "8092838  [[네이버클라우드, NNP], [-, SO], [KOTRA, NNP], [,, SP...   \n",
              "8092839  [[네이버클라우드, NNP], [는, JX], [지나, VV], [ㄴ, ETM], ...   \n",
              "8092840  [[이번, NNG], [협약, NNG], [으로, JKB], [업계, NNG], [...   \n",
              "8092841  [[네이버클라우드, NNP], [는, JX], [해외, NNG], [진출, NNG]...   \n",
              "8092842  [[이, NP], [와, JKB], [더불, VV], [어, EC], [양, MMN...   \n",
              "\n",
              "                                                 dp_parsed  \n",
              "8092838  [[네이버클라우드, compound], [-, appos], [KOTRA, flat...  \n",
              "8092839  [[네이버클라우드는, dislocated], [지난, acl], [28일, advm...  \n",
              "8092840  [[이번, compound], [협약으로, advcl], [업계, compound]...  \n",
              "8092841  [[네이버클라우드는, dislocated], [해외, compound], [진출이,...  \n",
              "8092842  [[이와, ccomp], [더불어, conj], [양사는, dislocated], ...  "
            ],
            "text/html": [
              "\n",
              "  <div id=\"df-58fb8da1-1036-44b5-9c53-794edd0c369f\" class=\"colab-df-container\">\n",
              "    <div>\n",
              "<style scoped>\n",
              "    .dataframe tbody tr th:only-of-type {\n",
              "        vertical-align: middle;\n",
              "    }\n",
              "\n",
              "    .dataframe tbody tr th {\n",
              "        vertical-align: top;\n",
              "    }\n",
              "\n",
              "    .dataframe thead th {\n",
              "        text-align: right;\n",
              "    }\n",
              "</style>\n",
              "<table border=\"1\" class=\"dataframe\">\n",
              "  <thead>\n",
              "    <tr style=\"text-align: right;\">\n",
              "      <th></th>\n",
              "      <th>sentence_id</th>\n",
              "      <th>untagged</th>\n",
              "      <th>pos_tagged</th>\n",
              "      <th>dp_parsed</th>\n",
              "    </tr>\n",
              "  </thead>\n",
              "  <tbody>\n",
              "    <tr>\n",
              "      <th>8092838</th>\n",
              "      <td>NWRW2300000005.14413.1</td>\n",
              "      <td>네이버클라우드-KOTRA, 국내 ICT 기업 해외 진출 지원 협력</td>\n",
              "      <td>[[네이버클라우드, NNP], [-, SO], [KOTRA, NNP], [,, SP...</td>\n",
              "      <td>[[네이버클라우드, compound], [-, appos], [KOTRA, flat...</td>\n",
              "    </tr>\n",
              "    <tr>\n",
              "      <th>8092839</th>\n",
              "      <td>NWRW2300000005.14413.2</td>\n",
              "      <td>네이버클라우드는 지난 28일 서울 염곡동에 위치한 KOTRA 본사에서 KOTRA와 ...</td>\n",
              "      <td>[[네이버클라우드, NNP], [는, JX], [지나, VV], [ㄴ, ETM], ...</td>\n",
              "      <td>[[네이버클라우드는, dislocated], [지난, acl], [28일, advm...</td>\n",
              "    </tr>\n",
              "    <tr>\n",
              "      <th>8092840</th>\n",
              "      <td>NWRW2300000005.14413.3</td>\n",
              "      <td>이번 협약으로 업계 인지도와 해외 네트워크가 부족한 국내 중소 ICT·SW 기업의 ...</td>\n",
              "      <td>[[이번, NNG], [협약, NNG], [으로, JKB], [업계, NNG], [...</td>\n",
              "      <td>[[이번, compound], [협약으로, advcl], [업계, compound]...</td>\n",
              "    </tr>\n",
              "    <tr>\n",
              "      <th>8092841</th>\n",
              "      <td>NWRW2300000005.14413.4</td>\n",
              "      <td>네이버클라우드는 해외 진출이 유망한 ICT 분야의 중소기업과 스타트업을 발굴하고, ...</td>\n",
              "      <td>[[네이버클라우드, NNP], [는, JX], [해외, NNG], [진출, NNG]...</td>\n",
              "      <td>[[네이버클라우드는, dislocated], [해외, compound], [진출이,...</td>\n",
              "    </tr>\n",
              "    <tr>\n",
              "      <th>8092842</th>\n",
              "      <td>NWRW2300000005.14413.5</td>\n",
              "      <td>이와 더불어 양사는 국내 중소기업의 해외 마케팅 지원 및 해외 진출 인큐베이팅에 함...</td>\n",
              "      <td>[[이, NP], [와, JKB], [더불, VV], [어, EC], [양, MMN...</td>\n",
              "      <td>[[이와, ccomp], [더불어, conj], [양사는, dislocated], ...</td>\n",
              "    </tr>\n",
              "  </tbody>\n",
              "</table>\n",
              "</div>\n",
              "    <div class=\"colab-df-buttons\">\n",
              "\n",
              "  <div class=\"colab-df-container\">\n",
              "    <button class=\"colab-df-convert\" onclick=\"convertToInteractive('df-58fb8da1-1036-44b5-9c53-794edd0c369f')\"\n",
              "            title=\"Convert this dataframe to an interactive table.\"\n",
              "            style=\"display:none;\">\n",
              "\n",
              "  <svg xmlns=\"http://www.w3.org/2000/svg\" height=\"24px\" viewBox=\"0 -960 960 960\">\n",
              "    <path d=\"M120-120v-720h720v720H120Zm60-500h600v-160H180v160Zm220 220h160v-160H400v160Zm0 220h160v-160H400v160ZM180-400h160v-160H180v160Zm440 0h160v-160H620v160ZM180-180h160v-160H180v160Zm440 0h160v-160H620v160Z\"/>\n",
              "  </svg>\n",
              "    </button>\n",
              "\n",
              "  <style>\n",
              "    .colab-df-container {\n",
              "      display:flex;\n",
              "      gap: 12px;\n",
              "    }\n",
              "\n",
              "    .colab-df-convert {\n",
              "      background-color: #E8F0FE;\n",
              "      border: none;\n",
              "      border-radius: 50%;\n",
              "      cursor: pointer;\n",
              "      display: none;\n",
              "      fill: #1967D2;\n",
              "      height: 32px;\n",
              "      padding: 0 0 0 0;\n",
              "      width: 32px;\n",
              "    }\n",
              "\n",
              "    .colab-df-convert:hover {\n",
              "      background-color: #E2EBFA;\n",
              "      box-shadow: 0px 1px 2px rgba(60, 64, 67, 0.3), 0px 1px 3px 1px rgba(60, 64, 67, 0.15);\n",
              "      fill: #174EA6;\n",
              "    }\n",
              "\n",
              "    .colab-df-buttons div {\n",
              "      margin-bottom: 4px;\n",
              "    }\n",
              "\n",
              "    [theme=dark] .colab-df-convert {\n",
              "      background-color: #3B4455;\n",
              "      fill: #D2E3FC;\n",
              "    }\n",
              "\n",
              "    [theme=dark] .colab-df-convert:hover {\n",
              "      background-color: #434B5C;\n",
              "      box-shadow: 0px 1px 3px 1px rgba(0, 0, 0, 0.15);\n",
              "      filter: drop-shadow(0px 1px 2px rgba(0, 0, 0, 0.3));\n",
              "      fill: #FFFFFF;\n",
              "    }\n",
              "  </style>\n",
              "\n",
              "    <script>\n",
              "      const buttonEl =\n",
              "        document.querySelector('#df-58fb8da1-1036-44b5-9c53-794edd0c369f button.colab-df-convert');\n",
              "      buttonEl.style.display =\n",
              "        google.colab.kernel.accessAllowed ? 'block' : 'none';\n",
              "\n",
              "      async function convertToInteractive(key) {\n",
              "        const element = document.querySelector('#df-58fb8da1-1036-44b5-9c53-794edd0c369f');\n",
              "        const dataTable =\n",
              "          await google.colab.kernel.invokeFunction('convertToInteractive',\n",
              "                                                    [key], {});\n",
              "        if (!dataTable) return;\n",
              "\n",
              "        const docLinkHtml = 'Like what you see? Visit the ' +\n",
              "          '<a target=\"_blank\" href=https://colab.research.google.com/notebooks/data_table.ipynb>data table notebook</a>'\n",
              "          + ' to learn more about interactive tables.';\n",
              "        element.innerHTML = '';\n",
              "        dataTable['output_type'] = 'display_data';\n",
              "        await google.colab.output.renderOutput(dataTable, element);\n",
              "        const docLink = document.createElement('div');\n",
              "        docLink.innerHTML = docLinkHtml;\n",
              "        element.appendChild(docLink);\n",
              "      }\n",
              "    </script>\n",
              "  </div>\n",
              "\n",
              "\n",
              "<div id=\"df-e9df69f8-0a93-4c6d-8003-c208d5d1d814\">\n",
              "  <button class=\"colab-df-quickchart\" onclick=\"quickchart('df-e9df69f8-0a93-4c6d-8003-c208d5d1d814')\"\n",
              "            title=\"Suggest charts\"\n",
              "            style=\"display:none;\">\n",
              "\n",
              "<svg xmlns=\"http://www.w3.org/2000/svg\" height=\"24px\"viewBox=\"0 0 24 24\"\n",
              "     width=\"24px\">\n",
              "    <g>\n",
              "        <path d=\"M19 3H5c-1.1 0-2 .9-2 2v14c0 1.1.9 2 2 2h14c1.1 0 2-.9 2-2V5c0-1.1-.9-2-2-2zM9 17H7v-7h2v7zm4 0h-2V7h2v10zm4 0h-2v-4h2v4z\"/>\n",
              "    </g>\n",
              "</svg>\n",
              "  </button>\n",
              "\n",
              "<style>\n",
              "  .colab-df-quickchart {\n",
              "      --bg-color: #E8F0FE;\n",
              "      --fill-color: #1967D2;\n",
              "      --hover-bg-color: #E2EBFA;\n",
              "      --hover-fill-color: #174EA6;\n",
              "      --disabled-fill-color: #AAA;\n",
              "      --disabled-bg-color: #DDD;\n",
              "  }\n",
              "\n",
              "  [theme=dark] .colab-df-quickchart {\n",
              "      --bg-color: #3B4455;\n",
              "      --fill-color: #D2E3FC;\n",
              "      --hover-bg-color: #434B5C;\n",
              "      --hover-fill-color: #FFFFFF;\n",
              "      --disabled-bg-color: #3B4455;\n",
              "      --disabled-fill-color: #666;\n",
              "  }\n",
              "\n",
              "  .colab-df-quickchart {\n",
              "    background-color: var(--bg-color);\n",
              "    border: none;\n",
              "    border-radius: 50%;\n",
              "    cursor: pointer;\n",
              "    display: none;\n",
              "    fill: var(--fill-color);\n",
              "    height: 32px;\n",
              "    padding: 0;\n",
              "    width: 32px;\n",
              "  }\n",
              "\n",
              "  .colab-df-quickchart:hover {\n",
              "    background-color: var(--hover-bg-color);\n",
              "    box-shadow: 0 1px 2px rgba(60, 64, 67, 0.3), 0 1px 3px 1px rgba(60, 64, 67, 0.15);\n",
              "    fill: var(--button-hover-fill-color);\n",
              "  }\n",
              "\n",
              "  .colab-df-quickchart-complete:disabled,\n",
              "  .colab-df-quickchart-complete:disabled:hover {\n",
              "    background-color: var(--disabled-bg-color);\n",
              "    fill: var(--disabled-fill-color);\n",
              "    box-shadow: none;\n",
              "  }\n",
              "\n",
              "  .colab-df-spinner {\n",
              "    border: 2px solid var(--fill-color);\n",
              "    border-color: transparent;\n",
              "    border-bottom-color: var(--fill-color);\n",
              "    animation:\n",
              "      spin 1s steps(1) infinite;\n",
              "  }\n",
              "\n",
              "  @keyframes spin {\n",
              "    0% {\n",
              "      border-color: transparent;\n",
              "      border-bottom-color: var(--fill-color);\n",
              "      border-left-color: var(--fill-color);\n",
              "    }\n",
              "    20% {\n",
              "      border-color: transparent;\n",
              "      border-left-color: var(--fill-color);\n",
              "      border-top-color: var(--fill-color);\n",
              "    }\n",
              "    30% {\n",
              "      border-color: transparent;\n",
              "      border-left-color: var(--fill-color);\n",
              "      border-top-color: var(--fill-color);\n",
              "      border-right-color: var(--fill-color);\n",
              "    }\n",
              "    40% {\n",
              "      border-color: transparent;\n",
              "      border-right-color: var(--fill-color);\n",
              "      border-top-color: var(--fill-color);\n",
              "    }\n",
              "    60% {\n",
              "      border-color: transparent;\n",
              "      border-right-color: var(--fill-color);\n",
              "    }\n",
              "    80% {\n",
              "      border-color: transparent;\n",
              "      border-right-color: var(--fill-color);\n",
              "      border-bottom-color: var(--fill-color);\n",
              "    }\n",
              "    90% {\n",
              "      border-color: transparent;\n",
              "      border-bottom-color: var(--fill-color);\n",
              "    }\n",
              "  }\n",
              "</style>\n",
              "\n",
              "  <script>\n",
              "    async function quickchart(key) {\n",
              "      const quickchartButtonEl =\n",
              "        document.querySelector('#' + key + ' button');\n",
              "      quickchartButtonEl.disabled = true;  // To prevent multiple clicks.\n",
              "      quickchartButtonEl.classList.add('colab-df-spinner');\n",
              "      try {\n",
              "        const charts = await google.colab.kernel.invokeFunction(\n",
              "            'suggestCharts', [key], {});\n",
              "      } catch (error) {\n",
              "        console.error('Error during call to suggestCharts:', error);\n",
              "      }\n",
              "      quickchartButtonEl.classList.remove('colab-df-spinner');\n",
              "      quickchartButtonEl.classList.add('colab-df-quickchart-complete');\n",
              "    }\n",
              "    (() => {\n",
              "      let quickchartButtonEl =\n",
              "        document.querySelector('#df-e9df69f8-0a93-4c6d-8003-c208d5d1d814 button');\n",
              "      quickchartButtonEl.style.display =\n",
              "        google.colab.kernel.accessAllowed ? 'block' : 'none';\n",
              "    })();\n",
              "  </script>\n",
              "</div>\n",
              "\n",
              "    </div>\n",
              "  </div>\n"
            ],
            "application/vnd.google.colaboratory.intrinsic+json": {
              "type": "dataframe",
              "variable_name": "split_corpus_df_9_pos_dp"
            }
          },
          "metadata": {},
          "execution_count": 12
        }
      ]
    },
    {
      "cell_type": "code",
      "source": [
        "split_corpus_df_9_pos_dp.tail()"
      ],
      "metadata": {
        "colab": {
          "base_uri": "https://localhost:8080/",
          "height": 414
        },
        "id": "R0Rm1jQ0V5S5",
        "outputId": "f45a0283-a9dc-432b-ca92-cce18533557d"
      },
      "execution_count": null,
      "outputs": [
        {
          "output_type": "execute_result",
          "data": {
            "text/plain": [
              "                     sentence_id  \\\n",
              "8992037   NWRW2300000008.32549.7   \n",
              "8992038   NWRW2300000008.32549.8   \n",
              "8992039   NWRW2300000008.32549.9   \n",
              "8992040  NWRW2300000008.32549.10   \n",
              "8992041  NWRW2300000008.32549.11   \n",
              "\n",
              "                                                  untagged  \\\n",
              "8992037  김지은은 ‘천원짜리 변호사’에서 천지훈(남궁민)의 사보 백마리로 변신했다. 코믹 연...   \n",
              "8992038  미니시리즈 장르·판타지 부문 남자 우수연기상은 ‘악의 마음을 읽는 자들’ 진선규가 ...   \n",
              "8992039  진선규는 ‘악의 마음을 읽는 자들’에서 범죄행동분석 팀장 국영수 역을 맡아 열연을 ...   \n",
              "8992040  미니시리즈 장르·판타지 부문 여자 우수연기상은 ‘소방서 옆 경찰서’ 공승연이 받게 ...   \n",
              "8992041  공승연은 ‘소방서 옆 경찰서’에서 구급대원 송설 역을 맡았다. 생과 사가 오가는 매...   \n",
              "\n",
              "                                                pos_tagged  \\\n",
              "8992037  [[김지은, NNP], [은, JX], [‘, SS], [천, NR], [원, NN...   \n",
              "8992038  [[미니, NNG], [시리즈, NNG], [장르, NNG], [·, SP], [판...   \n",
              "8992039  [[진선규, NNP], [는, JX], [‘, SS], [악, NNG], [의, J...   \n",
              "8992040  [[미니, NNG], [시리즈, NNG], [장르, NNG], [·, SP], [판...   \n",
              "8992041  [[공승연, NNP], [은, JX], [‘, SS], [소방서, NNG], [옆,...   \n",
              "\n",
              "                                                 dp_parsed  \n",
              "8992037  [[김지은은, dislocated], [‘, punct], [천원짜리, compou...  \n",
              "8992038  [[미니시리즈, compound], [장르, compound], [·, compou...  \n",
              "8992039  [[진선규는, dislocated], [‘, punct], [악의, nmod], [...  \n",
              "8992040  [[미니시리즈, compound], [장르, compound], [·, compou...  \n",
              "8992041  [[공승연은, dislocated], [‘, punct], [소방서, compoun...  "
            ],
            "text/html": [
              "\n",
              "  <div id=\"df-4f9f70b2-a922-4425-aaed-621dafbf075a\" class=\"colab-df-container\">\n",
              "    <div>\n",
              "<style scoped>\n",
              "    .dataframe tbody tr th:only-of-type {\n",
              "        vertical-align: middle;\n",
              "    }\n",
              "\n",
              "    .dataframe tbody tr th {\n",
              "        vertical-align: top;\n",
              "    }\n",
              "\n",
              "    .dataframe thead th {\n",
              "        text-align: right;\n",
              "    }\n",
              "</style>\n",
              "<table border=\"1\" class=\"dataframe\">\n",
              "  <thead>\n",
              "    <tr style=\"text-align: right;\">\n",
              "      <th></th>\n",
              "      <th>sentence_id</th>\n",
              "      <th>untagged</th>\n",
              "      <th>pos_tagged</th>\n",
              "      <th>dp_parsed</th>\n",
              "    </tr>\n",
              "  </thead>\n",
              "  <tbody>\n",
              "    <tr>\n",
              "      <th>8992037</th>\n",
              "      <td>NWRW2300000008.32549.7</td>\n",
              "      <td>김지은은 ‘천원짜리 변호사’에서 천지훈(남궁민)의 사보 백마리로 변신했다. 코믹 연...</td>\n",
              "      <td>[[김지은, NNP], [은, JX], [‘, SS], [천, NR], [원, NN...</td>\n",
              "      <td>[[김지은은, dislocated], [‘, punct], [천원짜리, compou...</td>\n",
              "    </tr>\n",
              "    <tr>\n",
              "      <th>8992038</th>\n",
              "      <td>NWRW2300000008.32549.8</td>\n",
              "      <td>미니시리즈 장르·판타지 부문 남자 우수연기상은 ‘악의 마음을 읽는 자들’ 진선규가 ...</td>\n",
              "      <td>[[미니, NNG], [시리즈, NNG], [장르, NNG], [·, SP], [판...</td>\n",
              "      <td>[[미니시리즈, compound], [장르, compound], [·, compou...</td>\n",
              "    </tr>\n",
              "    <tr>\n",
              "      <th>8992039</th>\n",
              "      <td>NWRW2300000008.32549.9</td>\n",
              "      <td>진선규는 ‘악의 마음을 읽는 자들’에서 범죄행동분석 팀장 국영수 역을 맡아 열연을 ...</td>\n",
              "      <td>[[진선규, NNP], [는, JX], [‘, SS], [악, NNG], [의, J...</td>\n",
              "      <td>[[진선규는, dislocated], [‘, punct], [악의, nmod], [...</td>\n",
              "    </tr>\n",
              "    <tr>\n",
              "      <th>8992040</th>\n",
              "      <td>NWRW2300000008.32549.10</td>\n",
              "      <td>미니시리즈 장르·판타지 부문 여자 우수연기상은 ‘소방서 옆 경찰서’ 공승연이 받게 ...</td>\n",
              "      <td>[[미니, NNG], [시리즈, NNG], [장르, NNG], [·, SP], [판...</td>\n",
              "      <td>[[미니시리즈, compound], [장르, compound], [·, compou...</td>\n",
              "    </tr>\n",
              "    <tr>\n",
              "      <th>8992041</th>\n",
              "      <td>NWRW2300000008.32549.11</td>\n",
              "      <td>공승연은 ‘소방서 옆 경찰서’에서 구급대원 송설 역을 맡았다. 생과 사가 오가는 매...</td>\n",
              "      <td>[[공승연, NNP], [은, JX], [‘, SS], [소방서, NNG], [옆,...</td>\n",
              "      <td>[[공승연은, dislocated], [‘, punct], [소방서, compoun...</td>\n",
              "    </tr>\n",
              "  </tbody>\n",
              "</table>\n",
              "</div>\n",
              "    <div class=\"colab-df-buttons\">\n",
              "\n",
              "  <div class=\"colab-df-container\">\n",
              "    <button class=\"colab-df-convert\" onclick=\"convertToInteractive('df-4f9f70b2-a922-4425-aaed-621dafbf075a')\"\n",
              "            title=\"Convert this dataframe to an interactive table.\"\n",
              "            style=\"display:none;\">\n",
              "\n",
              "  <svg xmlns=\"http://www.w3.org/2000/svg\" height=\"24px\" viewBox=\"0 -960 960 960\">\n",
              "    <path d=\"M120-120v-720h720v720H120Zm60-500h600v-160H180v160Zm220 220h160v-160H400v160Zm0 220h160v-160H400v160ZM180-400h160v-160H180v160Zm440 0h160v-160H620v160ZM180-180h160v-160H180v160Zm440 0h160v-160H620v160Z\"/>\n",
              "  </svg>\n",
              "    </button>\n",
              "\n",
              "  <style>\n",
              "    .colab-df-container {\n",
              "      display:flex;\n",
              "      gap: 12px;\n",
              "    }\n",
              "\n",
              "    .colab-df-convert {\n",
              "      background-color: #E8F0FE;\n",
              "      border: none;\n",
              "      border-radius: 50%;\n",
              "      cursor: pointer;\n",
              "      display: none;\n",
              "      fill: #1967D2;\n",
              "      height: 32px;\n",
              "      padding: 0 0 0 0;\n",
              "      width: 32px;\n",
              "    }\n",
              "\n",
              "    .colab-df-convert:hover {\n",
              "      background-color: #E2EBFA;\n",
              "      box-shadow: 0px 1px 2px rgba(60, 64, 67, 0.3), 0px 1px 3px 1px rgba(60, 64, 67, 0.15);\n",
              "      fill: #174EA6;\n",
              "    }\n",
              "\n",
              "    .colab-df-buttons div {\n",
              "      margin-bottom: 4px;\n",
              "    }\n",
              "\n",
              "    [theme=dark] .colab-df-convert {\n",
              "      background-color: #3B4455;\n",
              "      fill: #D2E3FC;\n",
              "    }\n",
              "\n",
              "    [theme=dark] .colab-df-convert:hover {\n",
              "      background-color: #434B5C;\n",
              "      box-shadow: 0px 1px 3px 1px rgba(0, 0, 0, 0.15);\n",
              "      filter: drop-shadow(0px 1px 2px rgba(0, 0, 0, 0.3));\n",
              "      fill: #FFFFFF;\n",
              "    }\n",
              "  </style>\n",
              "\n",
              "    <script>\n",
              "      const buttonEl =\n",
              "        document.querySelector('#df-4f9f70b2-a922-4425-aaed-621dafbf075a button.colab-df-convert');\n",
              "      buttonEl.style.display =\n",
              "        google.colab.kernel.accessAllowed ? 'block' : 'none';\n",
              "\n",
              "      async function convertToInteractive(key) {\n",
              "        const element = document.querySelector('#df-4f9f70b2-a922-4425-aaed-621dafbf075a');\n",
              "        const dataTable =\n",
              "          await google.colab.kernel.invokeFunction('convertToInteractive',\n",
              "                                                    [key], {});\n",
              "        if (!dataTable) return;\n",
              "\n",
              "        const docLinkHtml = 'Like what you see? Visit the ' +\n",
              "          '<a target=\"_blank\" href=https://colab.research.google.com/notebooks/data_table.ipynb>data table notebook</a>'\n",
              "          + ' to learn more about interactive tables.';\n",
              "        element.innerHTML = '';\n",
              "        dataTable['output_type'] = 'display_data';\n",
              "        await google.colab.output.renderOutput(dataTable, element);\n",
              "        const docLink = document.createElement('div');\n",
              "        docLink.innerHTML = docLinkHtml;\n",
              "        element.appendChild(docLink);\n",
              "      }\n",
              "    </script>\n",
              "  </div>\n",
              "\n",
              "\n",
              "<div id=\"df-a76f0597-2146-497e-9fc1-aece24e4ba18\">\n",
              "  <button class=\"colab-df-quickchart\" onclick=\"quickchart('df-a76f0597-2146-497e-9fc1-aece24e4ba18')\"\n",
              "            title=\"Suggest charts\"\n",
              "            style=\"display:none;\">\n",
              "\n",
              "<svg xmlns=\"http://www.w3.org/2000/svg\" height=\"24px\"viewBox=\"0 0 24 24\"\n",
              "     width=\"24px\">\n",
              "    <g>\n",
              "        <path d=\"M19 3H5c-1.1 0-2 .9-2 2v14c0 1.1.9 2 2 2h14c1.1 0 2-.9 2-2V5c0-1.1-.9-2-2-2zM9 17H7v-7h2v7zm4 0h-2V7h2v10zm4 0h-2v-4h2v4z\"/>\n",
              "    </g>\n",
              "</svg>\n",
              "  </button>\n",
              "\n",
              "<style>\n",
              "  .colab-df-quickchart {\n",
              "      --bg-color: #E8F0FE;\n",
              "      --fill-color: #1967D2;\n",
              "      --hover-bg-color: #E2EBFA;\n",
              "      --hover-fill-color: #174EA6;\n",
              "      --disabled-fill-color: #AAA;\n",
              "      --disabled-bg-color: #DDD;\n",
              "  }\n",
              "\n",
              "  [theme=dark] .colab-df-quickchart {\n",
              "      --bg-color: #3B4455;\n",
              "      --fill-color: #D2E3FC;\n",
              "      --hover-bg-color: #434B5C;\n",
              "      --hover-fill-color: #FFFFFF;\n",
              "      --disabled-bg-color: #3B4455;\n",
              "      --disabled-fill-color: #666;\n",
              "  }\n",
              "\n",
              "  .colab-df-quickchart {\n",
              "    background-color: var(--bg-color);\n",
              "    border: none;\n",
              "    border-radius: 50%;\n",
              "    cursor: pointer;\n",
              "    display: none;\n",
              "    fill: var(--fill-color);\n",
              "    height: 32px;\n",
              "    padding: 0;\n",
              "    width: 32px;\n",
              "  }\n",
              "\n",
              "  .colab-df-quickchart:hover {\n",
              "    background-color: var(--hover-bg-color);\n",
              "    box-shadow: 0 1px 2px rgba(60, 64, 67, 0.3), 0 1px 3px 1px rgba(60, 64, 67, 0.15);\n",
              "    fill: var(--button-hover-fill-color);\n",
              "  }\n",
              "\n",
              "  .colab-df-quickchart-complete:disabled,\n",
              "  .colab-df-quickchart-complete:disabled:hover {\n",
              "    background-color: var(--disabled-bg-color);\n",
              "    fill: var(--disabled-fill-color);\n",
              "    box-shadow: none;\n",
              "  }\n",
              "\n",
              "  .colab-df-spinner {\n",
              "    border: 2px solid var(--fill-color);\n",
              "    border-color: transparent;\n",
              "    border-bottom-color: var(--fill-color);\n",
              "    animation:\n",
              "      spin 1s steps(1) infinite;\n",
              "  }\n",
              "\n",
              "  @keyframes spin {\n",
              "    0% {\n",
              "      border-color: transparent;\n",
              "      border-bottom-color: var(--fill-color);\n",
              "      border-left-color: var(--fill-color);\n",
              "    }\n",
              "    20% {\n",
              "      border-color: transparent;\n",
              "      border-left-color: var(--fill-color);\n",
              "      border-top-color: var(--fill-color);\n",
              "    }\n",
              "    30% {\n",
              "      border-color: transparent;\n",
              "      border-left-color: var(--fill-color);\n",
              "      border-top-color: var(--fill-color);\n",
              "      border-right-color: var(--fill-color);\n",
              "    }\n",
              "    40% {\n",
              "      border-color: transparent;\n",
              "      border-right-color: var(--fill-color);\n",
              "      border-top-color: var(--fill-color);\n",
              "    }\n",
              "    60% {\n",
              "      border-color: transparent;\n",
              "      border-right-color: var(--fill-color);\n",
              "    }\n",
              "    80% {\n",
              "      border-color: transparent;\n",
              "      border-right-color: var(--fill-color);\n",
              "      border-bottom-color: var(--fill-color);\n",
              "    }\n",
              "    90% {\n",
              "      border-color: transparent;\n",
              "      border-bottom-color: var(--fill-color);\n",
              "    }\n",
              "  }\n",
              "</style>\n",
              "\n",
              "  <script>\n",
              "    async function quickchart(key) {\n",
              "      const quickchartButtonEl =\n",
              "        document.querySelector('#' + key + ' button');\n",
              "      quickchartButtonEl.disabled = true;  // To prevent multiple clicks.\n",
              "      quickchartButtonEl.classList.add('colab-df-spinner');\n",
              "      try {\n",
              "        const charts = await google.colab.kernel.invokeFunction(\n",
              "            'suggestCharts', [key], {});\n",
              "      } catch (error) {\n",
              "        console.error('Error during call to suggestCharts:', error);\n",
              "      }\n",
              "      quickchartButtonEl.classList.remove('colab-df-spinner');\n",
              "      quickchartButtonEl.classList.add('colab-df-quickchart-complete');\n",
              "    }\n",
              "    (() => {\n",
              "      let quickchartButtonEl =\n",
              "        document.querySelector('#df-a76f0597-2146-497e-9fc1-aece24e4ba18 button');\n",
              "      quickchartButtonEl.style.display =\n",
              "        google.colab.kernel.accessAllowed ? 'block' : 'none';\n",
              "    })();\n",
              "  </script>\n",
              "</div>\n",
              "\n",
              "    </div>\n",
              "  </div>\n"
            ],
            "application/vnd.google.colaboratory.intrinsic+json": {
              "type": "dataframe",
              "summary": "{\n  \"name\": \"split_corpus_df_9_pos_dp\",\n  \"rows\": 5,\n  \"fields\": [\n    {\n      \"column\": \"sentence_id\",\n      \"properties\": {\n        \"dtype\": \"string\",\n        \"num_unique_values\": 5,\n        \"samples\": [\n          \"NWRW2300000008.32549.8\",\n          \"NWRW2300000008.32549.11\",\n          \"NWRW2300000008.32549.9\"\n        ],\n        \"semantic_type\": \"\",\n        \"description\": \"\"\n      }\n    },\n    {\n      \"column\": \"untagged\",\n      \"properties\": {\n        \"dtype\": \"string\",\n        \"num_unique_values\": 5,\n        \"samples\": [\n          \"\\ubbf8\\ub2c8\\uc2dc\\ub9ac\\uc988 \\uc7a5\\ub974\\u00b7\\ud310\\ud0c0\\uc9c0 \\ubd80\\ubb38 \\ub0a8\\uc790 \\uc6b0\\uc218\\uc5f0\\uae30\\uc0c1\\uc740 \\u2018\\uc545\\uc758 \\ub9c8\\uc74c\\uc744 \\uc77d\\ub294 \\uc790\\ub4e4\\u2019 \\uc9c4\\uc120\\uaddc\\uac00 \\ucc28\\uc9c0\\ud588\\ub2e4. \\uadf8\\ub294 \\u201c\\uc62c \\ud55c \\ud574 \\uac10\\uc0ac\\ud55c \\uc77c\\ub4e4\\uc774 \\ub9ce\\uc558\\uc9c0\\ub9cc \\ub098\\uc774\\uac00 \\uc788\\uc5b4\\uc11c \\uadf8\\ub7f0\\uc9c0 11\\uc6d4\\ubd80\\ud130 \\uc870\\uae08\\uc529 \\ucd94\\uc6cc\\uc9c0\\ub2c8\\uae4c \\uc544\\ud504\\ub354\\ub77c. 12\\uc6d4\\uc5d0\\ub294 \\uac10\\uae30\\ub3c4 \\uac78\\ub9ac\\uace0 \\ud55c \\ub2ec \\ub3d9\\uc548 A\\ud615 \\ub3c5\\uac10\\uc5d0\\ub3c4 \\uac78\\ub824 \\uc788\\uc5c8\\ub2e4. \\ub9ce\\uc774 \\uc544\\ud320\\ub2e4. \\ub9c8\\uc74c\\uc774 \\uc6b0\\uc6b8\\ud588\\ub294\\ub370 \\uc774 \\uc0c1\\uc774 \\uc88b\\uc740 \\uc57d\\uc774 \\ub420 \\ub4ef\\ud558\\ub2e4\\u201d\\uace0 \\ud588\\ub2e4. \\uc2dc\\uccad\\uc790\\ub4e4\\uc758 \\ub9c8\\uc74c\\uc744 \\uce58\\uc720\\ud560 \\uc218 \\uc788\\ub294 \\ub4dc\\ub77c\\ub9c8\\ub97c \\ub9ce\\uc774 \\uc120\\ubcf4\\uc774\\ub3c4\\ub85d \\ub178\\ub825\\ud558\\uaca0\\ub2e4\\uace0 \\ub9d0\\ud558\\uae30\\ub3c4 \\ud588\\ub2e4.\",\n          \"\\uacf5\\uc2b9\\uc5f0\\uc740 \\u2018\\uc18c\\ubc29\\uc11c \\uc606 \\uacbd\\ucc30\\uc11c\\u2019\\uc5d0\\uc11c \\uad6c\\uae09\\ub300\\uc6d0 \\uc1a1\\uc124 \\uc5ed\\uc744 \\ub9e1\\uc558\\ub2e4. \\uc0dd\\uacfc \\uc0ac\\uac00 \\uc624\\uac00\\ub294 \\ub9e4 \\uc21c\\uac04 \\ub9dd\\uc124\\uc784 \\uc5c6\\uc774 \\ub098\\uc11c\\ub294 \\uc1a1\\uc124\\uc758 \\ubaa8\\uc2b5\\uc774 \\ub9ce\\uc740 \\uc2dc\\uccad\\uc790\\ub4e4\\uc758 \\uc2dc\\uc120\\uc744 \\uc0ac\\ub85c\\uc7a1\\uc544\\uc654\\ub2e4. \\uacf5\\uc2b9\\uc5f0\\uc740 \\uc1a1\\uc124\\uc758 \\ub0b4\\uba74\\uc744 \\uc12c\\uc138\\ud558\\uac8c \\uadf8\\ub824\\ub0b4 \\uc2dc\\uc120\\uc744 \\ubaa8\\uc558\\ub2e4.\",\n          \"\\uc9c4\\uc120\\uaddc\\ub294 \\u2018\\uc545\\uc758 \\ub9c8\\uc74c\\uc744 \\uc77d\\ub294 \\uc790\\ub4e4\\u2019\\uc5d0\\uc11c \\ubc94\\uc8c4\\ud589\\ub3d9\\ubd84\\uc11d \\ud300\\uc7a5 \\uad6d\\uc601\\uc218 \\uc5ed\\uc744 \\ub9e1\\uc544 \\uc5f4\\uc5f0\\uc744 \\ud3bc\\ucce4\\ub2e4. \\uadf8\\ub294 \\uce90\\ub9ad\\ud130 \\uc18c\\ud654\\ub825\\uc73c\\ub85c \\uc2dc\\uccad\\uc790\\ub4e4\\uc758 \\ud638\\ud3c9\\uc744 \\uc774\\ub04c\\uc5b4\\ub0c8\\uc73c\\uba70 \\ud568\\uaed8 \\uadf9\\uc744 \\uc774\\ub048 \\uae40\\ub0a8\\uae38\\uacfc\\uc758 \\ube0c\\ub85c\\ub9e8\\uc2a4\\ub85c \\uc2dc\\uc120\\uc744 \\ubaa8\\uc558\\ub2e4.\"\n        ],\n        \"semantic_type\": \"\",\n        \"description\": \"\"\n      }\n    },\n    {\n      \"column\": \"pos_tagged\",\n      \"properties\": {\n        \"dtype\": \"object\",\n        \"semantic_type\": \"\",\n        \"description\": \"\"\n      }\n    },\n    {\n      \"column\": \"dp_parsed\",\n      \"properties\": {\n        \"dtype\": \"object\",\n        \"semantic_type\": \"\",\n        \"description\": \"\"\n      }\n    }\n  ]\n}"
            }
          },
          "metadata": {},
          "execution_count": 13
        }
      ]
    },
    {
      "cell_type": "markdown",
      "source": [
        "# 다운로드"
      ],
      "metadata": {
        "id": "TG5lOS-sCVFA"
      }
    },
    {
      "cell_type": "code",
      "source": [
        "from google.colab import files"
      ],
      "metadata": {
        "id": "t4LRRmbtM2Um"
      },
      "execution_count": null,
      "outputs": []
    },
    {
      "cell_type": "code",
      "source": [
        "files.download('split_corpus_df_0_pos.parquet')"
      ],
      "metadata": {
        "colab": {
          "base_uri": "https://localhost:8080/",
          "height": 17
        },
        "id": "bATuggcFMxV8",
        "outputId": "397ac78f-7799-46aa-cde8-9bc58e82c29d"
      },
      "execution_count": null,
      "outputs": [
        {
          "output_type": "display_data",
          "data": {
            "text/plain": [
              "<IPython.core.display.Javascript object>"
            ],
            "application/javascript": [
              "\n",
              "    async function download(id, filename, size) {\n",
              "      if (!google.colab.kernel.accessAllowed) {\n",
              "        return;\n",
              "      }\n",
              "      const div = document.createElement('div');\n",
              "      const label = document.createElement('label');\n",
              "      label.textContent = `Downloading \"${filename}\": `;\n",
              "      div.appendChild(label);\n",
              "      const progress = document.createElement('progress');\n",
              "      progress.max = size;\n",
              "      div.appendChild(progress);\n",
              "      document.body.appendChild(div);\n",
              "\n",
              "      const buffers = [];\n",
              "      let downloaded = 0;\n",
              "\n",
              "      const channel = await google.colab.kernel.comms.open(id);\n",
              "      // Send a message to notify the kernel that we're ready.\n",
              "      channel.send({})\n",
              "\n",
              "      for await (const message of channel.messages) {\n",
              "        // Send a message to notify the kernel that we're ready.\n",
              "        channel.send({})\n",
              "        if (message.buffers) {\n",
              "          for (const buffer of message.buffers) {\n",
              "            buffers.push(buffer);\n",
              "            downloaded += buffer.byteLength;\n",
              "            progress.value = downloaded;\n",
              "          }\n",
              "        }\n",
              "      }\n",
              "      const blob = new Blob(buffers, {type: 'application/binary'});\n",
              "      const a = document.createElement('a');\n",
              "      a.href = window.URL.createObjectURL(blob);\n",
              "      a.download = filename;\n",
              "      div.appendChild(a);\n",
              "      a.click();\n",
              "      div.remove();\n",
              "    }\n",
              "  "
            ]
          },
          "metadata": {}
        },
        {
          "output_type": "display_data",
          "data": {
            "text/plain": [
              "<IPython.core.display.Javascript object>"
            ],
            "application/javascript": [
              "download(\"download_e201b669-a8e3-4089-a295-56f324c95258\", \"split_corpus_df_0_pos.parquet\", 330116594)"
            ]
          },
          "metadata": {}
        }
      ]
    },
    {
      "cell_type": "code",
      "source": [
        "files.download('split_corpus_df_1_pos.parquet')"
      ],
      "metadata": {
        "colab": {
          "base_uri": "https://localhost:8080/",
          "height": 17
        },
        "id": "Drxrjs0nM5VG",
        "outputId": "28880287-b746-4f54-c181-2c051a49c4e4"
      },
      "execution_count": null,
      "outputs": [
        {
          "output_type": "display_data",
          "data": {
            "text/plain": [
              "<IPython.core.display.Javascript object>"
            ],
            "application/javascript": [
              "\n",
              "    async function download(id, filename, size) {\n",
              "      if (!google.colab.kernel.accessAllowed) {\n",
              "        return;\n",
              "      }\n",
              "      const div = document.createElement('div');\n",
              "      const label = document.createElement('label');\n",
              "      label.textContent = `Downloading \"${filename}\": `;\n",
              "      div.appendChild(label);\n",
              "      const progress = document.createElement('progress');\n",
              "      progress.max = size;\n",
              "      div.appendChild(progress);\n",
              "      document.body.appendChild(div);\n",
              "\n",
              "      const buffers = [];\n",
              "      let downloaded = 0;\n",
              "\n",
              "      const channel = await google.colab.kernel.comms.open(id);\n",
              "      // Send a message to notify the kernel that we're ready.\n",
              "      channel.send({})\n",
              "\n",
              "      for await (const message of channel.messages) {\n",
              "        // Send a message to notify the kernel that we're ready.\n",
              "        channel.send({})\n",
              "        if (message.buffers) {\n",
              "          for (const buffer of message.buffers) {\n",
              "            buffers.push(buffer);\n",
              "            downloaded += buffer.byteLength;\n",
              "            progress.value = downloaded;\n",
              "          }\n",
              "        }\n",
              "      }\n",
              "      const blob = new Blob(buffers, {type: 'application/binary'});\n",
              "      const a = document.createElement('a');\n",
              "      a.href = window.URL.createObjectURL(blob);\n",
              "      a.download = filename;\n",
              "      div.appendChild(a);\n",
              "      a.click();\n",
              "      div.remove();\n",
              "    }\n",
              "  "
            ]
          },
          "metadata": {}
        },
        {
          "output_type": "display_data",
          "data": {
            "text/plain": [
              "<IPython.core.display.Javascript object>"
            ],
            "application/javascript": [
              "download(\"download_da0d91aa-0ab5-4b51-85ce-e8b82627f0b3\", \"split_corpus_df_1_pos.parquet\", 341558330)"
            ]
          },
          "metadata": {}
        }
      ]
    },
    {
      "cell_type": "code",
      "source": [
        "files.download('split_corpus_df_2_pos.parquet')"
      ],
      "metadata": {
        "colab": {
          "base_uri": "https://localhost:8080/",
          "height": 17
        },
        "id": "QJwujR2DZD0-",
        "outputId": "f4ce9e26-8ee9-45dc-88c1-b1d94911f4ce"
      },
      "execution_count": null,
      "outputs": [
        {
          "output_type": "display_data",
          "data": {
            "text/plain": [
              "<IPython.core.display.Javascript object>"
            ],
            "application/javascript": [
              "\n",
              "    async function download(id, filename, size) {\n",
              "      if (!google.colab.kernel.accessAllowed) {\n",
              "        return;\n",
              "      }\n",
              "      const div = document.createElement('div');\n",
              "      const label = document.createElement('label');\n",
              "      label.textContent = `Downloading \"${filename}\": `;\n",
              "      div.appendChild(label);\n",
              "      const progress = document.createElement('progress');\n",
              "      progress.max = size;\n",
              "      div.appendChild(progress);\n",
              "      document.body.appendChild(div);\n",
              "\n",
              "      const buffers = [];\n",
              "      let downloaded = 0;\n",
              "\n",
              "      const channel = await google.colab.kernel.comms.open(id);\n",
              "      // Send a message to notify the kernel that we're ready.\n",
              "      channel.send({})\n",
              "\n",
              "      for await (const message of channel.messages) {\n",
              "        // Send a message to notify the kernel that we're ready.\n",
              "        channel.send({})\n",
              "        if (message.buffers) {\n",
              "          for (const buffer of message.buffers) {\n",
              "            buffers.push(buffer);\n",
              "            downloaded += buffer.byteLength;\n",
              "            progress.value = downloaded;\n",
              "          }\n",
              "        }\n",
              "      }\n",
              "      const blob = new Blob(buffers, {type: 'application/binary'});\n",
              "      const a = document.createElement('a');\n",
              "      a.href = window.URL.createObjectURL(blob);\n",
              "      a.download = filename;\n",
              "      div.appendChild(a);\n",
              "      a.click();\n",
              "      div.remove();\n",
              "    }\n",
              "  "
            ]
          },
          "metadata": {}
        },
        {
          "output_type": "display_data",
          "data": {
            "text/plain": [
              "<IPython.core.display.Javascript object>"
            ],
            "application/javascript": [
              "download(\"download_1df3a4a7-f34c-422e-9997-83aeb67dc01b\", \"split_corpus_df_2_pos.parquet\", 337042882)"
            ]
          },
          "metadata": {}
        }
      ]
    },
    {
      "cell_type": "code",
      "source": [
        "files.download('split_corpus_df_3_pos.parquet')"
      ],
      "metadata": {
        "id": "utNLc-ImnUAb"
      },
      "execution_count": null,
      "outputs": []
    },
    {
      "cell_type": "code",
      "source": [
        "files.download('split_corpus_df_4_pos.parquet')"
      ],
      "metadata": {
        "colab": {
          "base_uri": "https://localhost:8080/",
          "height": 17
        },
        "id": "oA3jQ0gnxwqI",
        "outputId": "153ee2da-8562-457e-f637-beb1920fb234"
      },
      "execution_count": null,
      "outputs": [
        {
          "output_type": "display_data",
          "data": {
            "text/plain": [
              "<IPython.core.display.Javascript object>"
            ],
            "application/javascript": [
              "\n",
              "    async function download(id, filename, size) {\n",
              "      if (!google.colab.kernel.accessAllowed) {\n",
              "        return;\n",
              "      }\n",
              "      const div = document.createElement('div');\n",
              "      const label = document.createElement('label');\n",
              "      label.textContent = `Downloading \"${filename}\": `;\n",
              "      div.appendChild(label);\n",
              "      const progress = document.createElement('progress');\n",
              "      progress.max = size;\n",
              "      div.appendChild(progress);\n",
              "      document.body.appendChild(div);\n",
              "\n",
              "      const buffers = [];\n",
              "      let downloaded = 0;\n",
              "\n",
              "      const channel = await google.colab.kernel.comms.open(id);\n",
              "      // Send a message to notify the kernel that we're ready.\n",
              "      channel.send({})\n",
              "\n",
              "      for await (const message of channel.messages) {\n",
              "        // Send a message to notify the kernel that we're ready.\n",
              "        channel.send({})\n",
              "        if (message.buffers) {\n",
              "          for (const buffer of message.buffers) {\n",
              "            buffers.push(buffer);\n",
              "            downloaded += buffer.byteLength;\n",
              "            progress.value = downloaded;\n",
              "          }\n",
              "        }\n",
              "      }\n",
              "      const blob = new Blob(buffers, {type: 'application/binary'});\n",
              "      const a = document.createElement('a');\n",
              "      a.href = window.URL.createObjectURL(blob);\n",
              "      a.download = filename;\n",
              "      div.appendChild(a);\n",
              "      a.click();\n",
              "      div.remove();\n",
              "    }\n",
              "  "
            ]
          },
          "metadata": {}
        },
        {
          "output_type": "display_data",
          "data": {
            "text/plain": [
              "<IPython.core.display.Javascript object>"
            ],
            "application/javascript": [
              "download(\"download_dfb9dac8-5bac-4cf6-8826-7a1525595f72\", \"split_corpus_df_4_pos.parquet\", 418550151)"
            ]
          },
          "metadata": {}
        }
      ]
    },
    {
      "cell_type": "code",
      "source": [
        "files.download('split_corpus_df_5_pos.parquet')"
      ],
      "metadata": {
        "colab": {
          "base_uri": "https://localhost:8080/",
          "height": 34
        },
        "id": "El4auDrOx2kY",
        "outputId": "f2e42c6d-809a-4cca-9561-44ab14ee255d"
      },
      "execution_count": null,
      "outputs": [
        {
          "output_type": "display_data",
          "data": {
            "text/plain": [
              "<IPython.core.display.Javascript object>"
            ],
            "application/javascript": [
              "\n",
              "    async function download(id, filename, size) {\n",
              "      if (!google.colab.kernel.accessAllowed) {\n",
              "        return;\n",
              "      }\n",
              "      const div = document.createElement('div');\n",
              "      const label = document.createElement('label');\n",
              "      label.textContent = `Downloading \"${filename}\": `;\n",
              "      div.appendChild(label);\n",
              "      const progress = document.createElement('progress');\n",
              "      progress.max = size;\n",
              "      div.appendChild(progress);\n",
              "      document.body.appendChild(div);\n",
              "\n",
              "      const buffers = [];\n",
              "      let downloaded = 0;\n",
              "\n",
              "      const channel = await google.colab.kernel.comms.open(id);\n",
              "      // Send a message to notify the kernel that we're ready.\n",
              "      channel.send({})\n",
              "\n",
              "      for await (const message of channel.messages) {\n",
              "        // Send a message to notify the kernel that we're ready.\n",
              "        channel.send({})\n",
              "        if (message.buffers) {\n",
              "          for (const buffer of message.buffers) {\n",
              "            buffers.push(buffer);\n",
              "            downloaded += buffer.byteLength;\n",
              "            progress.value = downloaded;\n",
              "          }\n",
              "        }\n",
              "      }\n",
              "      const blob = new Blob(buffers, {type: 'application/binary'});\n",
              "      const a = document.createElement('a');\n",
              "      a.href = window.URL.createObjectURL(blob);\n",
              "      a.download = filename;\n",
              "      div.appendChild(a);\n",
              "      a.click();\n",
              "      div.remove();\n",
              "    }\n",
              "  "
            ]
          },
          "metadata": {}
        },
        {
          "output_type": "display_data",
          "data": {
            "text/plain": [
              "<IPython.core.display.Javascript object>"
            ],
            "application/javascript": [
              "download(\"download_c13a43bd-9ca4-43ea-8e9c-11c5e0466c1e\", \"split_corpus_df_5_pos.parquet\", 416396610)"
            ]
          },
          "metadata": {}
        }
      ]
    },
    {
      "cell_type": "code",
      "source": [
        "# files.download('split_corpus_df_6_pos.parquet')"
      ],
      "metadata": {
        "id": "aU8dUYEr1v9R"
      },
      "execution_count": null,
      "outputs": []
    },
    {
      "cell_type": "code",
      "source": [
        "files.download('split_corpus_df_7_pos.parquet')"
      ],
      "metadata": {
        "id": "ZzC0PYVw1xLn"
      },
      "execution_count": null,
      "outputs": []
    },
    {
      "cell_type": "code",
      "source": [
        "files.download('split_corpus_df_8_pos.parquet')"
      ],
      "metadata": {
        "colab": {
          "base_uri": "https://localhost:8080/",
          "height": 17
        },
        "id": "gF9aRQZn1yTe",
        "outputId": "4051c557-69df-4ad6-f4e8-034954b43a58"
      },
      "execution_count": null,
      "outputs": [
        {
          "output_type": "display_data",
          "data": {
            "text/plain": [
              "<IPython.core.display.Javascript object>"
            ],
            "application/javascript": [
              "\n",
              "    async function download(id, filename, size) {\n",
              "      if (!google.colab.kernel.accessAllowed) {\n",
              "        return;\n",
              "      }\n",
              "      const div = document.createElement('div');\n",
              "      const label = document.createElement('label');\n",
              "      label.textContent = `Downloading \"${filename}\": `;\n",
              "      div.appendChild(label);\n",
              "      const progress = document.createElement('progress');\n",
              "      progress.max = size;\n",
              "      div.appendChild(progress);\n",
              "      document.body.appendChild(div);\n",
              "\n",
              "      const buffers = [];\n",
              "      let downloaded = 0;\n",
              "\n",
              "      const channel = await google.colab.kernel.comms.open(id);\n",
              "      // Send a message to notify the kernel that we're ready.\n",
              "      channel.send({})\n",
              "\n",
              "      for await (const message of channel.messages) {\n",
              "        // Send a message to notify the kernel that we're ready.\n",
              "        channel.send({})\n",
              "        if (message.buffers) {\n",
              "          for (const buffer of message.buffers) {\n",
              "            buffers.push(buffer);\n",
              "            downloaded += buffer.byteLength;\n",
              "            progress.value = downloaded;\n",
              "          }\n",
              "        }\n",
              "      }\n",
              "      const blob = new Blob(buffers, {type: 'application/binary'});\n",
              "      const a = document.createElement('a');\n",
              "      a.href = window.URL.createObjectURL(blob);\n",
              "      a.download = filename;\n",
              "      div.appendChild(a);\n",
              "      a.click();\n",
              "      div.remove();\n",
              "    }\n",
              "  "
            ]
          },
          "metadata": {}
        },
        {
          "output_type": "display_data",
          "data": {
            "text/plain": [
              "<IPython.core.display.Javascript object>"
            ],
            "application/javascript": [
              "download(\"download_48406ada-0424-4172-b087-88f3767e9d01\", \"split_corpus_df_8_pos.parquet\", 403046366)"
            ]
          },
          "metadata": {}
        }
      ]
    },
    {
      "cell_type": "code",
      "source": [
        "files.download('split_corpus_df_9_pos.parquet')"
      ],
      "metadata": {
        "id": "dIH62ri010Qp"
      },
      "execution_count": null,
      "outputs": []
    },
    {
      "cell_type": "code",
      "source": [],
      "metadata": {
        "id": "4NVFwXn4E6qp"
      },
      "execution_count": null,
      "outputs": []
    },
    {
      "cell_type": "markdown",
      "source": [
        "# split_corpus_df_0_pos_df 데이터 확인"
      ],
      "metadata": {
        "id": "YNco5GL5E8U7"
      }
    },
    {
      "cell_type": "markdown",
      "source": [
        "# 품사 정보 검색"
      ],
      "metadata": {
        "id": "pyEcE4XXghiw"
      }
    },
    {
      "cell_type": "code",
      "source": [
        "# target_array와 품사와 단어 모두 동일한 array 검색\n",
        "target_array = np.array(['위기', 'NNG'], dtype=object)\n",
        "def check_array(row):\n",
        "    return any(np.array_equal(arr, target_array) for arr in row)\n",
        "\n",
        "# 특정 품사가 포함된 array 검색\n",
        "def check_array_pos(row):\n",
        "    return any(arr[1] == 'NNG' for arr in row)\n",
        "\n",
        "# result_df = corpus_df_0[corpus_df_0['pos_tagged'].apply(check_array)]\n",
        "# result_df = corpus_df_0[corpus_df_0['pos_tagged'].apply(check_array_pos)]"
      ],
      "metadata": {
        "id": "gPENUPRPYpP9"
      },
      "execution_count": null,
      "outputs": []
    },
    {
      "cell_type": "code",
      "source": [
        "# ['먹', 'VV'] 검색\n",
        "target_array = np.array(['먹', 'VV'], dtype=object)\n",
        "def check_array(row):\n",
        "    return any(np.array_equal(arr, target_array) for arr in row)"
      ],
      "metadata": {
        "id": "7mGodQCWXskX"
      },
      "execution_count": null,
      "outputs": []
    },
    {
      "cell_type": "code",
      "source": [
        "먹_df_0_pos = corpus_df_0[corpus_df_0['pos_tagged'].apply(check_array)]"
      ],
      "metadata": {
        "id": "diNezcigbTYc"
      },
      "execution_count": null,
      "outputs": []
    },
    {
      "cell_type": "code",
      "source": [
        "# ['먹는', 'acl'] 형용사절 수식어 = 관형사형 용언. 이때도 'obj'을 요구할 수 있다.\n",
        "# n-gram 이내에 'obj'가 인접한 경우 등을 지정하기는 어렵다. 문장 구조가 얼마나 다양한지 알 수 없기 때문에. 따라서 'obj'가 포함된 것인지만 확인하고 내가 직접 검토하여야 한다.\n",
        "# 데이터프레임을 엑셀로 저장하여 직접 확인한 후, 불필요한 행은 제거하여 다시 그 엑셀 파일을 데이터프레임으로 가져온다."
      ],
      "metadata": {
        "id": "Nwqb9-UJcLCx"
      },
      "execution_count": null,
      "outputs": []
    },
    {
      "cell_type": "markdown",
      "source": [
        "# 의존 구문 정보 검색"
      ],
      "metadata": {
        "id": "ih8z4sCmgk-z"
      }
    },
    {
      "cell_type": "code",
      "source": [
        "# 특정 문장 성분 정보가 포함된 array 검색\n",
        "def check_array_dp(row):\n",
        "    return any(arr[1] == 'obj' for arr in row)"
      ],
      "metadata": {
        "id": "GmhBx5-Jgoiv"
      },
      "execution_count": null,
      "outputs": []
    },
    {
      "cell_type": "code",
      "source": [
        "# pos 검색한 데이터프레임에서 의존 구문 정보를 검색하기\n",
        "먹_df_0_pos_dp = 먹_df_0_pos[먹_df_0_pos['dp_parsed'].apply(check_array_dp)]"
      ],
      "metadata": {
        "id": "thgv5DENgy54"
      },
      "execution_count": null,
      "outputs": []
    },
    {
      "cell_type": "code",
      "source": [
        "먹_df_0_pos_dp.head()"
      ],
      "metadata": {
        "colab": {
          "base_uri": "https://localhost:8080/",
          "height": 3863
        },
        "id": "GslvDETxhDy5",
        "outputId": "b1c16891-f37c-46b6-962e-522228c54b56"
      },
      "execution_count": null,
      "outputs": [
        {
          "output_type": "execute_result",
          "data": {
            "text/plain": [
              "               sentence_id                                           untagged  \\\n",
              "356    NIRW2300000001.34.2  지난 달 26일 경기도 안산에 차려진 외할아버지의 장례식장을 지키던 A씨(19). ...   \n",
              "363    NIRW2300000001.34.9  누리꾼들은 사연에 대해 ‘자 오늘은 저녁피자야. 돈쭐나야해’, ‘어딘데 돈쭐 내버리...   \n",
              "830    NIRW2300000001.79.5  나흐만 애쉬 보건장관은 “오미크론 변이 확산에도 불구하고 이스라엘은 집단면역에 도달...   \n",
              "831    NIRW2300000001.79.6      앞서 이스라엘은 화이자의 먹는 치료제 2만 명분을 공급받아 의료 현장에 투입했다.   \n",
              "1377  NIRW2300000001.130.7  해당 가게에 ‘별점 1점 테러’가 벌어지기도 했다. 한 누리꾼은 “미접종자를 바이러...   \n",
              "\n",
              "                                             pos_tagged  \\\n",
              "356   [[지나, VV], [ㄴ, ETM], [달, NNG], [26, SN], [일, N...   \n",
              "363   [[누리, NNG], [꾼, XSN], [들, XSN], [은, JX], [사연, ...   \n",
              "830   [[나흐만, NNP], [애쉬, NNP], [보건, NNG], [장관, NNG], ...   \n",
              "831   [[앞서, MAG], [이스라엘, NNP], [은, JX], [화이자, NNP], ...   \n",
              "1377  [[해당, NNG], [가게, NNG], [에, JKB], [‘, SS], [별점,...   \n",
              "\n",
              "                                              dp_parsed  \n",
              "356   [[지난, acl], [달, compound], [26일, advmod], [경기도...  \n",
              "363   [[누리꾼들은, dislocated], [사연에, obl], [대해, ccomp],...  \n",
              "830   [[나흐만, dislocated], [애쉬, compound], [보건장관은, fl...  \n",
              "831   [[앞서, advmod], [이스라엘은, dislocated], [화이자의, nmo...  \n",
              "1377  [[해당, compound], [가게에, obl], [‘, punct], [별점, ...  "
            ],
            "text/html": [
              "\n",
              "  <div id=\"df-62d77f4a-1ef5-4a40-8fec-050437fae3b8\" class=\"colab-df-container\">\n",
              "    <div>\n",
              "<style scoped>\n",
              "    .dataframe tbody tr th:only-of-type {\n",
              "        vertical-align: middle;\n",
              "    }\n",
              "\n",
              "    .dataframe tbody tr th {\n",
              "        vertical-align: top;\n",
              "    }\n",
              "\n",
              "    .dataframe thead th {\n",
              "        text-align: right;\n",
              "    }\n",
              "</style>\n",
              "<table border=\"1\" class=\"dataframe\">\n",
              "  <thead>\n",
              "    <tr style=\"text-align: right;\">\n",
              "      <th></th>\n",
              "      <th>sentence_id</th>\n",
              "      <th>untagged</th>\n",
              "      <th>pos_tagged</th>\n",
              "      <th>dp_parsed</th>\n",
              "    </tr>\n",
              "  </thead>\n",
              "  <tbody>\n",
              "    <tr>\n",
              "      <th>356</th>\n",
              "      <td>NIRW2300000001.34.2</td>\n",
              "      <td>지난 달 26일 경기도 안산에 차려진 외할아버지의 장례식장을 지키던 A씨(19). ...</td>\n",
              "      <td>[[지나, VV], [ㄴ, ETM], [달, NNG], [26, SN], [일, N...</td>\n",
              "      <td>[[지난, acl], [달, compound], [26일, advmod], [경기도...</td>\n",
              "    </tr>\n",
              "    <tr>\n",
              "      <th>363</th>\n",
              "      <td>NIRW2300000001.34.9</td>\n",
              "      <td>누리꾼들은 사연에 대해 ‘자 오늘은 저녁피자야. 돈쭐나야해’, ‘어딘데 돈쭐 내버리...</td>\n",
              "      <td>[[누리, NNG], [꾼, XSN], [들, XSN], [은, JX], [사연, ...</td>\n",
              "      <td>[[누리꾼들은, dislocated], [사연에, obl], [대해, ccomp],...</td>\n",
              "    </tr>\n",
              "    <tr>\n",
              "      <th>830</th>\n",
              "      <td>NIRW2300000001.79.5</td>\n",
              "      <td>나흐만 애쉬 보건장관은 “오미크론 변이 확산에도 불구하고 이스라엘은 집단면역에 도달...</td>\n",
              "      <td>[[나흐만, NNP], [애쉬, NNP], [보건, NNG], [장관, NNG], ...</td>\n",
              "      <td>[[나흐만, dislocated], [애쉬, compound], [보건장관은, fl...</td>\n",
              "    </tr>\n",
              "    <tr>\n",
              "      <th>831</th>\n",
              "      <td>NIRW2300000001.79.6</td>\n",
              "      <td>앞서 이스라엘은 화이자의 먹는 치료제 2만 명분을 공급받아 의료 현장에 투입했다.</td>\n",
              "      <td>[[앞서, MAG], [이스라엘, NNP], [은, JX], [화이자, NNP], ...</td>\n",
              "      <td>[[앞서, advmod], [이스라엘은, dislocated], [화이자의, nmo...</td>\n",
              "    </tr>\n",
              "    <tr>\n",
              "      <th>1377</th>\n",
              "      <td>NIRW2300000001.130.7</td>\n",
              "      <td>해당 가게에 ‘별점 1점 테러’가 벌어지기도 했다. 한 누리꾼은 “미접종자를 바이러...</td>\n",
              "      <td>[[해당, NNG], [가게, NNG], [에, JKB], [‘, SS], [별점,...</td>\n",
              "      <td>[[해당, compound], [가게에, obl], [‘, punct], [별점, ...</td>\n",
              "    </tr>\n",
              "  </tbody>\n",
              "</table>\n",
              "</div>\n",
              "    <div class=\"colab-df-buttons\">\n",
              "\n",
              "  <div class=\"colab-df-container\">\n",
              "    <button class=\"colab-df-convert\" onclick=\"convertToInteractive('df-62d77f4a-1ef5-4a40-8fec-050437fae3b8')\"\n",
              "            title=\"Convert this dataframe to an interactive table.\"\n",
              "            style=\"display:none;\">\n",
              "\n",
              "  <svg xmlns=\"http://www.w3.org/2000/svg\" height=\"24px\" viewBox=\"0 -960 960 960\">\n",
              "    <path d=\"M120-120v-720h720v720H120Zm60-500h600v-160H180v160Zm220 220h160v-160H400v160Zm0 220h160v-160H400v160ZM180-400h160v-160H180v160Zm440 0h160v-160H620v160ZM180-180h160v-160H180v160Zm440 0h160v-160H620v160Z\"/>\n",
              "  </svg>\n",
              "    </button>\n",
              "\n",
              "  <style>\n",
              "    .colab-df-container {\n",
              "      display:flex;\n",
              "      gap: 12px;\n",
              "    }\n",
              "\n",
              "    .colab-df-convert {\n",
              "      background-color: #E8F0FE;\n",
              "      border: none;\n",
              "      border-radius: 50%;\n",
              "      cursor: pointer;\n",
              "      display: none;\n",
              "      fill: #1967D2;\n",
              "      height: 32px;\n",
              "      padding: 0 0 0 0;\n",
              "      width: 32px;\n",
              "    }\n",
              "\n",
              "    .colab-df-convert:hover {\n",
              "      background-color: #E2EBFA;\n",
              "      box-shadow: 0px 1px 2px rgba(60, 64, 67, 0.3), 0px 1px 3px 1px rgba(60, 64, 67, 0.15);\n",
              "      fill: #174EA6;\n",
              "    }\n",
              "\n",
              "    .colab-df-buttons div {\n",
              "      margin-bottom: 4px;\n",
              "    }\n",
              "\n",
              "    [theme=dark] .colab-df-convert {\n",
              "      background-color: #3B4455;\n",
              "      fill: #D2E3FC;\n",
              "    }\n",
              "\n",
              "    [theme=dark] .colab-df-convert:hover {\n",
              "      background-color: #434B5C;\n",
              "      box-shadow: 0px 1px 3px 1px rgba(0, 0, 0, 0.15);\n",
              "      filter: drop-shadow(0px 1px 2px rgba(0, 0, 0, 0.3));\n",
              "      fill: #FFFFFF;\n",
              "    }\n",
              "  </style>\n",
              "\n",
              "    <script>\n",
              "      const buttonEl =\n",
              "        document.querySelector('#df-62d77f4a-1ef5-4a40-8fec-050437fae3b8 button.colab-df-convert');\n",
              "      buttonEl.style.display =\n",
              "        google.colab.kernel.accessAllowed ? 'block' : 'none';\n",
              "\n",
              "      async function convertToInteractive(key) {\n",
              "        const element = document.querySelector('#df-62d77f4a-1ef5-4a40-8fec-050437fae3b8');\n",
              "        const dataTable =\n",
              "          await google.colab.kernel.invokeFunction('convertToInteractive',\n",
              "                                                    [key], {});\n",
              "        if (!dataTable) return;\n",
              "\n",
              "        const docLinkHtml = 'Like what you see? Visit the ' +\n",
              "          '<a target=\"_blank\" href=https://colab.research.google.com/notebooks/data_table.ipynb>data table notebook</a>'\n",
              "          + ' to learn more about interactive tables.';\n",
              "        element.innerHTML = '';\n",
              "        dataTable['output_type'] = 'display_data';\n",
              "        await google.colab.output.renderOutput(dataTable, element);\n",
              "        const docLink = document.createElement('div');\n",
              "        docLink.innerHTML = docLinkHtml;\n",
              "        element.appendChild(docLink);\n",
              "      }\n",
              "    </script>\n",
              "  </div>\n",
              "\n",
              "\n",
              "<div id=\"df-3428eb6e-897d-440d-9697-0b710ded95b4\">\n",
              "  <button class=\"colab-df-quickchart\" onclick=\"quickchart('df-3428eb6e-897d-440d-9697-0b710ded95b4')\"\n",
              "            title=\"Suggest charts\"\n",
              "            style=\"display:none;\">\n",
              "\n",
              "<svg xmlns=\"http://www.w3.org/2000/svg\" height=\"24px\"viewBox=\"0 0 24 24\"\n",
              "     width=\"24px\">\n",
              "    <g>\n",
              "        <path d=\"M19 3H5c-1.1 0-2 .9-2 2v14c0 1.1.9 2 2 2h14c1.1 0 2-.9 2-2V5c0-1.1-.9-2-2-2zM9 17H7v-7h2v7zm4 0h-2V7h2v10zm4 0h-2v-4h2v4z\"/>\n",
              "    </g>\n",
              "</svg>\n",
              "  </button>\n",
              "\n",
              "<style>\n",
              "  .colab-df-quickchart {\n",
              "      --bg-color: #E8F0FE;\n",
              "      --fill-color: #1967D2;\n",
              "      --hover-bg-color: #E2EBFA;\n",
              "      --hover-fill-color: #174EA6;\n",
              "      --disabled-fill-color: #AAA;\n",
              "      --disabled-bg-color: #DDD;\n",
              "  }\n",
              "\n",
              "  [theme=dark] .colab-df-quickchart {\n",
              "      --bg-color: #3B4455;\n",
              "      --fill-color: #D2E3FC;\n",
              "      --hover-bg-color: #434B5C;\n",
              "      --hover-fill-color: #FFFFFF;\n",
              "      --disabled-bg-color: #3B4455;\n",
              "      --disabled-fill-color: #666;\n",
              "  }\n",
              "\n",
              "  .colab-df-quickchart {\n",
              "    background-color: var(--bg-color);\n",
              "    border: none;\n",
              "    border-radius: 50%;\n",
              "    cursor: pointer;\n",
              "    display: none;\n",
              "    fill: var(--fill-color);\n",
              "    height: 32px;\n",
              "    padding: 0;\n",
              "    width: 32px;\n",
              "  }\n",
              "\n",
              "  .colab-df-quickchart:hover {\n",
              "    background-color: var(--hover-bg-color);\n",
              "    box-shadow: 0 1px 2px rgba(60, 64, 67, 0.3), 0 1px 3px 1px rgba(60, 64, 67, 0.15);\n",
              "    fill: var(--button-hover-fill-color);\n",
              "  }\n",
              "\n",
              "  .colab-df-quickchart-complete:disabled,\n",
              "  .colab-df-quickchart-complete:disabled:hover {\n",
              "    background-color: var(--disabled-bg-color);\n",
              "    fill: var(--disabled-fill-color);\n",
              "    box-shadow: none;\n",
              "  }\n",
              "\n",
              "  .colab-df-spinner {\n",
              "    border: 2px solid var(--fill-color);\n",
              "    border-color: transparent;\n",
              "    border-bottom-color: var(--fill-color);\n",
              "    animation:\n",
              "      spin 1s steps(1) infinite;\n",
              "  }\n",
              "\n",
              "  @keyframes spin {\n",
              "    0% {\n",
              "      border-color: transparent;\n",
              "      border-bottom-color: var(--fill-color);\n",
              "      border-left-color: var(--fill-color);\n",
              "    }\n",
              "    20% {\n",
              "      border-color: transparent;\n",
              "      border-left-color: var(--fill-color);\n",
              "      border-top-color: var(--fill-color);\n",
              "    }\n",
              "    30% {\n",
              "      border-color: transparent;\n",
              "      border-left-color: var(--fill-color);\n",
              "      border-top-color: var(--fill-color);\n",
              "      border-right-color: var(--fill-color);\n",
              "    }\n",
              "    40% {\n",
              "      border-color: transparent;\n",
              "      border-right-color: var(--fill-color);\n",
              "      border-top-color: var(--fill-color);\n",
              "    }\n",
              "    60% {\n",
              "      border-color: transparent;\n",
              "      border-right-color: var(--fill-color);\n",
              "    }\n",
              "    80% {\n",
              "      border-color: transparent;\n",
              "      border-right-color: var(--fill-color);\n",
              "      border-bottom-color: var(--fill-color);\n",
              "    }\n",
              "    90% {\n",
              "      border-color: transparent;\n",
              "      border-bottom-color: var(--fill-color);\n",
              "    }\n",
              "  }\n",
              "</style>\n",
              "\n",
              "  <script>\n",
              "    async function quickchart(key) {\n",
              "      const quickchartButtonEl =\n",
              "        document.querySelector('#' + key + ' button');\n",
              "      quickchartButtonEl.disabled = true;  // To prevent multiple clicks.\n",
              "      quickchartButtonEl.classList.add('colab-df-spinner');\n",
              "      try {\n",
              "        const charts = await google.colab.kernel.invokeFunction(\n",
              "            'suggestCharts', [key], {});\n",
              "      } catch (error) {\n",
              "        console.error('Error during call to suggestCharts:', error);\n",
              "      }\n",
              "      quickchartButtonEl.classList.remove('colab-df-spinner');\n",
              "      quickchartButtonEl.classList.add('colab-df-quickchart-complete');\n",
              "    }\n",
              "    (() => {\n",
              "      let quickchartButtonEl =\n",
              "        document.querySelector('#df-3428eb6e-897d-440d-9697-0b710ded95b4 button');\n",
              "      quickchartButtonEl.style.display =\n",
              "        google.colab.kernel.accessAllowed ? 'block' : 'none';\n",
              "    })();\n",
              "  </script>\n",
              "</div>\n",
              "\n",
              "    </div>\n",
              "  </div>\n"
            ],
            "application/vnd.google.colaboratory.intrinsic+json": {
              "type": "dataframe",
              "variable_name": "먹_df_0_pos_dp",
              "summary": "{\n  \"name\": \"\\uba39_df_0_pos_dp\",\n  \"rows\": 1734,\n  \"fields\": [\n    {\n      \"column\": \"sentence_id\",\n      \"properties\": {\n        \"dtype\": \"string\",\n        \"num_unique_values\": 1734,\n        \"samples\": [\n          \"NIRW2300000001.23091.8\",\n          \"NIRW2300000001.5814.7\",\n          \"NIRW2300000001.33576.11\"\n        ],\n        \"semantic_type\": \"\",\n        \"description\": \"\"\n      }\n    },\n    {\n      \"column\": \"untagged\",\n      \"properties\": {\n        \"dtype\": \"string\",\n        \"num_unique_values\": 1717,\n        \"samples\": [\n          \"\\uac15\\ud558\\ucd98 \\uc804\\ub0a8\\ub3c4 \\ub18d\\uc2dd\\ud488\\uc720\\ud1b5\\uacfc\\uc7a5\\uc740 \\u201c\\uc9c0\\uc5ed \\ub18d\\uc218\\uc0b0\\ubb3c\\uc744 \\ud65c\\uc6a9\\ud574 \\ub9cc\\ub4e0 \\ud2b9\\ud654\\ube75\\uc774 \\ube75\\uc744 \\uc120\\ud638\\ud558\\ub294 \\ucd94\\uc138\\uc640 \\ub3c5\\ud2b9\\ud55c \\uacbd\\ud5d8\\uc744 \\uc628\\ub77c\\uc778\\uc5d0\\uc11c \\uc0ac\\uc9c4\\uc73c\\ub85c \\uacf5\\uc720\\ud558\\uae38 \\uc911\\uc694\\uc2dc\\ud558\\ub294 MZ\\uc138\\ub300\\uc758 \\ud2b9\\uc131\\uc774 \\ub9de\\uc544\\ub5a8\\uc5b4\\uc838 \\uc778\\uae30\\ub97c \\ub04c\\uace0 \\uc788\\ub2e4\\u201d\\uba70 \\u201c\\uc801\\uadf9\\uc801\\uc778 \\ud64d\\ubcf4\\ub85c \\ud2b9\\ud654\\ube75\\uc744 \\uc804\\ub0a8\\uc5d0 \\uc624\\uba74 \\uaf2d \\uba39\\uc5b4\\ubcf4\\uace0 \\uc120\\ubb3c\\ub85c\\ub3c4 \\uc0ac\\uace0 \\uc2f6\\uc740 \\uad00\\uad11\\uc0c1\\ud488\\uc73c\\ub85c \\uc721\\uc131\\ud574 \\uc9c0\\uc5ed\\uacbd\\uc81c\\ub97c \\ud65c\\uc131\\ud654\\ud558\\uaca0\\ub2e4\\u201d\\uace0 \\ub9d0\\ud588\\ub2e4.\",\n          \"\\uc544\\uc6b8\\ub7ec \\uc774\\ub0a0\\ubd80\\ud130 \\uc758\\ub8cc\\uc9c4 \\uc804\\ud654\\uc0c1\\ub2f4\\u00b7\\ucc98\\ubc29\\uc5d0 \\ub530\\ub978 \\uc758\\uc57d\\ud488\\uc740 \\ubaa8\\ub4e0 \\ub3d9\\ub124 \\uc57d\\uad6d\\uc5d0\\uc11c \\uc870\\uc81c\\u00b7\\uc804\\ub2ec \\ubc1b\\uc744 \\uc218 \\uc788\\ub2e4. \\ub2e4\\ub9cc \\ud30d\\uc2a4\\ub85c\\ube44\\ub4dc\\ub294 \\uc2dc\\uad70\\uad6c\\uc5d0\\uc11c \\uc9c0\\uc815\\ud558\\ub294 \\ub2f4\\ub2f9\\uc57d\\uad6d\\uc744 \\ud1b5\\ud574\\uc11c\\ub9cc \\uc870\\uc81c\\u00b7\\uc804\\ub2ec\\ub41c\\ub2e4. \\uba39\\ub294 \\uce58\\ub8cc\\uc81c\\ub97c \\uc870\\uc81c\\u00b7\\uc804\\ub2ec\\ud558\\ub294 \\ub2f4\\ub2f9\\uc57d\\uad6d \\uba85\\ub2e8(472\\uac1c\\uc18c)\\uc740 \\uac74\\uac15\\ubcf4\\ud5d8\\uc2ec\\uc0ac\\ud3c9\\uac00\\uc6d0\\u00b7\\uc77c\\ubd80 \\uc9c0\\ubc29\\uc790\\uce58\\ub2e8\\uccb4 \\ub204\\ub9ac\\uc9d1\\uc5d0\\uc11c \\ud655\\uc778\\uac00\\ub2a5\\ud558\\ub2e4.\",\n          \"\\uc624\\ubbf8\\ud06c\\ub860 \\ucd08\\uae30 \\ub300\\uc751\\uc5d0 \\uc788\\uc5b4 \\u201c\\ub2e4\\ub978 \\ub098\\ub77c\\ub4e4\\uc5d0 \\ube44\\ud574, \\uc6b0\\uc138\\uc885\\uc774 \\ub418\\ub294 \\uc2dc\\uae30\\ub97c \\ucd5c\\ub300\\ud55c \\ub2a6\\ucdc4\\uace0, \\uadf8 \\uc2dc\\uac04\\ub9cc\\ud07c \\uc624\\ubbf8\\ud06c\\ub860\\uc5d0 \\ub9de\\ucd98 \\ubc29\\uc5ed\\uacfc \\uc758\\ub8cc\\uccb4\\uacc4\\ub97c \\uc120\\uc81c\\uc801\\uc73c\\ub85c \\uc900\\ube44\\ud560 \\uc218 \\uc788\\uc5c8\\ub2e4\\u201d\\uba74\\uc11c \\u201c\\uc0ac\\uc804 \\ubcd1\\uc0c1 \\ud655\\ucda9\\uacfc \\ud568\\uaed8 3\\ucc28 \\ubc31\\uc2e0 \\uc811\\uc885 \\uc18d\\ub3c4\\ub97c \\ub192\\uc600\\uc73c\\uba70, \\uc120\\uc81c\\uc801\\uc73c\\ub85c \\uc7ac\\ud0dd \\uce58\\ub8cc \\uc911\\uc2ec\\uc758 \\uc758\\ub8cc\\uccb4\\uacc4\\ub85c \\uc804\\ud658\\ud558\\uace0 \\uba39\\ub294 \\uce58\\ub8cc\\uc81c\\ub3c4 \\uc870\\uae30 \\ub3c4\\uc785\\ud588\\ub2e4\\u201d\\uace0 \\uc790\\ubd80\\ud588\\ub2e4.\"\n        ],\n        \"semantic_type\": \"\",\n        \"description\": \"\"\n      }\n    },\n    {\n      \"column\": \"pos_tagged\",\n      \"properties\": {\n        \"dtype\": \"object\",\n        \"semantic_type\": \"\",\n        \"description\": \"\"\n      }\n    },\n    {\n      \"column\": \"dp_parsed\",\n      \"properties\": {\n        \"dtype\": \"object\",\n        \"semantic_type\": \"\",\n        \"description\": \"\"\n      }\n    }\n  ]\n}"
            }
          },
          "metadata": {},
          "execution_count": 72
        }
      ]
    },
    {
      "cell_type": "code",
      "source": [
        "# df 0에서 ['먹', 'VV'], obj 검색 결과 1734개 확인\n",
        "len(먹_df_0_pos_dp)"
      ],
      "metadata": {
        "colab": {
          "base_uri": "https://localhost:8080/"
        },
        "id": "aA3uiGxQiAxl",
        "outputId": "b888f90f-7644-409e-90ba-5882817be80e"
      },
      "execution_count": null,
      "outputs": [
        {
          "output_type": "execute_result",
          "data": {
            "text/plain": [
              "1734"
            ]
          },
          "metadata": {},
          "execution_count": 73
        }
      ]
    },
    {
      "cell_type": "code",
      "source": [
        "먹_df_0_pos_dp.to_excel('먹_df_0_pos_dp.xlsx')"
      ],
      "metadata": {
        "id": "iv-ZT4d6iFRi"
      },
      "execution_count": null,
      "outputs": []
    },
    {
      "cell_type": "markdown",
      "source": [
        "메모\n",
        "\n",
        "그래프에서는 예외적인 것들을 다 제외하겠지만 이후에 예외적인 것들을 논의해볼 수 있을 것이다\n",
        "\n",
        "- pos 태깅을 할 때 lemma 정보도 함께 넣었어야 했다. 그리고 '먹다'를 예로 들 때, '먹'은 검색 조건이 되고 분석 대상이 되는 요소들에 대하여 lemma가 필요하다. (각 array마다 lemma 포함)\n",
        "\n",
        "- zipfR\n",
        "\n",
        "- 내 생각보다 의존 구문 정보가 유용하게 쓰이지 않는다.\n",
        "\n",
        "- 어떤 통사적 구성에서 구성 성분이 필수 성분인지 아닌지에 대하여 사전을 찾아보고 관련 연구를 참고하는 것은 기본이다.\n",
        "\n",
        "- 신문코퍼스의 특징. 여러 신문사에서 동일한 내용을 다루는 경우를 어떻게 처리할 것인가.\n",
        "\n",
        "- 신문코퍼스 자체가 다양한 주제를 담고 있기는 하지만 복문이 쓰이기 때문에 자연어처리가 어렵다는 특징을 가지고 있다. 언어 자료의 전처리에 적합한 코퍼스 유형이 있을 것 같다.\n",
        "\n",
        "- 0번 파일에서 '먹'을 검색하여 1734개가 나왔고 이것을 연구자가 직접 확인.\n",
        "\n",
        "- 꿀먹은 벙어리\n",
        "\n",
        "- 한 솥밥을 먹은\n",
        "\n",
        "- '치료제를 타 먹을 수 있게 된다'. '타 먹다'를 별개의 동사로 보아야 하는지 (NIRW2300000001.3009.6)\n",
        "\n",
        "\t((‘…에서/에게서’ 대신에 ‘…에게’나 ‘…으로부터’가 쓰이기도 한다)) 몫으로 주는 돈이나 물건 따위를 받다.\n",
        "\n",
        "- 'A씨가 사건 당일 치킨을 시켜 먹으며' (NIRW2300000001.9346.8)\n",
        "\n",
        "- '진주비빔밥은 사골국으로 밥을 짓고 육회를 반드시 얹어 먹는다. 선짓국을 곁들여 먹으면'. 목적어는 '진주비빔밥'으로 보이는데 얹어 먹는다. 곁들여 먹는다에서 거리가 너무 멀다.\n",
        "\n",
        "- '울며 겨자먹기' (NIRW2300000001.3973.12)\n",
        "\n",
        "- '백성현의 요리 실력은 어느 정도였을지, 이를 먹은 아내와 서윤이는 어떤 반응을 보였을지 궁금해진다.' (NIRW2300000001.4306.6) 대용어나 지시사가 쓰인 경우를 포함해야 할까?\n",
        "\n",
        "아니 포함할 필요 없다. 이때는 '먹다'의 기본의미로 논항을 요구하는 경우이기 때문이다.\n",
        "\n",
        "- '“아이스크림이 먹고 싶다”' (NIRW2300000001.4649.5), “아이스크림이 먹고 싶어요”(NIRW2300000001.6033.20)와 같이 이중주어문의 처리 문제\n",
        "\n",
        "- '밑의 사람들이 조단위를 해먹고'. '해먹다'와 같은 단어. 우선은 제외.\n",
        "\n",
        "- '유통 제품을 골라 먹을 수 있게 돼' (NIRW2300000001.6725.9)\n",
        "\n",
        "- '고든램지버거 먹고 옴'에서 버거를 obj로 처리하지 않는 사례를 발견. 그렇다면 obj가 해당 token에서 없는데 실제로는 목적어에 해당하는 경우를 포함시킬 수 없다. 하지만 분석 대상을 선정함에 있어서 대상의 수를 제한하는 과정이므로 조건에 맞지 않는 대상이 포함되는 것이 아니라면 큰 문제는 없어 보인다.\n",
        "\n",
        "- '콩은 콩국 같은 것도 아침에 많이 먹어서'에서 처럼 '-것'으로 끝나는 절을 목적어로 받기도 한다.\n",
        "\n",
        "- '오늘 뭐 먹지' 일단은 포함 시킴. 대용어든 지시어든 포함시켜야 이게 관용적인 결합을 보이는지 확인할 수 있을 것이다.\n",
        "\n",
        "- '고구마를 하나만 쪘고, 하나만 먹느냐는 질문에' 이 경우에는 '하나'가 선행 절의 무엇을 가리키는지 알아야 한다. '점심 9끼 저녁 9끼 먹은' (NIRW2300000001.7251.8)에서는 점심, 저녁을 논항으로 처리해야 한다.\n",
        "\n",
        "- '마음을 단단히 먹고 준비하겠다' (NIRW2300000001.14839.7)\n",
        "\n",
        "- '마음만 먹으면' ('마음', 'NNG')\n",
        "- '돈 먹는 하마' (NIRW2300000001.25148.7)\n",
        "\n",
        "- '야합을 밥 먹듯 하고' (NIRW2300000001.26821.6)\n",
        "\n",
        "- '나이를 먹다'\n",
        "\n",
        "- '한솥밥을 먹다' ('한솥밥', 'NNG', or '솥밥', 'NNG')\n",
        "\n",
        "-> 이 경우에는 한솥밥, 솥밥이라는 다른 품사가 없으므로 품사와 함께 검색할 필요는 없다.\n",
        "\n",
        "- '달달한 것을 먹었을 때' (NIRW2300000001.34649.9) ~ 것은 어휘 항목이라고 볼 수 없으므로 제외해야한다.\n",
        "\n",
        "- '음식'과 '제철 음식'은 구분하여 처리하여야 하는가? 이때는 문장 성분, 문장 내의 기능을 기준으로 구분해야한다.\n",
        "\n",
        "- ‘선수들, 고기 먹여라’(NIRW2300000001.46631.10)에서 사동, 피동을 본 동사와 구분하여야 하는가? (일단은 제외)\n",
        "\n",
        "- '젖 먹던 힘' (NIRW2300000002.7469.7) 관용표현이 한 단위인가 아닌가의 문제는 이러한 구성을 전처리하는 문제와도 연결된다.\n",
        "\n",
        "- '민물고기를 날로 먹지 말고' (NIRW2300000002.31923.8) '날로 먹다'가 하나의 단위처럼 쓰인다.\n",
        "\n",
        "- 분석 대상을 선정할 때 지나치게 생산성이 높고, 고정적이지 않은 구성은 어려움이 있으니 고정성이 강한 구성을 대상으로 삼을 필요가 있다.\n",
        "\n",
        "- 복합어는 띄어쓰기를 제거함."
      ],
      "metadata": {
        "id": "R5syWggfkgm-"
      }
    },
    {
      "cell_type": "markdown",
      "source": [
        "# Xlsx to txt"
      ],
      "metadata": {
        "id": "gunC9lw46QMT"
      }
    },
    {
      "cell_type": "code",
      "source": [
        "먹_df_0_pos_dp_tokens = pd.read_excel('먹_df_0_pos_dp.xlsx')"
      ],
      "metadata": {
        "id": "K6GulENDjEAX"
      },
      "execution_count": null,
      "outputs": []
    },
    {
      "cell_type": "code",
      "source": [
        "먹_df_0_pos_dp_tokens.info()"
      ],
      "metadata": {
        "colab": {
          "base_uri": "https://localhost:8080/"
        },
        "id": "cmRRjARM3oDA",
        "outputId": "cc8cbfd8-244b-4311-c1aa-54d991311348"
      },
      "execution_count": null,
      "outputs": [
        {
          "output_type": "stream",
          "name": "stdout",
          "text": [
            "<class 'pandas.core.frame.DataFrame'>\n",
            "RangeIndex: 736 entries, 0 to 735\n",
            "Data columns (total 6 columns):\n",
            " #   Column       Non-Null Count  Dtype \n",
            "---  ------       --------------  ----- \n",
            " 0   Unnamed: 0   736 non-null    int64 \n",
            " 1   sentence_id  736 non-null    object\n",
            " 2   untagged     736 non-null    object\n",
            " 3   pos_tagged   736 non-null    object\n",
            " 4   dp_parsed    736 non-null    object\n",
            " 5   token        735 non-null    object\n",
            "dtypes: int64(1), object(5)\n",
            "memory usage: 34.6+ KB\n"
          ]
        }
      ]
    },
    {
      "cell_type": "code",
      "source": [
        "tokens = 먹_df_0_pos_dp_tokens['token']"
      ],
      "metadata": {
        "id": "Esdt3tWI3q84"
      },
      "execution_count": null,
      "outputs": []
    },
    {
      "cell_type": "code",
      "source": [
        "tokens[0:5]"
      ],
      "metadata": {
        "colab": {
          "base_uri": "https://localhost:8080/",
          "height": 241
        },
        "id": "eNG9tzyD32Rg",
        "outputId": "90d9d332-35dc-4ef1-fa3e-a112e75cf401"
      },
      "execution_count": null,
      "outputs": [
        {
          "output_type": "execute_result",
          "data": {
            "text/plain": [
              "0         욕\n",
              "1       카피약\n",
              "2         애\n",
              "3         애\n",
              "4    숙취해소음료\n",
              "Name: token, dtype: object"
            ],
            "text/html": [
              "<div>\n",
              "<style scoped>\n",
              "    .dataframe tbody tr th:only-of-type {\n",
              "        vertical-align: middle;\n",
              "    }\n",
              "\n",
              "    .dataframe tbody tr th {\n",
              "        vertical-align: top;\n",
              "    }\n",
              "\n",
              "    .dataframe thead th {\n",
              "        text-align: right;\n",
              "    }\n",
              "</style>\n",
              "<table border=\"1\" class=\"dataframe\">\n",
              "  <thead>\n",
              "    <tr style=\"text-align: right;\">\n",
              "      <th></th>\n",
              "      <th>token</th>\n",
              "    </tr>\n",
              "  </thead>\n",
              "  <tbody>\n",
              "    <tr>\n",
              "      <th>0</th>\n",
              "      <td>욕</td>\n",
              "    </tr>\n",
              "    <tr>\n",
              "      <th>1</th>\n",
              "      <td>카피약</td>\n",
              "    </tr>\n",
              "    <tr>\n",
              "      <th>2</th>\n",
              "      <td>애</td>\n",
              "    </tr>\n",
              "    <tr>\n",
              "      <th>3</th>\n",
              "      <td>애</td>\n",
              "    </tr>\n",
              "    <tr>\n",
              "      <th>4</th>\n",
              "      <td>숙취해소음료</td>\n",
              "    </tr>\n",
              "  </tbody>\n",
              "</table>\n",
              "</div><br><label><b>dtype:</b> object</label>"
            ]
          },
          "metadata": {},
          "execution_count": 78
        }
      ]
    },
    {
      "cell_type": "code",
      "source": [
        "# 엑셀에서 모든 숫자들을 str으로 처리하지 않으면 float로 인식하게 됨.\n",
        "# 모든 요소들을 str으로 바꾸고, strip 처리하여 새로운 리스트 반환\n",
        "def split_list_elements(input_list):\n",
        "    result_list = []\n",
        "\n",
        "    for element in input_list:\n",
        "        # 모든 요소를 문자열로 변환\n",
        "        str_element = str(element)\n",
        "        if ',' in str_element:\n",
        "            split_items = str_element.split(',')\n",
        "            for item in split_items:\n",
        "                result_list.append(item.strip())\n",
        "        else:\n",
        "            result_list.append(str_element)\n",
        "\n",
        "    return result_list\n",
        "\n",
        "# 테스트\n",
        "test_list = [\"사과,배,귤\", 3.14, \"강아지,고양이\", 42.0, \"빨강,파랑,노랑\"]\n",
        "result = split_list_elements(test_list)"
      ],
      "metadata": {
        "id": "Z-U9krvL35Nc"
      },
      "execution_count": null,
      "outputs": []
    },
    {
      "cell_type": "code",
      "source": [
        "tokens_split = split_list_elements(tokens)"
      ],
      "metadata": {
        "id": "Ef2btdzl4v4v"
      },
      "execution_count": null,
      "outputs": []
    },
    {
      "cell_type": "code",
      "source": [
        "tokens_split[0:10]"
      ],
      "metadata": {
        "colab": {
          "base_uri": "https://localhost:8080/"
        },
        "id": "1hsseHZ45TZT",
        "outputId": "5b7961a7-e66b-4df3-f889-0454f20e37d0"
      },
      "execution_count": null,
      "outputs": [
        {
          "output_type": "execute_result",
          "data": {
            "text/plain": [
              "['욕', '카피약', '애', '애', '숙취해소음료', '술', '팔공산청정미나리', '두리안', '피', '고든램지버거']"
            ]
          },
          "metadata": {},
          "execution_count": 84
        }
      ]
    },
    {
      "cell_type": "code",
      "source": [
        "# 리스트를 '\\n' txt로 저장.\n",
        "def save_list_to_text(lst, filename):\n",
        "    with open(filename, 'w', encoding='utf-8') as f:\n",
        "        for item in lst:\n",
        "            f.write(str(item) + '\\n')"
      ],
      "metadata": {
        "id": "9ii7vjRn5g1B"
      },
      "execution_count": null,
      "outputs": []
    },
    {
      "cell_type": "code",
      "source": [
        "# 파일로 저장\n",
        "save_list_to_text(tokens_split, 'tokens_먹_0.txt')"
      ],
      "metadata": {
        "id": "jD2RIiCq5y7R"
      },
      "execution_count": null,
      "outputs": []
    },
    {
      "cell_type": "code",
      "source": [
        "# 저장된 파일 내용 확인\n",
        "print(\"파일 내용 확인:\")\n",
        "with open('tokens_먹_0.txt', 'r', encoding='utf-8') as f:\n",
        "    print(f.read())"
      ],
      "metadata": {
        "id": "6EegQpHW50SR"
      },
      "execution_count": null,
      "outputs": []
    },
    {
      "cell_type": "code",
      "source": [],
      "metadata": {
        "id": "2kQjuCzK6E-I"
      },
      "execution_count": null,
      "outputs": []
    },
    {
      "cell_type": "markdown",
      "source": [
        "# '먹다'와 '마시다' zipfR 라이브러리 활용"
      ],
      "metadata": {
        "id": "bBvpjjLDCXXP"
      }
    },
    {
      "cell_type": "code",
      "source": [
        "%load_ext rpy2.ipython"
      ],
      "metadata": {
        "id": "pxEKSFUHEHeJ"
      },
      "execution_count": null,
      "outputs": []
    },
    {
      "cell_type": "code",
      "source": [
        "%%R\n",
        "package_version(R.version)"
      ],
      "metadata": {
        "id": "fZHrp02NcyoD",
        "colab": {
          "base_uri": "https://localhost:8080/"
        },
        "outputId": "ead4f5f7-dd42-4ef9-d5f6-96c367857a7b"
      },
      "execution_count": null,
      "outputs": [
        {
          "output_type": "stream",
          "name": "stdout",
          "text": [
            "[1] ‘4.4.1’\n"
          ]
        }
      ]
    },
    {
      "cell_type": "code",
      "source": [
        "%%R\n",
        "# install.packages(\"zipfR\")\n",
        "library(zipfR)"
      ],
      "metadata": {
        "id": "XiTHZWloEUij"
      },
      "execution_count": null,
      "outputs": []
    },
    {
      "cell_type": "code",
      "source": [
        "%%R\n",
        "?zipfR"
      ],
      "metadata": {
        "id": "hTZMbw7GEY5A"
      },
      "execution_count": null,
      "outputs": []
    },
    {
      "cell_type": "code",
      "source": [
        "%%R\n",
        "adv <- readLines(\"brown_adverbs.txt\", encoding=\"UTF-8\")"
      ],
      "metadata": {
        "id": "6AW6k4BGEmHJ"
      },
      "execution_count": null,
      "outputs": []
    },
    {
      "cell_type": "code",
      "source": [
        "%%R\n",
        "head(adv, 30)"
      ],
      "metadata": {
        "colab": {
          "base_uri": "https://localhost:8080/"
        },
        "id": "WrD5bW-CEpE1",
        "outputId": "d4e3e280-0674-48b8-f4b0-8dfb32cf5112"
      },
      "execution_count": null,
      "outputs": [
        {
          "output_type": "stream",
          "name": "stdout",
          "text": [
            " [1] \"further\"      \"only\"         \"often\"        \"well\"         \"generally\"   \n",
            " [6] \"however\"      \"also\"         \"so\"           \"nevertheless\" \"also\"        \n",
            "[11] \"not\"          \"not\"          \"together\"     \"back\"         \"not\"         \n",
            "[16] \"newly\"        \"no\"           \"shortly\"      \"likely\"       \"earlier\"     \n",
            "[21] \"meanwhile\"    \"then\"         \"heavily\"      \"also\"         \"there\"       \n",
            "[26] \"apparently\"   \"however\"      \"not\"          \"yet\"          \"outright\"    \n"
          ]
        }
      ]
    },
    {
      "cell_type": "code",
      "source": [
        "%%R\n",
        "length(adv)"
      ],
      "metadata": {
        "colab": {
          "base_uri": "https://localhost:8080/"
        },
        "id": "2vc8Y8VTEuAB",
        "outputId": "3f29fa95-cf4a-427e-ec06-fba6376a2c38"
      },
      "execution_count": null,
      "outputs": [
        {
          "output_type": "stream",
          "name": "stdout",
          "text": [
            "[1] 52037\n"
          ]
        }
      ]
    },
    {
      "cell_type": "code",
      "source": [
        "%%R\n",
        "adv.tfl <- vec2tfl(adv)"
      ],
      "metadata": {
        "id": "wGLKY4HTExLV"
      },
      "execution_count": null,
      "outputs": []
    },
    {
      "cell_type": "code",
      "source": [
        "%%R\n",
        "plot(adv.tfl) # Type-Frequency List(Zipf ranking)"
      ],
      "metadata": {
        "colab": {
          "base_uri": "https://localhost:8080/",
          "height": 497
        },
        "id": "n30HzGE9E1l_",
        "outputId": "aa8eb485-cd02-482c-b1db-a163f4192b2e"
      },
      "execution_count": null,
      "outputs": [
        {
          "output_type": "display_data",
          "data": {
            "image/png": "[encoded data removed]"
          },
          "metadata": {}
        }
      ]
    },
    {
      "cell_type": "code",
      "source": [
        "corpus_df_0 = pd.read_parquet('split_corpus_df_0_pos_dp.parquet')"
      ],
      "metadata": {
        "id": "Gp3x_oJoFDiL"
      },
      "execution_count": null,
      "outputs": []
    },
    {
      "cell_type": "code",
      "source": [
        "corpus_df_0.head(10)"
      ],
      "metadata": {
        "colab": {
          "base_uri": "https://localhost:8080/",
          "height": 692
        },
        "id": "bbXxKB9gFccI",
        "outputId": "2aae4054-5e2e-46b9-d342-e5f88e4e6a7a"
      },
      "execution_count": null,
      "outputs": [
        {
          "output_type": "execute_result",
          "data": {
            "text/plain": [
              "           sentence_id                                           untagged  \\\n",
              "0   NIRW2300000001.1.1                     [영상]“위기를 이겨내고 일상으로” 부산 기관장 신년사   \n",
              "1   NIRW2300000001.1.2  취임 2년 차를 맞는 박형준 부산시장은 코로나19 위기를 이겨내고 있는 부산시민들에...   \n",
              "2   NIRW2300000001.1.3  박 시장은 “코로나19는 번번이 우리의 희망의 길목을 막아섰고, 지금도 여전히 민생...   \n",
              "3   NIRW2300000001.1.4  그러면서 “숱한 어려움을 헤쳐온 위대한 시민의 힘으로 2022년을 코로나를 극복하고...   \n",
              "4   NIRW2300000001.1.5  박 시장은 “치밀한 전략으로 2030세계박람회 유치를 위한 국제박람회기구 현지 실사...   \n",
              "5   NIRW2300000001.1.6  또, “부·울·경 특별자치단체 출범과 함께 수도권에 대응할 초광역 협력체계를 구축해...   \n",
              "6   NIRW2300000001.1.7  박 시장은 “완전히 새로워지는 부산, 그 안에서 행복한 일상을 누리는 부산시민의 모...   \n",
              "7   NIRW2300000001.1.8  신상해 부산시의회 의장은 ‘따뜻한 회복, 중단없는 발전’을 위해 계속 전진해나가겠다...   \n",
              "8   NIRW2300000001.1.9  신 의장은 “돌이켜보면 지난 한 해 부산은 고군분투하며 위기 속에 기회를 만드는 저...   \n",
              "9  NIRW2300000001.1.10  이어 “새해를 맞는 부산시의회 각오는 변함없이 결연하다”며 “코로나19 직격탄을 맞...   \n",
              "\n",
              "                                          pos_tagged  \\\n",
              "0  [[[, SS], [영상, NNG], [], SS], [“, SS], [위기, NN...   \n",
              "1  [[취임, NNG], [2, SN], [년, NNB], [차, NNB], [를, J...   \n",
              "2  [[박, NNP], [시장, NNG], [은, JX], [“, SS], [코로나, ...   \n",
              "3  [[그러, VV], [면서, EC], [“, SS], [숱하, VA], [ㄴ, ET...   \n",
              "4  [[박, NNP], [시장, NNG], [은, JX], [“, SS], [치밀하, ...   \n",
              "5  [[또, MAG], [,, SP], [“, SS], [부·울·경, NNP], [특별...   \n",
              "6  [[박, NNP], [시장, NNG], [은, JX], [“, SS], [완전히, ...   \n",
              "7  [[신상해, NNP], [부산시의회, NNP], [의장, NNG], [은, JX],...   \n",
              "8  [[신, NNP], [의장, NNG], [은, JX], [“, SS], [돌이켜보,...   \n",
              "9  [[이어, MAG], [“, SS], [새해, NNG], [를, JKO], [맞, ...   \n",
              "\n",
              "                                           dp_parsed  \n",
              "0  [[[, punct], [영상], advmod], [“, compound], [위기...  \n",
              "1  [[취임, compound], [2년, compound], [차를, obj], [맞...  \n",
              "2  [[박, compound], [시장은, dislocated], [“, advmod]...  \n",
              "3  [[그러면서, cc], [“, advmod], [숱한, amod], [어려움을, o...  \n",
              "4  [[박, compound], [시장은, dislocated], [“, advmod]...  \n",
              "5  [[또, cc], [,, punct], [“, compound], [부, conj]...  \n",
              "6  [[박, compound], [시장은, dislocated], [“, advmod]...  \n",
              "7  [[신상해, ccomp], [부산시의회, compound], [의장은, disloc...  \n",
              "8  [[신, compound], [의장은, dislocated], [“, dep], [...  \n",
              "9  [[이어, ccomp], [“, obj], [새해를, conj], [맞는, acl]...  "
            ],
            "text/html": [
              "\n",
              "  <div id=\"df-72561de6-4b4e-4dc0-b492-fe9625b76ef1\" class=\"colab-df-container\">\n",
              "    <div>\n",
              "<style scoped>\n",
              "    .dataframe tbody tr th:only-of-type {\n",
              "        vertical-align: middle;\n",
              "    }\n",
              "\n",
              "    .dataframe tbody tr th {\n",
              "        vertical-align: top;\n",
              "    }\n",
              "\n",
              "    .dataframe thead th {\n",
              "        text-align: right;\n",
              "    }\n",
              "</style>\n",
              "<table border=\"1\" class=\"dataframe\">\n",
              "  <thead>\n",
              "    <tr style=\"text-align: right;\">\n",
              "      <th></th>\n",
              "      <th>sentence_id</th>\n",
              "      <th>untagged</th>\n",
              "      <th>pos_tagged</th>\n",
              "      <th>dp_parsed</th>\n",
              "    </tr>\n",
              "  </thead>\n",
              "  <tbody>\n",
              "    <tr>\n",
              "      <th>0</th>\n",
              "      <td>NIRW2300000001.1.1</td>\n",
              "      <td>[영상]“위기를 이겨내고 일상으로” 부산 기관장 신년사</td>\n",
              "      <td>[[[, SS], [영상, NNG], [], SS], [“, SS], [위기, NN...</td>\n",
              "      <td>[[[, punct], [영상], advmod], [“, compound], [위기...</td>\n",
              "    </tr>\n",
              "    <tr>\n",
              "      <th>1</th>\n",
              "      <td>NIRW2300000001.1.2</td>\n",
              "      <td>취임 2년 차를 맞는 박형준 부산시장은 코로나19 위기를 이겨내고 있는 부산시민들에...</td>\n",
              "      <td>[[취임, NNG], [2, SN], [년, NNB], [차, NNB], [를, J...</td>\n",
              "      <td>[[취임, compound], [2년, compound], [차를, obj], [맞...</td>\n",
              "    </tr>\n",
              "    <tr>\n",
              "      <th>2</th>\n",
              "      <td>NIRW2300000001.1.3</td>\n",
              "      <td>박 시장은 “코로나19는 번번이 우리의 희망의 길목을 막아섰고, 지금도 여전히 민생...</td>\n",
              "      <td>[[박, NNP], [시장, NNG], [은, JX], [“, SS], [코로나, ...</td>\n",
              "      <td>[[박, compound], [시장은, dislocated], [“, advmod]...</td>\n",
              "    </tr>\n",
              "    <tr>\n",
              "      <th>3</th>\n",
              "      <td>NIRW2300000001.1.4</td>\n",
              "      <td>그러면서 “숱한 어려움을 헤쳐온 위대한 시민의 힘으로 2022년을 코로나를 극복하고...</td>\n",
              "      <td>[[그러, VV], [면서, EC], [“, SS], [숱하, VA], [ㄴ, ET...</td>\n",
              "      <td>[[그러면서, cc], [“, advmod], [숱한, amod], [어려움을, o...</td>\n",
              "    </tr>\n",
              "    <tr>\n",
              "      <th>4</th>\n",
              "      <td>NIRW2300000001.1.5</td>\n",
              "      <td>박 시장은 “치밀한 전략으로 2030세계박람회 유치를 위한 국제박람회기구 현지 실사...</td>\n",
              "      <td>[[박, NNP], [시장, NNG], [은, JX], [“, SS], [치밀하, ...</td>\n",
              "      <td>[[박, compound], [시장은, dislocated], [“, advmod]...</td>\n",
              "    </tr>\n",
              "    <tr>\n",
              "      <th>5</th>\n",
              "      <td>NIRW2300000001.1.6</td>\n",
              "      <td>또, “부·울·경 특별자치단체 출범과 함께 수도권에 대응할 초광역 협력체계를 구축해...</td>\n",
              "      <td>[[또, MAG], [,, SP], [“, SS], [부·울·경, NNP], [특별...</td>\n",
              "      <td>[[또, cc], [,, punct], [“, compound], [부, conj]...</td>\n",
              "    </tr>\n",
              "    <tr>\n",
              "      <th>6</th>\n",
              "      <td>NIRW2300000001.1.7</td>\n",
              "      <td>박 시장은 “완전히 새로워지는 부산, 그 안에서 행복한 일상을 누리는 부산시민의 모...</td>\n",
              "      <td>[[박, NNP], [시장, NNG], [은, JX], [“, SS], [완전히, ...</td>\n",
              "      <td>[[박, compound], [시장은, dislocated], [“, advmod]...</td>\n",
              "    </tr>\n",
              "    <tr>\n",
              "      <th>7</th>\n",
              "      <td>NIRW2300000001.1.8</td>\n",
              "      <td>신상해 부산시의회 의장은 ‘따뜻한 회복, 중단없는 발전’을 위해 계속 전진해나가겠다...</td>\n",
              "      <td>[[신상해, NNP], [부산시의회, NNP], [의장, NNG], [은, JX],...</td>\n",
              "      <td>[[신상해, ccomp], [부산시의회, compound], [의장은, disloc...</td>\n",
              "    </tr>\n",
              "    <tr>\n",
              "      <th>8</th>\n",
              "      <td>NIRW2300000001.1.9</td>\n",
              "      <td>신 의장은 “돌이켜보면 지난 한 해 부산은 고군분투하며 위기 속에 기회를 만드는 저...</td>\n",
              "      <td>[[신, NNP], [의장, NNG], [은, JX], [“, SS], [돌이켜보,...</td>\n",
              "      <td>[[신, compound], [의장은, dislocated], [“, dep], [...</td>\n",
              "    </tr>\n",
              "    <tr>\n",
              "      <th>9</th>\n",
              "      <td>NIRW2300000001.1.10</td>\n",
              "      <td>이어 “새해를 맞는 부산시의회 각오는 변함없이 결연하다”며 “코로나19 직격탄을 맞...</td>\n",
              "      <td>[[이어, MAG], [“, SS], [새해, NNG], [를, JKO], [맞, ...</td>\n",
              "      <td>[[이어, ccomp], [“, obj], [새해를, conj], [맞는, acl]...</td>\n",
              "    </tr>\n",
              "  </tbody>\n",
              "</table>\n",
              "</div>\n",
              "    <div class=\"colab-df-buttons\">\n",
              "\n",
              "  <div class=\"colab-df-container\">\n",
              "    <button class=\"colab-df-convert\" onclick=\"convertToInteractive('df-72561de6-4b4e-4dc0-b492-fe9625b76ef1')\"\n",
              "            title=\"Convert this dataframe to an interactive table.\"\n",
              "            style=\"display:none;\">\n",
              "\n",
              "  <svg xmlns=\"http://www.w3.org/2000/svg\" height=\"24px\" viewBox=\"0 -960 960 960\">\n",
              "    <path d=\"M120-120v-720h720v720H120Zm60-500h600v-160H180v160Zm220 220h160v-160H400v160Zm0 220h160v-160H400v160ZM180-400h160v-160H180v160Zm440 0h160v-160H620v160ZM180-180h160v-160H180v160Zm440 0h160v-160H620v160Z\"/>\n",
              "  </svg>\n",
              "    </button>\n",
              "\n",
              "  <style>\n",
              "    .colab-df-container {\n",
              "      display:flex;\n",
              "      gap: 12px;\n",
              "    }\n",
              "\n",
              "    .colab-df-convert {\n",
              "      background-color: #E8F0FE;\n",
              "      border: none;\n",
              "      border-radius: 50%;\n",
              "      cursor: pointer;\n",
              "      display: none;\n",
              "      fill: #1967D2;\n",
              "      height: 32px;\n",
              "      padding: 0 0 0 0;\n",
              "      width: 32px;\n",
              "    }\n",
              "\n",
              "    .colab-df-convert:hover {\n",
              "      background-color: #E2EBFA;\n",
              "      box-shadow: 0px 1px 2px rgba(60, 64, 67, 0.3), 0px 1px 3px 1px rgba(60, 64, 67, 0.15);\n",
              "      fill: #174EA6;\n",
              "    }\n",
              "\n",
              "    .colab-df-buttons div {\n",
              "      margin-bottom: 4px;\n",
              "    }\n",
              "\n",
              "    [theme=dark] .colab-df-convert {\n",
              "      background-color: #3B4455;\n",
              "      fill: #D2E3FC;\n",
              "    }\n",
              "\n",
              "    [theme=dark] .colab-df-convert:hover {\n",
              "      background-color: #434B5C;\n",
              "      box-shadow: 0px 1px 3px 1px rgba(0, 0, 0, 0.15);\n",
              "      filter: drop-shadow(0px 1px 2px rgba(0, 0, 0, 0.3));\n",
              "      fill: #FFFFFF;\n",
              "    }\n",
              "  </style>\n",
              "\n",
              "    <script>\n",
              "      const buttonEl =\n",
              "        document.querySelector('#df-72561de6-4b4e-4dc0-b492-fe9625b76ef1 button.colab-df-convert');\n",
              "      buttonEl.style.display =\n",
              "        google.colab.kernel.accessAllowed ? 'block' : 'none';\n",
              "\n",
              "      async function convertToInteractive(key) {\n",
              "        const element = document.querySelector('#df-72561de6-4b4e-4dc0-b492-fe9625b76ef1');\n",
              "        const dataTable =\n",
              "          await google.colab.kernel.invokeFunction('convertToInteractive',\n",
              "                                                    [key], {});\n",
              "        if (!dataTable) return;\n",
              "\n",
              "        const docLinkHtml = 'Like what you see? Visit the ' +\n",
              "          '<a target=\"_blank\" href=https://colab.research.google.com/notebooks/data_table.ipynb>data table notebook</a>'\n",
              "          + ' to learn more about interactive tables.';\n",
              "        element.innerHTML = '';\n",
              "        dataTable['output_type'] = 'display_data';\n",
              "        await google.colab.output.renderOutput(dataTable, element);\n",
              "        const docLink = document.createElement('div');\n",
              "        docLink.innerHTML = docLinkHtml;\n",
              "        element.appendChild(docLink);\n",
              "      }\n",
              "    </script>\n",
              "  </div>\n",
              "\n",
              "\n",
              "<div id=\"df-c72ddbe7-e2f9-4ee9-9eb2-29ce908ce81a\">\n",
              "  <button class=\"colab-df-quickchart\" onclick=\"quickchart('df-c72ddbe7-e2f9-4ee9-9eb2-29ce908ce81a')\"\n",
              "            title=\"Suggest charts\"\n",
              "            style=\"display:none;\">\n",
              "\n",
              "<svg xmlns=\"http://www.w3.org/2000/svg\" height=\"24px\"viewBox=\"0 0 24 24\"\n",
              "     width=\"24px\">\n",
              "    <g>\n",
              "        <path d=\"M19 3H5c-1.1 0-2 .9-2 2v14c0 1.1.9 2 2 2h14c1.1 0 2-.9 2-2V5c0-1.1-.9-2-2-2zM9 17H7v-7h2v7zm4 0h-2V7h2v10zm4 0h-2v-4h2v4z\"/>\n",
              "    </g>\n",
              "</svg>\n",
              "  </button>\n",
              "\n",
              "<style>\n",
              "  .colab-df-quickchart {\n",
              "      --bg-color: #E8F0FE;\n",
              "      --fill-color: #1967D2;\n",
              "      --hover-bg-color: #E2EBFA;\n",
              "      --hover-fill-color: #174EA6;\n",
              "      --disabled-fill-color: #AAA;\n",
              "      --disabled-bg-color: #DDD;\n",
              "  }\n",
              "\n",
              "  [theme=dark] .colab-df-quickchart {\n",
              "      --bg-color: #3B4455;\n",
              "      --fill-color: #D2E3FC;\n",
              "      --hover-bg-color: #434B5C;\n",
              "      --hover-fill-color: #FFFFFF;\n",
              "      --disabled-bg-color: #3B4455;\n",
              "      --disabled-fill-color: #666;\n",
              "  }\n",
              "\n",
              "  .colab-df-quickchart {\n",
              "    background-color: var(--bg-color);\n",
              "    border: none;\n",
              "    border-radius: 50%;\n",
              "    cursor: pointer;\n",
              "    display: none;\n",
              "    fill: var(--fill-color);\n",
              "    height: 32px;\n",
              "    padding: 0;\n",
              "    width: 32px;\n",
              "  }\n",
              "\n",
              "  .colab-df-quickchart:hover {\n",
              "    background-color: var(--hover-bg-color);\n",
              "    box-shadow: 0 1px 2px rgba(60, 64, 67, 0.3), 0 1px 3px 1px rgba(60, 64, 67, 0.15);\n",
              "    fill: var(--button-hover-fill-color);\n",
              "  }\n",
              "\n",
              "  .colab-df-quickchart-complete:disabled,\n",
              "  .colab-df-quickchart-complete:disabled:hover {\n",
              "    background-color: var(--disabled-bg-color);\n",
              "    fill: var(--disabled-fill-color);\n",
              "    box-shadow: none;\n",
              "  }\n",
              "\n",
              "  .colab-df-spinner {\n",
              "    border: 2px solid var(--fill-color);\n",
              "    border-color: transparent;\n",
              "    border-bottom-color: var(--fill-color);\n",
              "    animation:\n",
              "      spin 1s steps(1) infinite;\n",
              "  }\n",
              "\n",
              "  @keyframes spin {\n",
              "    0% {\n",
              "      border-color: transparent;\n",
              "      border-bottom-color: var(--fill-color);\n",
              "      border-left-color: var(--fill-color);\n",
              "    }\n",
              "    20% {\n",
              "      border-color: transparent;\n",
              "      border-left-color: var(--fill-color);\n",
              "      border-top-color: var(--fill-color);\n",
              "    }\n",
              "    30% {\n",
              "      border-color: transparent;\n",
              "      border-left-color: var(--fill-color);\n",
              "      border-top-color: var(--fill-color);\n",
              "      border-right-color: var(--fill-color);\n",
              "    }\n",
              "    40% {\n",
              "      border-color: transparent;\n",
              "      border-right-color: var(--fill-color);\n",
              "      border-top-color: var(--fill-color);\n",
              "    }\n",
              "    60% {\n",
              "      border-color: transparent;\n",
              "      border-right-color: var(--fill-color);\n",
              "    }\n",
              "    80% {\n",
              "      border-color: transparent;\n",
              "      border-right-color: var(--fill-color);\n",
              "      border-bottom-color: var(--fill-color);\n",
              "    }\n",
              "    90% {\n",
              "      border-color: transparent;\n",
              "      border-bottom-color: var(--fill-color);\n",
              "    }\n",
              "  }\n",
              "</style>\n",
              "\n",
              "  <script>\n",
              "    async function quickchart(key) {\n",
              "      const quickchartButtonEl =\n",
              "        document.querySelector('#' + key + ' button');\n",
              "      quickchartButtonEl.disabled = true;  // To prevent multiple clicks.\n",
              "      quickchartButtonEl.classList.add('colab-df-spinner');\n",
              "      try {\n",
              "        const charts = await google.colab.kernel.invokeFunction(\n",
              "            'suggestCharts', [key], {});\n",
              "      } catch (error) {\n",
              "        console.error('Error during call to suggestCharts:', error);\n",
              "      }\n",
              "      quickchartButtonEl.classList.remove('colab-df-spinner');\n",
              "      quickchartButtonEl.classList.add('colab-df-quickchart-complete');\n",
              "    }\n",
              "    (() => {\n",
              "      let quickchartButtonEl =\n",
              "        document.querySelector('#df-c72ddbe7-e2f9-4ee9-9eb2-29ce908ce81a button');\n",
              "      quickchartButtonEl.style.display =\n",
              "        google.colab.kernel.accessAllowed ? 'block' : 'none';\n",
              "    })();\n",
              "  </script>\n",
              "</div>\n",
              "\n",
              "    </div>\n",
              "  </div>\n"
            ],
            "application/vnd.google.colaboratory.intrinsic+json": {
              "type": "dataframe",
              "variable_name": "corpus_df_0"
            }
          },
          "metadata": {},
          "execution_count": 16
        }
      ]
    },
    {
      "cell_type": "code",
      "source": [
        "len(corpus_df_0)"
      ],
      "metadata": {
        "colab": {
          "base_uri": "https://localhost:8080/"
        },
        "id": "800h9C86FyXd",
        "outputId": "6c246c42-0589-494e-c520-a816879321d1"
      },
      "execution_count": null,
      "outputs": [
        {
          "output_type": "execute_result",
          "data": {
            "text/plain": [
              "899205"
            ]
          },
          "metadata": {},
          "execution_count": 17
        }
      ]
    },
    {
      "cell_type": "code",
      "source": [
        "corpus_df_0.info()"
      ],
      "metadata": {
        "colab": {
          "base_uri": "https://localhost:8080/"
        },
        "id": "NGnGu-pfQ48U",
        "outputId": "4b1f8954-4b6d-42ed-8fe1-bed38deebc47"
      },
      "execution_count": null,
      "outputs": [
        {
          "output_type": "stream",
          "name": "stdout",
          "text": [
            "<class 'pandas.core.frame.DataFrame'>\n",
            "RangeIndex: 899205 entries, 0 to 899204\n",
            "Data columns (total 4 columns):\n",
            " #   Column       Non-Null Count   Dtype \n",
            "---  ------       --------------   ----- \n",
            " 0   sentence_id  899205 non-null  object\n",
            " 1   untagged     899205 non-null  object\n",
            " 2   pos_tagged   899205 non-null  object\n",
            " 3   dp_parsed    899205 non-null  object\n",
            "dtypes: object(4)\n",
            "memory usage: 27.4+ MB\n"
          ]
        }
      ]
    },
    {
      "cell_type": "code",
      "source": [
        "corpus_df_0.dtypes"
      ],
      "metadata": {
        "colab": {
          "base_uri": "https://localhost:8080/",
          "height": 209
        },
        "id": "xdxwmDZXROIa",
        "outputId": "b8761f9a-f1f1-4a34-f7dd-11d44246f87b"
      },
      "execution_count": null,
      "outputs": [
        {
          "output_type": "execute_result",
          "data": {
            "text/plain": [
              "sentence_id    object\n",
              "untagged       object\n",
              "pos_tagged     object\n",
              "dp_parsed      object\n",
              "dtype: object"
            ],
            "text/html": [
              "<div>\n",
              "<style scoped>\n",
              "    .dataframe tbody tr th:only-of-type {\n",
              "        vertical-align: middle;\n",
              "    }\n",
              "\n",
              "    .dataframe tbody tr th {\n",
              "        vertical-align: top;\n",
              "    }\n",
              "\n",
              "    .dataframe thead th {\n",
              "        text-align: right;\n",
              "    }\n",
              "</style>\n",
              "<table border=\"1\" class=\"dataframe\">\n",
              "  <thead>\n",
              "    <tr style=\"text-align: right;\">\n",
              "      <th></th>\n",
              "      <th>0</th>\n",
              "    </tr>\n",
              "  </thead>\n",
              "  <tbody>\n",
              "    <tr>\n",
              "      <th>sentence_id</th>\n",
              "      <td>object</td>\n",
              "    </tr>\n",
              "    <tr>\n",
              "      <th>untagged</th>\n",
              "      <td>object</td>\n",
              "    </tr>\n",
              "    <tr>\n",
              "      <th>pos_tagged</th>\n",
              "      <td>object</td>\n",
              "    </tr>\n",
              "    <tr>\n",
              "      <th>dp_parsed</th>\n",
              "      <td>object</td>\n",
              "    </tr>\n",
              "  </tbody>\n",
              "</table>\n",
              "</div><br><label><b>dtype:</b> object</label>"
            ]
          },
          "metadata": {},
          "execution_count": 35
        }
      ]
    },
    {
      "cell_type": "code",
      "source": [
        "# '먹다', '마시다'와 공기하는 직접목적어를 찾고자 한다.\n",
        "# 우선 해당하는 동사가 있는 행을 찾아서 추출한다. ['먹', 'VV'], ['마시', 'VV']\n",
        "# 직접목적어에 해당하는 성분이 있는 경우 그 행을 추출한다. 'obj'"
      ],
      "metadata": {
        "id": "-nDb2rx-F-1y"
      },
      "execution_count": null,
      "outputs": []
    },
    {
      "cell_type": "code",
      "source": [
        "%%R\n",
        "먹_0_vec <- readLines(\"tokens_먹_0.txt\", encoding=\"UTF-8\")"
      ],
      "metadata": {
        "id": "f6VpQiQN6w-J"
      },
      "execution_count": null,
      "outputs": []
    },
    {
      "cell_type": "code",
      "source": [
        "%%R\n",
        "먹_0_tfl <- vec2tfl(먹_0_vec)"
      ],
      "metadata": {
        "id": "7ITuIudZ7LNP"
      },
      "execution_count": null,
      "outputs": []
    },
    {
      "cell_type": "code",
      "source": [
        "%%R\n",
        "plot(먹_0_tfl) # Type-Frequency List(Zipf ranking)"
      ],
      "metadata": {
        "colab": {
          "base_uri": "https://localhost:8080/",
          "height": 497
        },
        "id": "vxa_w4RK6-lP",
        "outputId": "5b06447c-9f23-445c-e806-5525851455a0"
      },
      "execution_count": null,
      "outputs": [
        {
          "output_type": "display_data",
          "data": {
            "image/png": "[encoded data removed]"
          },
          "metadata": {}
        }
      ]
    },
    {
      "cell_type": "code",
      "source": [
        "%%R\n",
        "plot(zm)"
      ],
      "metadata": {
        "colab": {
          "base_uri": "https://localhost:8080/",
          "height": 497
        },
        "id": "3Xbm8_TOCgbv",
        "outputId": "919f102e-4069-4cc7-dc23-0182998b63f0"
      },
      "execution_count": null,
      "outputs": [
        {
          "output_type": "display_data",
          "data": {
            "image/png": "[encoded data removed]"
          },
          "metadata": {}
        }
      ]
    },
    {
      "cell_type": "code",
      "source": [
        "%%R\n",
        "head(먹_0_tfl, 10)"
      ],
      "metadata": {
        "colab": {
          "base_uri": "https://localhost:8080/"
        },
        "id": "qdk1UC_K7RlY",
        "outputId": "1b1d7657-060d-40cc-f7a6-071f767e7a6f"
      },
      "execution_count": null,
      "outputs": [
        {
          "output_type": "stream",
          "name": "stdout",
          "text": [
            "        k  f   type\n",
            "마음    1 73   마음\n",
            "음식    2 68   음식\n",
            "밥      3 56     밥\n",
            "애      4 51     애\n",
            "한솥밥  5 45 한솥밥\n",
            "술      6 33     술\n",
            "욕      7 24     욕\n",
            "점심    8 21   점심\n",
            "겁      9 20     겁\n",
            "약     10 16     약\n",
            "\n",
            "   N   V\n",
            " 776 210\n"
          ]
        }
      ]
    },
    {
      "cell_type": "code",
      "source": [
        "%%R\n",
        "먹_0_spc <- vec2spc(먹_0_vec)\n",
        "plot(먹_0_spc)"
      ],
      "metadata": {
        "colab": {
          "base_uri": "https://localhost:8080/",
          "height": 497
        },
        "id": "yA_je6lg8Dgx",
        "outputId": "4e900839-8d75-4c26-8468-64d80a29b8fd"
      },
      "execution_count": null,
      "outputs": [
        {
          "output_type": "display_data",
          "data": {
            "image/png": "[encoded data removed]"
          },
          "metadata": {}
        }
      ]
    },
    {
      "cell_type": "code",
      "source": [
        "%%R\n",
        "먹_0_vgc <- vec2vgc(먹_0_vec)\n",
        "plot(먹_0_vgc)"
      ],
      "metadata": {
        "colab": {
          "base_uri": "https://localhost:8080/",
          "height": 497
        },
        "id": "-aeq_fnR8H3H",
        "outputId": "510c7712-8397-466c-b192-a5384294f963"
      },
      "execution_count": null,
      "outputs": [
        {
          "output_type": "display_data",
          "data": {
            "image/png": "[encoded data removed]"
          },
          "metadata": {}
        }
      ]
    },
    {
      "cell_type": "code",
      "source": [
        "%%R\n",
        "zm <- lnre(\"zm\",먹_0_spc)\n",
        "zm"
      ],
      "metadata": {
        "colab": {
          "base_uri": "https://localhost:8080/"
        },
        "id": "1xGq-J228btt",
        "outputId": "ea31caef-1d8b-42af-8546-d7d00cef01ed"
      },
      "execution_count": null,
      "outputs": [
        {
          "output_type": "stream",
          "name": "stdout",
          "text": [
            "Zipf-Mandelbrot LNRE model.\n",
            "Parameters:\n",
            "   Shape:          alpha = 0.6652697 \n",
            "   Upper cutoff:       B = 0.1443479 \n",
            " [ Normalization:      C = 0.6398318 ]\n",
            "Population size: S = Inf \n",
            "Sampling method: Poisson, with exact calculations.\n",
            "\n",
            "Parameters estimated from sample of size N = 776:\n",
            "                  V     V1   V2    V3   V4   V5    \n",
            "   Observed: 210.00 138.00 29.0  8.00 7.00 7.00 ...\n",
            "   Expected: 211.14 142.78 23.9 10.63 6.21 4.14 ...\n",
            "\n",
            "Goodness-of-fit (multivariate chi-squared test):\n",
            "         X2 df         p\n",
            "   2.089714  3 0.5539964\n"
          ]
        }
      ]
    },
    {
      "cell_type": "markdown",
      "source": [
        "# 그냥"
      ],
      "metadata": {
        "id": "csBOPFcEWWAH"
      }
    },
    {
      "cell_type": "code",
      "source": [
        "split_corpus_df_9_pos = pd.read_parquet('split_corpus_df_9_pos.parquet')"
      ],
      "metadata": {
        "id": "zREJSeRoWSJa"
      },
      "execution_count": null,
      "outputs": []
    },
    {
      "cell_type": "code",
      "source": [
        "split_corpus_df_9_pos.head()"
      ],
      "metadata": {
        "colab": {
          "base_uri": "https://localhost:8080/",
          "height": 293
        },
        "id": "8BDVTj5vWdDW",
        "outputId": "d2e25194-46d8-4b75-90a4-2f2f8f552724"
      },
      "execution_count": null,
      "outputs": [
        {
          "output_type": "execute_result",
          "data": {
            "text/plain": [
              "                    sentence_id  \\\n",
              "8092838  NWRW2300000005.14413.1   \n",
              "8092839  NWRW2300000005.14413.2   \n",
              "8092840  NWRW2300000005.14413.3   \n",
              "8092841  NWRW2300000005.14413.4   \n",
              "8092842  NWRW2300000005.14413.5   \n",
              "\n",
              "                                                  untagged  \\\n",
              "8092838               네이버클라우드-KOTRA, 국내 ICT 기업 해외 진출 지원 협력   \n",
              "8092839  네이버클라우드는 지난 28일 서울 염곡동에 위치한 KOTRA 본사에서 KOTRA와 ...   \n",
              "8092840  이번 협약으로 업계 인지도와 해외 네트워크가 부족한 국내 중소 ICT·SW 기업의 ...   \n",
              "8092841  네이버클라우드는 해외 진출이 유망한 ICT 분야의 중소기업과 스타트업을 발굴하고, ...   \n",
              "8092842  이와 더불어 양사는 국내 중소기업의 해외 마케팅 지원 및 해외 진출 인큐베이팅에 함...   \n",
              "\n",
              "                                                pos_tagged  \n",
              "8092838  [[네이버클라우드, NNP], [-, SO], [KOTRA, NNP], [,, SP...  \n",
              "8092839  [[네이버클라우드, NNP], [는, JX], [지나, VV], [ㄴ, ETM], ...  \n",
              "8092840  [[이번, NNG], [협약, NNG], [으로, JKB], [업계, NNG], [...  \n",
              "8092841  [[네이버클라우드, NNP], [는, JX], [해외, NNG], [진출, NNG]...  \n",
              "8092842  [[이, NP], [와, JKB], [더불, VV], [어, EC], [양, MMN...  "
            ],
            "text/html": [
              "\n",
              "  <div id=\"df-1a7d1ecf-a2e4-4e4c-976f-ae4d9d67a520\" class=\"colab-df-container\">\n",
              "    <div>\n",
              "<style scoped>\n",
              "    .dataframe tbody tr th:only-of-type {\n",
              "        vertical-align: middle;\n",
              "    }\n",
              "\n",
              "    .dataframe tbody tr th {\n",
              "        vertical-align: top;\n",
              "    }\n",
              "\n",
              "    .dataframe thead th {\n",
              "        text-align: right;\n",
              "    }\n",
              "</style>\n",
              "<table border=\"1\" class=\"dataframe\">\n",
              "  <thead>\n",
              "    <tr style=\"text-align: right;\">\n",
              "      <th></th>\n",
              "      <th>sentence_id</th>\n",
              "      <th>untagged</th>\n",
              "      <th>pos_tagged</th>\n",
              "    </tr>\n",
              "  </thead>\n",
              "  <tbody>\n",
              "    <tr>\n",
              "      <th>8092838</th>\n",
              "      <td>NWRW2300000005.14413.1</td>\n",
              "      <td>네이버클라우드-KOTRA, 국내 ICT 기업 해외 진출 지원 협력</td>\n",
              "      <td>[[네이버클라우드, NNP], [-, SO], [KOTRA, NNP], [,, SP...</td>\n",
              "    </tr>\n",
              "    <tr>\n",
              "      <th>8092839</th>\n",
              "      <td>NWRW2300000005.14413.2</td>\n",
              "      <td>네이버클라우드는 지난 28일 서울 염곡동에 위치한 KOTRA 본사에서 KOTRA와 ...</td>\n",
              "      <td>[[네이버클라우드, NNP], [는, JX], [지나, VV], [ㄴ, ETM], ...</td>\n",
              "    </tr>\n",
              "    <tr>\n",
              "      <th>8092840</th>\n",
              "      <td>NWRW2300000005.14413.3</td>\n",
              "      <td>이번 협약으로 업계 인지도와 해외 네트워크가 부족한 국내 중소 ICT·SW 기업의 ...</td>\n",
              "      <td>[[이번, NNG], [협약, NNG], [으로, JKB], [업계, NNG], [...</td>\n",
              "    </tr>\n",
              "    <tr>\n",
              "      <th>8092841</th>\n",
              "      <td>NWRW2300000005.14413.4</td>\n",
              "      <td>네이버클라우드는 해외 진출이 유망한 ICT 분야의 중소기업과 스타트업을 발굴하고, ...</td>\n",
              "      <td>[[네이버클라우드, NNP], [는, JX], [해외, NNG], [진출, NNG]...</td>\n",
              "    </tr>\n",
              "    <tr>\n",
              "      <th>8092842</th>\n",
              "      <td>NWRW2300000005.14413.5</td>\n",
              "      <td>이와 더불어 양사는 국내 중소기업의 해외 마케팅 지원 및 해외 진출 인큐베이팅에 함...</td>\n",
              "      <td>[[이, NP], [와, JKB], [더불, VV], [어, EC], [양, MMN...</td>\n",
              "    </tr>\n",
              "  </tbody>\n",
              "</table>\n",
              "</div>\n",
              "    <div class=\"colab-df-buttons\">\n",
              "\n",
              "  <div class=\"colab-df-container\">\n",
              "    <button class=\"colab-df-convert\" onclick=\"convertToInteractive('df-1a7d1ecf-a2e4-4e4c-976f-ae4d9d67a520')\"\n",
              "            title=\"Convert this dataframe to an interactive table.\"\n",
              "            style=\"display:none;\">\n",
              "\n",
              "  <svg xmlns=\"http://www.w3.org/2000/svg\" height=\"24px\" viewBox=\"0 -960 960 960\">\n",
              "    <path d=\"M120-120v-720h720v720H120Zm60-500h600v-160H180v160Zm220 220h160v-160H400v160Zm0 220h160v-160H400v160ZM180-400h160v-160H180v160Zm440 0h160v-160H620v160ZM180-180h160v-160H180v160Zm440 0h160v-160H620v160Z\"/>\n",
              "  </svg>\n",
              "    </button>\n",
              "\n",
              "  <style>\n",
              "    .colab-df-container {\n",
              "      display:flex;\n",
              "      gap: 12px;\n",
              "    }\n",
              "\n",
              "    .colab-df-convert {\n",
              "      background-color: #E8F0FE;\n",
              "      border: none;\n",
              "      border-radius: 50%;\n",
              "      cursor: pointer;\n",
              "      display: none;\n",
              "      fill: #1967D2;\n",
              "      height: 32px;\n",
              "      padding: 0 0 0 0;\n",
              "      width: 32px;\n",
              "    }\n",
              "\n",
              "    .colab-df-convert:hover {\n",
              "      background-color: #E2EBFA;\n",
              "      box-shadow: 0px 1px 2px rgba(60, 64, 67, 0.3), 0px 1px 3px 1px rgba(60, 64, 67, 0.15);\n",
              "      fill: #174EA6;\n",
              "    }\n",
              "\n",
              "    .colab-df-buttons div {\n",
              "      margin-bottom: 4px;\n",
              "    }\n",
              "\n",
              "    [theme=dark] .colab-df-convert {\n",
              "      background-color: #3B4455;\n",
              "      fill: #D2E3FC;\n",
              "    }\n",
              "\n",
              "    [theme=dark] .colab-df-convert:hover {\n",
              "      background-color: #434B5C;\n",
              "      box-shadow: 0px 1px 3px 1px rgba(0, 0, 0, 0.15);\n",
              "      filter: drop-shadow(0px 1px 2px rgba(0, 0, 0, 0.3));\n",
              "      fill: #FFFFFF;\n",
              "    }\n",
              "  </style>\n",
              "\n",
              "    <script>\n",
              "      const buttonEl =\n",
              "        document.querySelector('#df-1a7d1ecf-a2e4-4e4c-976f-ae4d9d67a520 button.colab-df-convert');\n",
              "      buttonEl.style.display =\n",
              "        google.colab.kernel.accessAllowed ? 'block' : 'none';\n",
              "\n",
              "      async function convertToInteractive(key) {\n",
              "        const element = document.querySelector('#df-1a7d1ecf-a2e4-4e4c-976f-ae4d9d67a520');\n",
              "        const dataTable =\n",
              "          await google.colab.kernel.invokeFunction('convertToInteractive',\n",
              "                                                    [key], {});\n",
              "        if (!dataTable) return;\n",
              "\n",
              "        const docLinkHtml = 'Like what you see? Visit the ' +\n",
              "          '<a target=\"_blank\" href=https://colab.research.google.com/notebooks/data_table.ipynb>data table notebook</a>'\n",
              "          + ' to learn more about interactive tables.';\n",
              "        element.innerHTML = '';\n",
              "        dataTable['output_type'] = 'display_data';\n",
              "        await google.colab.output.renderOutput(dataTable, element);\n",
              "        const docLink = document.createElement('div');\n",
              "        docLink.innerHTML = docLinkHtml;\n",
              "        element.appendChild(docLink);\n",
              "      }\n",
              "    </script>\n",
              "  </div>\n",
              "\n",
              "\n",
              "<div id=\"df-698c7364-56ec-468d-bff4-d1e1d558840a\">\n",
              "  <button class=\"colab-df-quickchart\" onclick=\"quickchart('df-698c7364-56ec-468d-bff4-d1e1d558840a')\"\n",
              "            title=\"Suggest charts\"\n",
              "            style=\"display:none;\">\n",
              "\n",
              "<svg xmlns=\"http://www.w3.org/2000/svg\" height=\"24px\"viewBox=\"0 0 24 24\"\n",
              "     width=\"24px\">\n",
              "    <g>\n",
              "        <path d=\"M19 3H5c-1.1 0-2 .9-2 2v14c0 1.1.9 2 2 2h14c1.1 0 2-.9 2-2V5c0-1.1-.9-2-2-2zM9 17H7v-7h2v7zm4 0h-2V7h2v10zm4 0h-2v-4h2v4z\"/>\n",
              "    </g>\n",
              "</svg>\n",
              "  </button>\n",
              "\n",
              "<style>\n",
              "  .colab-df-quickchart {\n",
              "      --bg-color: #E8F0FE;\n",
              "      --fill-color: #1967D2;\n",
              "      --hover-bg-color: #E2EBFA;\n",
              "      --hover-fill-color: #174EA6;\n",
              "      --disabled-fill-color: #AAA;\n",
              "      --disabled-bg-color: #DDD;\n",
              "  }\n",
              "\n",
              "  [theme=dark] .colab-df-quickchart {\n",
              "      --bg-color: #3B4455;\n",
              "      --fill-color: #D2E3FC;\n",
              "      --hover-bg-color: #434B5C;\n",
              "      --hover-fill-color: #FFFFFF;\n",
              "      --disabled-bg-color: #3B4455;\n",
              "      --disabled-fill-color: #666;\n",
              "  }\n",
              "\n",
              "  .colab-df-quickchart {\n",
              "    background-color: var(--bg-color);\n",
              "    border: none;\n",
              "    border-radius: 50%;\n",
              "    cursor: pointer;\n",
              "    display: none;\n",
              "    fill: var(--fill-color);\n",
              "    height: 32px;\n",
              "    padding: 0;\n",
              "    width: 32px;\n",
              "  }\n",
              "\n",
              "  .colab-df-quickchart:hover {\n",
              "    background-color: var(--hover-bg-color);\n",
              "    box-shadow: 0 1px 2px rgba(60, 64, 67, 0.3), 0 1px 3px 1px rgba(60, 64, 67, 0.15);\n",
              "    fill: var(--button-hover-fill-color);\n",
              "  }\n",
              "\n",
              "  .colab-df-quickchart-complete:disabled,\n",
              "  .colab-df-quickchart-complete:disabled:hover {\n",
              "    background-color: var(--disabled-bg-color);\n",
              "    fill: var(--disabled-fill-color);\n",
              "    box-shadow: none;\n",
              "  }\n",
              "\n",
              "  .colab-df-spinner {\n",
              "    border: 2px solid var(--fill-color);\n",
              "    border-color: transparent;\n",
              "    border-bottom-color: var(--fill-color);\n",
              "    animation:\n",
              "      spin 1s steps(1) infinite;\n",
              "  }\n",
              "\n",
              "  @keyframes spin {\n",
              "    0% {\n",
              "      border-color: transparent;\n",
              "      border-bottom-color: var(--fill-color);\n",
              "      border-left-color: var(--fill-color);\n",
              "    }\n",
              "    20% {\n",
              "      border-color: transparent;\n",
              "      border-left-color: var(--fill-color);\n",
              "      border-top-color: var(--fill-color);\n",
              "    }\n",
              "    30% {\n",
              "      border-color: transparent;\n",
              "      border-left-color: var(--fill-color);\n",
              "      border-top-color: var(--fill-color);\n",
              "      border-right-color: var(--fill-color);\n",
              "    }\n",
              "    40% {\n",
              "      border-color: transparent;\n",
              "      border-right-color: var(--fill-color);\n",
              "      border-top-color: var(--fill-color);\n",
              "    }\n",
              "    60% {\n",
              "      border-color: transparent;\n",
              "      border-right-color: var(--fill-color);\n",
              "    }\n",
              "    80% {\n",
              "      border-color: transparent;\n",
              "      border-right-color: var(--fill-color);\n",
              "      border-bottom-color: var(--fill-color);\n",
              "    }\n",
              "    90% {\n",
              "      border-color: transparent;\n",
              "      border-bottom-color: var(--fill-color);\n",
              "    }\n",
              "  }\n",
              "</style>\n",
              "\n",
              "  <script>\n",
              "    async function quickchart(key) {\n",
              "      const quickchartButtonEl =\n",
              "        document.querySelector('#' + key + ' button');\n",
              "      quickchartButtonEl.disabled = true;  // To prevent multiple clicks.\n",
              "      quickchartButtonEl.classList.add('colab-df-spinner');\n",
              "      try {\n",
              "        const charts = await google.colab.kernel.invokeFunction(\n",
              "            'suggestCharts', [key], {});\n",
              "      } catch (error) {\n",
              "        console.error('Error during call to suggestCharts:', error);\n",
              "      }\n",
              "      quickchartButtonEl.classList.remove('colab-df-spinner');\n",
              "      quickchartButtonEl.classList.add('colab-df-quickchart-complete');\n",
              "    }\n",
              "    (() => {\n",
              "      let quickchartButtonEl =\n",
              "        document.querySelector('#df-698c7364-56ec-468d-bff4-d1e1d558840a button');\n",
              "      quickchartButtonEl.style.display =\n",
              "        google.colab.kernel.accessAllowed ? 'block' : 'none';\n",
              "    })();\n",
              "  </script>\n",
              "</div>\n",
              "\n",
              "    </div>\n",
              "  </div>\n"
            ],
            "application/vnd.google.colaboratory.intrinsic+json": {
              "type": "dataframe",
              "variable_name": "split_corpus_df_9_pos"
            }
          },
          "metadata": {},
          "execution_count": 117
        }
      ]
    },
    {
      "cell_type": "code",
      "source": [
        "del split_corpus_df_9_pos"
      ],
      "metadata": {
        "id": "m4r0Wc-fWncN"
      },
      "execution_count": null,
      "outputs": []
    },
    {
      "cell_type": "code",
      "source": [],
      "metadata": {
        "id": "Yslr0KJgd_Kt"
      },
      "execution_count": null,
      "outputs": []
    }
  ]
}