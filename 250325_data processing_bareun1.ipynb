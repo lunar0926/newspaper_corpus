{
 "cells": [
  {
   "cell_type": "markdown",
   "metadata": {},
   "source": [
    "pip install -r requirements.txt (가상환경에 이미 설치됨)\n",
    "\n",
    "주피터노트북 커널 연결(python -m ipykernel install --user --name myenv --display-name corpus)\n",
    "\n",
    "한글 폰트(주피터랩 자체를 다시 켜야지 폰트 적용되는 것 같음.)\n",
    "\n",
    "apt-get update\n",
    "\n",
    "apt-get install -y fonts-nanum"
   ]
  },
  {
   "cell_type": "markdown",
   "metadata": {},
   "source": [
    "# bareun download(bareunpy-1.6.6)"
   ]
  },
  {
   "cell_type": "code",
   "execution_count": null,
   "metadata": {
    "colab": {
     "base_uri": "https://localhost:8080/"
    },
    "id": "yoyUMMwocSKm",
    "outputId": "4674971a-e827-4f6d-8edd-a8d4aafa1de6"
   },
   "outputs": [],
   "source": [
    "# 바른 형태소 분석기 리눅스 설치\n",
    "!curl -LJks -H \"uname:$(uname -a)\" https://bareun.ai/api/get -o bareun-linux.deb"
   ]
  },
  {
   "cell_type": "code",
   "execution_count": null,
   "metadata": {
    "colab": {
     "base_uri": "https://localhost:8080/"
    },
    "id": "oId7EDuCdYQX",
    "outputId": "f2fb72a1-303f-42e1-b3ad-69e0eaa0723a"
   },
   "outputs": [],
   "source": [
    "# 설치\n",
    "!uname -a\n",
    "!dpkg -i bareun-linux.deb"
   ]
  },
  {
   "cell_type": "code",
   "execution_count": null,
   "metadata": {
    "colab": {
     "base_uri": "https://localhost:8080/"
    },
    "id": "g9Ik9idOfBJy",
    "outputId": "cd158d2b-abd4-4dbc-f7ad-fd0022505c16"
   },
   "outputs": [],
   "source": [
    "!BAREUN_ROOT=\"/opt/bareun\" LD_LIBRARY_PATH=\"/opt/bareun/lib\" /opt/bareun/bin/bareun -reg koba-VAD6MMA-BFSU7XI-SYQYWYY-Y4MXHVA"
   ]
  },
  {
   "cell_type": "code",
   "execution_count": null,
   "metadata": {
    "colab": {
     "base_uri": "https://localhost:8080/"
    },
    "id": "u_0IDJNBddrK",
    "outputId": "1254d6b9-9f7b-4285-fe6f-638a969b933c"
   },
   "outputs": [],
   "source": [
    "# 실행 정보\n",
    "!ps -ef | grep bareun"
   ]
  },
  {
   "cell_type": "markdown",
   "metadata": {},
   "source": [
    "# library"
   ]
  },
  {
   "cell_type": "code",
   "execution_count": 1,
   "metadata": {},
   "outputs": [],
   "source": [
    "import bareunpy as brn\n",
    "import google.protobuf.text_format as tf\n",
    "import sys\n",
    "import tqdm\n",
    "import pandas as pd\n",
    "import pyarrow\n",
    "import fastparquet"
   ]
  },
  {
   "cell_type": "markdown",
   "metadata": {},
   "source": [
    "# bareun test"
   ]
  },
  {
   "cell_type": "code",
   "execution_count": 2,
   "metadata": {
    "colab": {
     "base_uri": "https://localhost:8080/"
    },
    "id": "exI9llpleLJb",
    "outputId": "93a04b48-ac62-451a-95b9-958d199c938d",
    "scrolled": true
   },
   "outputs": [
    {
     "name": "stdout",
     "output_type": "stream",
     "text": [
      "sentences {\n",
      "  text {\n",
      "    content: \"안녕하세요. 정말 좋은 날씨네요.\"\n",
      "    length: 18\n",
      "  }\n",
      "  tokens {\n",
      "    text {\n",
      "      content: \"안녕하세요.\"\n",
      "      length: 6\n",
      "    }\n",
      "    morphemes {\n",
      "      text {\n",
      "        content: \"안녕하\"\n",
      "        length: 3\n",
      "      }\n",
      "      tag: VA\n",
      "      out_of_vocab: IN_BUILTIN_DICT\n",
      "    }\n",
      "    morphemes {\n",
      "      text {\n",
      "        content: \"시\"\n",
      "        begin_offset: 3\n",
      "        length: 1\n",
      "      }\n",
      "      tag: EP\n",
      "      probability: 0.99983704\n",
      "    }\n",
      "    morphemes {\n",
      "      text {\n",
      "        content: \"어요\"\n",
      "        begin_offset: 3\n",
      "        length: 2\n",
      "      }\n",
      "      tag: EF\n",
      "      probability: 0.9785348\n",
      "    }\n",
      "    morphemes {\n",
      "      text {\n",
      "        content: \".\"\n",
      "        begin_offset: 5\n",
      "        length: 1\n",
      "      }\n",
      "      tag: SF\n",
      "      probability: 0.9992842\n",
      "    }\n",
      "    lemma: \"안녕하\"\n",
      "    tagged: \"안녕하/VA+시/EP+어요/EF+./SF\"\n",
      "  }\n",
      "  tokens {\n",
      "    text {\n",
      "      content: \"정말\"\n",
      "      begin_offset: 7\n",
      "      length: 2\n",
      "    }\n",
      "    morphemes {\n",
      "      text {\n",
      "        content: \"정말\"\n",
      "        begin_offset: 7\n",
      "        length: 2\n",
      "      }\n",
      "      tag: MAG\n",
      "      probability: 0.98691875\n",
      "    }\n",
      "    lemma: \"정말\"\n",
      "    tagged: \"정말/MAG\"\n",
      "  }\n",
      "  tokens {\n",
      "    text {\n",
      "      content: \"좋은\"\n",
      "      begin_offset: 10\n",
      "      length: 2\n",
      "    }\n",
      "    morphemes {\n",
      "      text {\n",
      "        content: \"좋\"\n",
      "        begin_offset: 10\n",
      "        length: 1\n",
      "      }\n",
      "      tag: VA\n",
      "      probability: 0.9769151\n",
      "    }\n",
      "    morphemes {\n",
      "      text {\n",
      "        content: \"은\"\n",
      "        begin_offset: 11\n",
      "        length: 1\n",
      "      }\n",
      "      tag: ETM\n",
      "      probability: 0.99943906\n",
      "    }\n",
      "    lemma: \"좋\"\n",
      "    tagged: \"좋/VA+은/ETM\"\n",
      "  }\n",
      "  tokens {\n",
      "    text {\n",
      "      content: \"날씨네요.\"\n",
      "      begin_offset: 13\n",
      "      length: 5\n",
      "    }\n",
      "    morphemes {\n",
      "      text {\n",
      "        content: \"날씨\"\n",
      "        begin_offset: 13\n",
      "        length: 2\n",
      "      }\n",
      "      tag: NNG\n",
      "      probability: 0.9605025\n",
      "    }\n",
      "    morphemes {\n",
      "      text {\n",
      "        content: \"이\"\n",
      "        begin_offset: 15\n",
      "        length: 1\n",
      "      }\n",
      "      tag: VCP\n",
      "      probability: 0.9999536\n",
      "    }\n",
      "    morphemes {\n",
      "      text {\n",
      "        content: \"네\"\n",
      "        begin_offset: 15\n",
      "        length: 1\n",
      "      }\n",
      "      tag: EF\n",
      "      probability: 0.98748744\n",
      "    }\n",
      "    morphemes {\n",
      "      text {\n",
      "        content: \"요\"\n",
      "        begin_offset: 16\n",
      "        length: 1\n",
      "      }\n",
      "      tag: JX\n",
      "      probability: 0.99405426\n",
      "    }\n",
      "    morphemes {\n",
      "      text {\n",
      "        content: \".\"\n",
      "        begin_offset: 17\n",
      "        length: 1\n",
      "      }\n",
      "      tag: SF\n",
      "      probability: 0.99960953\n",
      "    }\n",
      "    lemma: \"날씨\"\n",
      "    tagged: \"날씨/NNG+이/VCP+네/EF+요/JX+./SF\"\n",
      "  }\n",
      "  refined: \"안녕하세요. 정말 좋은 날씨네요.\"\n",
      "}\n",
      "language: \"ko_KR\"\n"
     ]
    }
   ],
   "source": [
    "# 아래에 \"https://bareun.ai/\"에서 이메일 인증 후 발급받은 API KEY(\"koba-...\")를 입력해주세요. \"로그인-내정보 확인\"\n",
    "API_KEY = \"koba-VAD6MMA-BFSU7XI-SYQYWYY-Y4MXHVA\" # <- 본인의 API KEY로 교체\n",
    "t = brn.Tagger(API_KEY, \"localhost\", 5656) # tagger는 변수 t에 할당\n",
    "res = t.tags([\"안녕하세요. 정말 좋은 날씨네요.\"]) # t.tags()에 리스트로 한 문장을 입력\n",
    "m = res.msg() # 분석 결과를 객체로 저장하여 변수 m에 할당\n",
    "\n",
    "tf.PrintMessage(m, out=sys.stdout, as_utf8=True) # 분석 결과 객체 m을 가독성 좋게 표시."
   ]
  },
  {
   "cell_type": "markdown",
   "metadata": {},
   "source": [
    "# 데이터 확인"
   ]
  },
  {
   "cell_type": "code",
   "execution_count": 3,
   "metadata": {},
   "outputs": [],
   "source": [
    "def tag_sentences_with_bareun(df, api_key, host='localhost', port=5656):\n",
    "    # Bareun Tagger 초기화\n",
    "    t = brn.Tagger(api_key, host, port)\n",
    "\n",
    "    # 총 문장 수 출력\n",
    "    print(f\"Total number of sentences to tag: {len(df)}\")\n",
    "    \n",
    "    # 각 문장 태깅 함수\n",
    "    def tag_sentence(sentence):\n",
    "      try:\n",
    "          res = t.tags([sentence])\n",
    "          return list(res.pos())\n",
    "      except Exception as e:\n",
    "          print(f\"Error tagging sentence: {sentence}\")\n",
    "          print(f\"Error: {e}\")\n",
    "          return []\n",
    "\n",
    "    tagged_sentences = []\n",
    "    for sentence in tqdm.tqdm(df['sentence'], desc=\"Tagging Sentences\", mininterval=10):\n",
    "        tagged_sentences.append(tag_sentence(sentence))\n",
    "    \n",
    "    # 새로운 'tagged_sentence' 열 추가\n",
    "    df['tagged_sentence'] = tagged_sentences\n",
    "    \n",
    "    return df"
   ]
  }
 ],
 "metadata": {
  "colab": {
   "authorship_tag": "ABX9TyOWWO2B45wo1VApX5/+1SwU",
   "collapsed_sections": [
    "7tqG7llvW6T1",
    "V6zC-kTAizmj",
    "TG5lOS-sCVFA"
   ],
   "include_colab_link": true,
   "provenance": []
  },
  "kernelspec": {
   "display_name": "Python 3 (ipykernel)",
   "language": "python",
   "name": "python3"
  },
  "language_info": {
   "codemirror_mode": {
    "name": "ipython",
    "version": 3
   },
   "file_extension": ".py",
   "mimetype": "text/x-python",
   "name": "python",
   "nbconvert_exporter": "python",
   "pygments_lexer": "ipython3",
   "version": "3.11.0rc1"
  }
 },
 "nbformat": 4,
 "nbformat_minor": 4
}
